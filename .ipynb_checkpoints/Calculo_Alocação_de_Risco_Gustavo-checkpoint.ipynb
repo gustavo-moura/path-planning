{
 "cells": [
  {
   "cell_type": "markdown",
   "metadata": {
    "colab_type": "text",
    "heading_collapsed": true,
    "id": "5MboGZL1x4nW"
   },
   "source": [
    "# Algoritmo Genético Versão Ensamble\n",
    "\n",
    "Essa versão inclui:\n",
    "- Otimização da rota (V1)\n",
    "- Otimização da quantidade de waypoints (V2)\n",
    "- Risco Inflado: Inflação das áreas não-navegáveis (V3)\n",
    "- Alocação de risco (V3.5)"
   ]
  },
  {
   "cell_type": "markdown",
   "metadata": {
    "colab_type": "text",
    "heading_collapsed": true,
    "id": "pGjof19Ex4nk"
   },
   "source": [
    "# 1. Utils\n",
    "Essa seção contém funções auxiliares para o algoritmo."
   ]
  },
  {
   "cell_type": "markdown",
   "metadata": {
    "colab_type": "text",
    "heading_collapsed": true,
    "hidden": true,
    "id": "F0mG6fIhx4nn"
   },
   "source": [
    "## utils.py"
   ]
  },
  {
   "cell_type": "code",
   "execution_count": 1,
   "metadata": {
    "code_folding": [
     5,
     11,
     17,
     28,
     52,
     99,
     123,
     176,
     186,
     211,
     247
    ],
    "colab": {},
    "colab_type": "code",
    "hidden": true,
    "id": "DYanBbj4x4nr"
   },
   "outputs": [],
   "source": [
    "import itertools\n",
    "from scipy.stats import norm\n",
    "\n",
    "# Support Functions\n",
    "# _________________________________________________________________________________________________\n",
    "def pairwise_circle(iterable):\n",
    "    \"s -> (s0,s1), (s1,s2), (s2, s3), ... (s<last>,s0)\"\n",
    "    a, b = itertools.tee(iterable)\n",
    "    first_value = next(b, None)\n",
    "    return itertools.zip_longest(a, b,fillvalue=first_value)\n",
    "\n",
    "def pairwise(iterable):\n",
    "    \"s -> (s0,s1), (s1,s2), (s2, s3), ...\"\n",
    "    a, b = itertools.tee(iterable)\n",
    "    next(b, None)\n",
    "    return zip(a, b)\n",
    "\n",
    "def boundary(val, val_min, val_max):\n",
    "  if val<val_min:\n",
    "    return val_min\n",
    "  if val>val_max:\n",
    "    return val_max\n",
    "  return val\n",
    "\n",
    "# Ray Casting Algorithm\n",
    "# _________________________________________________________________________________________________\n",
    "epsilon = 0.00001  # Used on the Ray-Tracing Algorithm\n",
    "\n",
    "def point_in_polygon(point, polygon):\n",
    "    # Using ray_casting algorithm\n",
    "    # https://rosettacode.org/wiki/Ray-casting_algorithm\n",
    "\n",
    "    count = 0\n",
    "    \n",
    "    for vertex1, vertex2 in pairwise_circle(polygon):\n",
    "\n",
    "        if vertex1.y < vertex2.y:\n",
    "            A = vertex1\n",
    "            B = vertex2\n",
    "        else:\n",
    "            A = vertex2\n",
    "            B = vertex1\n",
    "\n",
    "        if ray_intersects_segment(point, A, B):\n",
    "            count += 1\n",
    "\n",
    "    if count % 2 == 0: # Odd\n",
    "        return False \n",
    "    else:\n",
    "        return True # Inside the polygon\n",
    "    \n",
    "\n",
    "def ray_intersects_segment(P, A, B):\n",
    "    # P : the point from which the ray starts\n",
    "    # A : the end-point of the segment with the smallest y coordinate\n",
    "    #     (A must be \"below\" B)\n",
    "    # B : the end-point of the segment with the greatest y coordinate\n",
    "    #     (B must be \"above\" A)\n",
    "\n",
    "    # To avoid the \"ray on vertex\" problem, the point is moved upward of a small quantity epsilon.\n",
    "    if P.y == A.y or P.y == B.y:\n",
    "        P.y += epsilon\n",
    "\n",
    "    # Point higher or lower than polygon\n",
    "    if P.y < A.y or P.y > B.y:\n",
    "        return False\n",
    "\n",
    "    # Point to the right of the polygon\n",
    "    elif P.x >= max(A.x, B.x):\n",
    "        return False \n",
    "\n",
    "    else:\n",
    "\n",
    "        if P.x < min(A.x, B.x):\n",
    "            return True\n",
    "\n",
    "        else:\n",
    "\n",
    "            if A.x != B.x:\n",
    "                m_red = (B.y - A.y)/(B.x - A.x)\n",
    "            else:\n",
    "                m_red = 99999999 # Infinite\n",
    "\n",
    "\n",
    "            if A.x != P.x:\n",
    "                m_blue = (P.y - A.y)/(P.x - A.x)\n",
    "            else:\n",
    "                m_blue = 99999999 # Infinite\n",
    "\n",
    "\n",
    "            if m_blue >= m_red:\n",
    "                return True\n",
    "            else:\n",
    "                return False\n",
    "\n",
    "\n",
    "\n",
    "# Segment Intersection\n",
    "# _________________________________________________________________________________________________\n",
    "def segment_in_polygon(wp1, wp2, polygon):\n",
    "    # count = 0\n",
    "    #print('Segment: {}-{}'.format(wp1,wp2))\n",
    "\n",
    "    for vertex1, vertex2 in pairwise_circle(polygon):\n",
    "        A = vertex1\n",
    "        B = vertex2\n",
    "        #if vertex1.y < vertex2.y:\n",
    "        #    A = vertex1\n",
    "        #    B = vertex2\n",
    "        #else:\n",
    "        #    A = vertex2\n",
    "        #    B = vertex1\n",
    "        #print('Polygon edge: {}-{}'.format(A, B))\n",
    "\n",
    "        if segment_intersects_segment(wp1, wp2, A, B):\n",
    "            return True\n",
    "    return False\n",
    "    # if count > 1:\n",
    "    #     return True \n",
    "    # else:\n",
    "    #     return False \n",
    "    \n",
    "\n",
    "def segment_intersects_segment(p1, q1, p2, q2):\n",
    "    # Returns true if line segment 'p1q1' and 'p2q2' intersect. \n",
    "    # Based on the algorithm from https://www.geeksforgeeks.org/check-if-two-given-line-segments-intersect/\n",
    "\n",
    "    \n",
    "    # Two segments (p1,q1) and (p2,q2) intersect if and only if one of the following two conditions is verified:\n",
    "    #\n",
    "    # 1. General Case:\n",
    "    # – (p1, q1, p2) and (p1, q1, q2) have different orientations and\n",
    "    # – (p2, q2, p1) and (p2, q2, q1) have different orientations.\n",
    "    #\n",
    "    # 2. Special Case\n",
    "    # – (p1, q1, p2), (p1, q1, q2), (p2, q2, p1), and (p2, q2, q1) are all collinear and\n",
    "    # – the x-projections of (p1, q1) and (p2, q2) intersect\n",
    "    # – the y-projections of (p1, q1) and (p2, q2) intersect\n",
    "    \n",
    "    \n",
    "    # Find the four orientations needed for general and \n",
    "    # special cases \n",
    "    o1 = orientation(p1, q1, p2) \n",
    "    o2 = orientation(p1, q1, q2) \n",
    "    o3 = orientation(p2, q2, p1) \n",
    "    #print(p2, q2, p1, o3)\n",
    "    o4 = orientation(p2, q2, q1) \n",
    "    #print(o1,o2,o3,o4)\n",
    "    \n",
    "    # 1. General case \n",
    "    if o1 != o2 and o3 != o4:\n",
    "        return True  \n",
    "\n",
    "\n",
    "    # 2. Special Cases \n",
    "    # p1, q1 and p2 are colinear and p2 lies on segment p1q1 \n",
    "    if o1 == 0 and on_segment(p1, p2, q1): \n",
    "        return True \n",
    "  \n",
    "    # p1, q1 and q2 are colinear and q2 lies on segment p1q1 \n",
    "    if o2 == 0 and on_segment(p1, q2, q1):\n",
    "        return True \n",
    "  \n",
    "    # p2, q2 and p1 are colinear and p1 lies on segment p2q2 \n",
    "    if o3 == 0 and on_segment(p2, p1, q2):\n",
    "        return True \n",
    "  \n",
    "    # p2, q2 and q1 are colinear and q1 lies on segment p2q2 \n",
    "    if o4 == 0 and on_segment(p2, q1, q2):\n",
    "        return True \n",
    "  \n",
    "    \n",
    "    # Doesn't fall in any of the above cases \n",
    "    return False \n",
    "    \n",
    "    \n",
    "def on_segment(p, q, r):\n",
    "    # Given three colinear points p, q, r, the function checks if \n",
    "    # point q lies on line segment 'pr' \n",
    "    if (q.x <= max(p.x, r.x) and q.x >= min(p.x, r.x) \n",
    "    and q.y <= max(p.y, r.y) and q.y >= min(p.y, r.y)):\n",
    "        return True\n",
    "    else:\n",
    "        return False\n",
    "    \n",
    "    \n",
    "def orientation(p, q, r):\n",
    "    # To find orientation of ordered triplet (p, q, r). \n",
    "    # The function returns following values \n",
    "    # 0 --> p, q and r are colinear \n",
    "    # 1 --> Clockwise \n",
    "    # 2 --> Counterclockwise \n",
    "    \n",
    "    # See https://www.geeksforgeeks.org/orientation-3-ordered-points/ \n",
    "    # for details of below formula. \n",
    "      \n",
    "    val =( (q.y - p.y) * (r.x - q.x) \n",
    "         - ((q.x - p.x) * (r.y - q.y)))\n",
    "    #print('\\n---\\ndebug')\n",
    "    #print((q.y - p.y), (r.x - q.x), (q.x - p.x), (r.y - q.y))\n",
    "    #print(val)\n",
    "    if val == 0:\n",
    "        return 0         # colinear\n",
    "\n",
    "    return (1 if val > 0 else 2)  # clock or counterclock wise\n",
    "\n",
    "\n",
    "\n",
    "# Chance Constraint\n",
    "# _________________________________________________________________________________________________\n",
    "\n",
    "\n",
    "def _distance_wp_area(wp, area):\n",
    "    # Calculates the distance between one point P and an area area\n",
    "    max_distance = - math.inf\n",
    "\n",
    "    for A, B in pairwise_circle(area):\n",
    "        distance = _distance_wp_line(wp, A, B)\n",
    "        max_distance = max(max_distance, distance)\n",
    "\n",
    "    return max_distance\n",
    "\n",
    "\n",
    "def _distance_wp_line(P, A, B):\n",
    "    # Calculates the distance between the point P and the line that crosses A and B\n",
    "\n",
    "    # Director vector\n",
    "    D = Vector((A.x-B.x),(A.y-B.y))\n",
    "\n",
    "    # Normal vector of line AB\n",
    "    # N = Vector(-D.y, D.x)\n",
    "    \n",
    "    # Normalized normal vector of line AB\n",
    "    aux = (math.sqrt(D.y**2+D.x**2))+1*10**(-8)\n",
    "    N = Vector( (D.y)/aux, (-D.x)/aux )\n",
    "\n",
    "    b = N.x * A.x + N.y * A.y\n",
    "\n",
    "    dist = P.x * N.x + P.y * N.y - b\n",
    "\n",
    "    #if debug:\n",
    "    #   print(A, B, P, dist)\n",
    "\n",
    "    return dist\n",
    "\n",
    "def d_distance_wp_line(P, A, B):\n",
    "    # Calculates the distance between the point P and the line that crosses A and B\n",
    "\n",
    "    # Director vector\n",
    "    D = Vector((A.x-B.x),(A.y-B.y))\n",
    "\n",
    "    # Normal vector of line AB\n",
    "    # N = Vector(-D.y, D.x)\n",
    "    \n",
    "    # Normalized normal vector of line AB\n",
    "    aux = (math.sqrt(D.y**2+D.x**2))+1*10**(-8)\n",
    "    N = Vector( (D.y)/aux, (-D.x)/aux )\n",
    "\n",
    "    b = N.x * A.x + N.y * A.y\n",
    "\n",
    "    dist = P.x * N.x + P.y * N.y - b\n",
    "\n",
    "    #if debug:\n",
    "    #   print(A, B, P, dist)\n",
    "\n",
    "    return dist, N\n",
    "\n",
    "def _prob_collision(distance, uncertainty):\n",
    "    # Survival function (also defined as 1 - cdf, but sf is sometimes more accurate).\n",
    "    # https://docs.scipy.org/doc/scipy/reference/generated/scipy.stats.norm.html\n",
    "\n",
    "    # mi    : média         : location\n",
    "    # sigma : desvio padrão : scale\n",
    "\n",
    "    return norm.sf(distance, loc=0, scale=uncertainty)\n"
   ]
  },
  {
   "cell_type": "markdown",
   "metadata": {
    "colab_type": "text",
    "hidden": true,
    "id": "3pDpy3uAx4n4"
   },
   "source": [
    "## visualization.py"
   ]
  },
  {
   "cell_type": "code",
   "execution_count": 72,
   "metadata": {
    "code_folding": [
     19,
     50,
     58,
     64,
     84,
     144,
     146,
     161,
     177
    ],
    "colab": {},
    "colab_type": "code",
    "hidden": true,
    "id": "fBnFvHctx4n8"
   },
   "outputs": [],
   "source": [
    "import pandas as pd\n",
    "import numpy as np\n",
    "\n",
    "import matplotlib.pyplot as plt\n",
    "import matplotlib.patches as patches\n",
    "from matplotlib.path import Path\n",
    "\n",
    "import plotly.graph_objects as go\n",
    "\n",
    "from sklearn import preprocessing\n",
    "\n",
    "\n",
    "cor_area_nn    = '#25283d' # Yankees Blue\n",
    "cor_area_p     = '#8f3985' # Plum\n",
    "cor_area_b     = '#07beb8' # Tiffany Blue\n",
    "cor_waypoints  = '#aa1155' # Jazzberry Jam\n",
    "cor_ori_dest   = '#880044' # Pink Raspberry\n",
    "\n",
    "\n",
    "def new_shape(vertices, color='navajowhite', lw=.25):\n",
    "\n",
    "    assert len(vertices) >= 3, 'At least 3 vertices to form a shape'\n",
    "\n",
    "    colors = {\n",
    "        'n': cor_area_nn,\n",
    "        'p': cor_area_p,\n",
    "        'b': cor_area_b\n",
    "    }\n",
    "    \n",
    "    color = colors[color] if color in colors else color\n",
    "    \n",
    "    codes = [Path.MOVETO]\n",
    "    for _ in range(1, len(vertices)-1):\n",
    "        codes.append(Path.LINETO)\n",
    "    codes.append(Path.CLOSEPOLY)\n",
    "    \n",
    "    path = Path(vertices, codes)\n",
    "\n",
    "    patch = patches.PathPatch(path, facecolor=color, lw=lw, alpha=0.6)\n",
    "\n",
    "    return patch\n",
    "\n",
    "\n",
    "def plot_map(wp_style='-x', **kwargs):\n",
    "    # Optional arguments:\n",
    "    # areas, labels, origem, destino, waypoints, texts\n",
    "\n",
    "    fig, ax = plt.subplots(figsize=(8,8)) \n",
    "    \n",
    "    # Plot areas\n",
    "    if 'areas' in kwargs and 'labels' in kwargs:\n",
    "        areas=kwargs['areas']\n",
    "        labels=kwargs['labels']\n",
    "        patches = [ new_shape(vertice, color=label) for vertice, label in zip(areas, labels) ]\n",
    "        for patch in patches:\n",
    "            ax.add_patch(patch)\n",
    "        \n",
    "    # Plot origin and destination\n",
    "    if 'origem' in kwargs and 'destino' in kwargs:\n",
    "        origem=kwargs['origem']\n",
    "        destino=kwargs['destino']\n",
    "        ax.plot([origem[0], destino[0]], [origem[1], destino[1]], 'o', color=cor_ori_dest)\n",
    "    \n",
    "    # Plot a route with its waypoints\n",
    "    if 'waypoints' in kwargs:\n",
    "        waypoints=kwargs['waypoints']\n",
    "        waypoints = list(map(list, zip(*waypoints)))\n",
    "        ax.plot(waypoints[0], waypoints[1], wp_style, color=cor_waypoints, linewidth=2) #marker='x', linestyle='solid'\n",
    "        if 'texts' in kwargs:\n",
    "            for i, text in enumerate(kwargs['texts']):\n",
    "                ax.annotate(text, (waypoints[0][i], waypoints[1][i]))\n",
    "    \n",
    "    \n",
    "    # Plot multiple routes with waypoints, along with name and specific colors\n",
    "    if 'multi_waypoints' in kwargs:\n",
    "        for waypoints, label, color in zip(kwargs['multi_waypoints'], kwargs['names'], kwargs['colors']):\n",
    "            waypoints = list(map(list, zip(*waypoints)))\n",
    "            ax.plot(waypoints[0], waypoints[1], wp_style, color=color, linewidth=2, label=label) #marker='x', linestyle='solid'\n",
    "            if 'texts' in kwargs:\n",
    "                for i, text in enumerate(kwargs['texts']):\n",
    "                    ax.annotate(text, (waypoints[0][i], waypoints[1][i]))\n",
    "    \n",
    "    \n",
    "    \n",
    "    if 'stress' in kwargs:\n",
    "        # Plot waypoints\n",
    "        if 'points' in kwargs:\n",
    "            for wp, text in zip(kwargs['points'], kwargs['texts']):\n",
    "                if text=='T':\n",
    "                    in_color=cor_area_b\n",
    "                else:\n",
    "                    in_color=cor_waypoints\n",
    "\n",
    "                ax.plot(wp[0], wp[1], wp_style, color=in_color, linewidth=2)\n",
    "                ax.annotate(text, (wp[0], wp[1]))\n",
    "\n",
    "        # Plot segments\n",
    "        if 'segments' in kwargs and 'texts' in kwargs:\n",
    "            i=0\n",
    "            for segment, text in zip(kwargs['segments'], kwargs['texts']):\n",
    "                X = [segment[0].x, segment[1].x]\n",
    "                Y = [segment[0].y, segment[1].y]\n",
    "\n",
    "                if text=='T':\n",
    "                    in_color=cor_area_b\n",
    "                else:\n",
    "                    in_color=cor_waypoints\n",
    "                ax.plot(X, Y, wp_style, color=in_color, linewidth=2)\n",
    "                \n",
    "\n",
    "                ax.annotate(text+str(i), (X[0], Y[0]))\n",
    "                i+=1\n",
    "        \n",
    "        # Plot chance constraints tests\n",
    "        if 'chance' in kwargs:\n",
    "            \n",
    "            base_das_normais = []\n",
    "            \n",
    "            for segment, normal, segment_text in zip(kwargs['segments'], kwargs['normals'], kwargs['segment_texts']):\n",
    "                X = [segment[0].x, segment[1].x]\n",
    "                Y = [segment[0].y, segment[1].y]\n",
    "                ax.plot(X, Y, wp_style, color=cor_waypoints, linewidth=3)\n",
    "                ax.annotate(segment_text[0], (X[0], Y[0]))\n",
    "                ax.annotate(segment_text[1], (X[1], Y[1]))\n",
    "                \n",
    "                x = _graph_sub(segment[0].x, segment[1].x)\n",
    "                y = _graph_sub(segment[0].y, segment[1].y)\n",
    "                base_das_normais.append([x,y])\n",
    "                ax.quiver(x, y, normal.x, normal.y, angles='xy', scale_units='xy', scale=1)\n",
    "                \n",
    "            for P, point_text in zip(kwargs['pointes'], kwargs['point_texts']):\n",
    "                ax.plot(P.x, P.y, 'o', color=cor_area_nn, linewidth=4)\n",
    "                ax.annotate(point_text, (P.x, P.y*1.05))\n",
    "                \n",
    "                for normal, dist in zip(base_das_normais, kwargs['distances']):\n",
    "                    X = [P.x, normal[0]]\n",
    "                    Y = [P.y, normal[1]]\n",
    "                    ax.plot(X, Y, '', color=cor_area_nn, linewidth=2)\n",
    "                    \n",
    "                    x = _graph_sub(P.x, normal[0])\n",
    "                    y = _graph_sub(P.y, normal[1])\n",
    "                    ax.annotate(str(dist), (x, y*1.05))\n",
    "    \n",
    "    # Set size\n",
    "    if 'margin' in kwargs:\n",
    "        sl = kwargs['margin']\n",
    "    else:\n",
    "        sl = 1\n",
    "        \n",
    "    automin, automax = ax.get_xlim()\n",
    "    plt.xlim(automin-sl, automax+sl)\n",
    "    automin, automax = ax.get_ylim()\n",
    "    plt.ylim(automin-sl, automax+sl)\n",
    "    plt.gca().set_aspect('equal', adjustable='box')\n",
    "    \n",
    "    if 'title' in kwargs:\n",
    "        plt.title(kwargs['title'])\n",
    "    \n",
    "    plt.show()\n",
    "    #plt.savefig('out.png')\n",
    "\n",
    "def plot_stats(ag_trace, normalize=True):\n",
    "    dft = pd.DataFrame.from_dict(ag_trace)\n",
    "    \n",
    "    if normalize:\n",
    "        x = dft.values #returns a numpy array\n",
    "        min_max_scaler = preprocessing.MinMaxScaler()\n",
    "        x_scaled = min_max_scaler.fit_transform(x)\n",
    "        dft = pd.DataFrame(x_scaled, columns=dft.columns)\n",
    "\n",
    "    fig = go.Figure()\n",
    "\n",
    "    for column in dft.columns:\n",
    "        fig.add_trace(go.Scatter(x=dft.index, y=dft[column], name=column))\n",
    "    fig.show()\n",
    "    \n",
    "    \n",
    "def _graph_sub(A, B):\n",
    "    menor = min(A, B)\n",
    "    maior = max(A, B)\n",
    "\n",
    "    return menor + ((maior - menor) / 2)"
   ]
  },
  {
   "cell_type": "code",
   "execution_count": 3,
   "metadata": {
    "code_folding": [
     0
    ],
    "colab": {},
    "colab_type": "code",
    "hidden": true,
    "id": "ZKT74ZY9x4oF"
   },
   "outputs": [],
   "source": [
    "def vis_mapa(mapa):\n",
    "    areas = [ area for area in itertools.chain(mapa.areas_n, mapa.areas_n_inf) ]\n",
    "    tipos = [ 'n' for _ in range(len(areas))]\n",
    "    plot_map(\n",
    "        areas=areas,             # Mapa usado\n",
    "        labels=tipos,            # Tipo do mapa {'n','p','b'} <- Não afeta o genético, só muda a visualização\n",
    "        origem=mapa.origin,      # waypoint de origem\n",
    "        destino=mapa.destination # waypoint de destino   \n",
    "    )"
   ]
  },
  {
   "cell_type": "markdown",
   "metadata": {
    "colab_type": "text",
    "heading_collapsed": true,
    "hidden": true,
    "id": "CZiFIkEwx4oN"
   },
   "source": [
    "## data_definitions.py"
   ]
  },
  {
   "cell_type": "code",
   "execution_count": 4,
   "metadata": {
    "colab": {},
    "colab_type": "code",
    "hidden": true,
    "id": "MxHpHFANx4oP"
   },
   "outputs": [],
   "source": [
    "import collections\n",
    "import math\n",
    "\n",
    "CartesianPoint = collections.namedtuple('CartesianPoint', 'x y')\n",
    "GeoPoint = collections.namedtuple('GeoPoint', 'latitude, longitude, altitude')\n",
    "Vector = collections.namedtuple('Vector', 'x y')\n",
    "Version = collections.namedtuple('Version', 'major, minor')\n",
    "\n",
    "class Mapa():\n",
    "    def __init__(self, origin, destination, areas_n, inflation_rate=0.1, mode='scalar'):\n",
    "        self.origin = origin           # CartesianPoint : Define o ponto de partida da rota\n",
    "        self.destination = destination # CartesianPoint : Define o ponto de destino da rota\n",
    "        self.areas_n = areas_n         # [area, ...]\n",
    "                                       # area = [CartesianPoint(),...]      \n",
    "        self.areas_n_inf = [ self._inflate_area(area, inflation_rate=inflation_rate, mode=mode) for area in areas_n ]\n",
    "        \n",
    "        \n",
    "    def _inflate_area(self, area, inflation_rate, mode):\n",
    "        if mode == 'percentage':\n",
    "            # Infla uma área retangular em uma porcentagem do tamanho, alterando os valores em x% de cada vértice\n",
    "            x = area[2].x - area[0].x\n",
    "            y = area[1].y - area[3].y\n",
    "\n",
    "            inc = (inflation_rate)\n",
    "            dec = -(inflation_rate)\n",
    "\n",
    "            new_area = [\n",
    "                CartesianPoint(area[0].x + dec * x, area[0].y + dec * y), # left,  bottom\n",
    "                CartesianPoint(area[1].x + dec * x, area[1].y + inc * y), # left,  top\n",
    "                CartesianPoint(area[2].x + inc * x, area[2].y + inc * y), # right, top\n",
    "                CartesianPoint(area[3].x + inc * x, area[3].y + dec * y)  # right, bottom\n",
    "            ]\n",
    "            new_area.append(new_area[0]) # Repetir primeiro ponto, para o ignore do shape na hora de plotar\n",
    "        \n",
    "        elif mode == 'scalar':\n",
    "            # Infla uma área retangular em uma quantidade fixa\n",
    "            inc = (inflation_rate)\n",
    "            dec = -(inflation_rate)\n",
    "\n",
    "            new_area = [\n",
    "                CartesianPoint(area[0].x + dec, area[0].y + dec), # left,  bottom\n",
    "                CartesianPoint(area[1].x + dec, area[1].y + inc), # left,  top\n",
    "                CartesianPoint(area[2].x + inc, area[2].y + inc), # right, top\n",
    "                CartesianPoint(area[3].x + inc, area[3].y + dec)  # right, bottom\n",
    "            ]\n",
    "            new_area.append(new_area[0]) # Repetir primeiro ponto, para o ignore do shape na hora de plotar\n",
    "        \n",
    "        \n",
    "        return new_area\n",
    "\n",
    "\n",
    "\n",
    "class Conversor():\n",
    "\n",
    "    def list_geo_to_cart( l, geo_home):\n",
    "        for i in l:\n",
    "            yield Conversor.geo_to_cart(i, geo_home)\n",
    "\n",
    "    def list_cart_to_geo( l, geo_home):\n",
    "        for i in l:\n",
    "            yield Conversor.cart_to_geo(i, geo_home)\n",
    "\n",
    "\n",
    "    def geo_to_cart( geo_point, geo_home):\n",
    "        \n",
    "        def calc_y(lat, lat_):\n",
    "            return (lat - lat_) * (10000000.0 / 90)\n",
    "        def calc_x(longi, longi_, lat_):\n",
    "            return (longi - longi_) * (6400000.0 * (math.cos(lat_ * math.pi / 180) * 2 * math.pi / 360))\n",
    "\n",
    "        x = calc_x(geo_point.longitude, geo_home.longitude, geo_home.latitude)\n",
    "        y = calc_y(geo_point.latitude, geo_home.latitude)\n",
    "\n",
    "        #return CartesianPoint(x, y, geo_point.altitude)\n",
    "        return CartesianPoint(x, y)\n",
    "\n",
    "\n",
    "    def cart_to_geo( cartesian_point, geo_home):\n",
    "\n",
    "        def calc_latitude_y(lat_, y):\n",
    "            return ((y * 90) / 10000000.0) + lat_\n",
    "        def calc_longitude_x(lat_, longi_, x):\n",
    "            return ((x * 90) / (10008000 * math.cos(lat_ * math.pi / 180))) + longi_\n",
    "\n",
    "\n",
    "        longitude_x = calc_longitude_x(geo_home.latitude, geo_home.longitude, cartesian_point.x)\n",
    "        latitude_y = calc_latitude_y(geo_home.latitude, cartesian_point.y)\n",
    "\n",
    "        #return GeoPoint(longitude_x, latitude_y, cartesian_point.z)\n",
    "        return GeoPoint(longitude_x, latitude_y, 10)"
   ]
  },
  {
   "cell_type": "markdown",
   "metadata": {
    "colab_type": "text",
    "heading_collapsed": true,
    "hidden": true,
    "id": "HQ8zGYH7k2x8"
   },
   "source": [
    "## file_manipulation.py"
   ]
  },
  {
   "cell_type": "code",
   "execution_count": 5,
   "metadata": {
    "colab": {},
    "colab_type": "code",
    "hidden": true,
    "id": "q8lAIACxk6l7"
   },
   "outputs": [],
   "source": [
    "def upload_mapa(mapa_file, mapa_id):\n",
    "    mapa = mapa_file[mapa_id]\n",
    "\n",
    "    geo_home = GeoPoint(mapa['geo_home'][1], mapa['geo_home'][0], mapa['geo_home'][2])\n",
    "\n",
    "    areas_bonificadoras  = [ Conversor.list_geo_to_cart(area['geo_points'], geo_home) for area in mapa['areas_bonificadoras'] ]\n",
    "    areas_penalizadoras  = [ Conversor.list_geo_to_cart(area['geo_points'], geo_home) for area in mapa['areas_penalizadoras'] ]\n",
    "    \n",
    "    areas_nao_navegaveis = []\n",
    "    for area in mapa['areas_nao_navegaveis']:\n",
    "        geo_points=[]\n",
    "        for geo_point in area['geo_points']:\n",
    "            geo_points.append(Conversor.geo_to_cart(\n",
    "                GeoPoint(geo_point[1], geo_point[0], geo_point[2]) \n",
    "                , geo_home))\n",
    "        geo_points.append(geo_points[0])\n",
    "        areas_nao_navegaveis.append(geo_points)\n",
    "\n",
    "\n",
    "\n",
    "    return geo_home, areas_bonificadoras, areas_penalizadoras, areas_nao_navegaveis"
   ]
  },
  {
   "cell_type": "markdown",
   "metadata": {
    "colab_type": "text",
    "id": "b4U0_Peex4oX"
   },
   "source": [
    "# 2. Algoritmo Genético\n",
    "Essa seção contém a implementação do algoritmo genético, contendo a definição da classe indivíduo (Subject) e da classe do genético (Genetic)."
   ]
  },
  {
   "cell_type": "markdown",
   "metadata": {
    "colab_type": "text",
    "heading_collapsed": true,
    "id": "4Rl8h07cx4od"
   },
   "source": [
    "### Utilitários"
   ]
  },
  {
   "cell_type": "code",
   "execution_count": 6,
   "metadata": {
    "colab": {},
    "colab_type": "code",
    "hidden": true,
    "id": "AyXT1JpUx4of"
   },
   "outputs": [],
   "source": [
    "import collections\n",
    "import random\n",
    "import time\n",
    "import copy\n",
    "\n",
    "from math import cos, sin, sqrt, ceil\n",
    "\n",
    "from itertools import tee\n",
    "#from utils import pairwise, point_in_polygon, segment_in_polygon\n",
    "\n",
    "Gene           = collections.namedtuple('Gene', 'a e')\n",
    "GeneDecoded    = collections.namedtuple('GeneDecoded', 'x y v al')"
   ]
  },
  {
   "cell_type": "markdown",
   "metadata": {
    "colab_type": "text",
    "heading_collapsed": true,
    "id": "lhB2g9JRx4oo"
   },
   "source": [
    "## 2.1. Definição do Indivíduo"
   ]
  },
  {
   "cell_type": "code",
   "execution_count": 7,
   "metadata": {
    "code_folding": [
     17,
     36,
     69,
     76,
     79,
     89,
     93,
     127,
     146,
     153,
     170,
     177,
     193,
     202,
     212,
     232,
     243,
     252,
     262,
     275,
     289
    ],
    "colab": {},
    "colab_type": "code",
    "hidden": true,
    "id": "3WHIN-kKx4or"
   },
   "outputs": [],
   "source": [
    "class Subject():\n",
    "    \n",
    "    # codificação - u\n",
    "    # dna = [Gene, ...]\n",
    "    #     Gene = [a, e]\n",
    "    #         a = float: aceleração\n",
    "    #         e = float: variação angular\n",
    "\n",
    "\n",
    "    # decodificação - x\n",
    "    # dna_decoded = [GeneDecoded, ...]\n",
    "    #     GeneDecoded = (x, y, v, al)\n",
    "    #         x  = : Posição do VANT no eixo x (aka px)\n",
    "    #         y  = : Posição do VANT no eixo y (aka py)\n",
    "    #         v  = : Velocidade do VANT na horizontal\n",
    "    #         al = : ângulo (direção) do VANT na horizontal\n",
    "    def __init__(\n",
    "        self,\n",
    "        px0=10.,\n",
    "        py0=10.,\n",
    "        v0=0,\n",
    "        al0=0,\n",
    "        v_min=11.1,\n",
    "        v_max=30.5,\n",
    "        e_min=-3,        \n",
    "        e_max=3,\n",
    "        a_min=-2.0,\n",
    "        a_max=2.0,\n",
    "        T=10,\n",
    "        T_min=1,\n",
    "        T_max=7,\n",
    "        delta_T=1,\n",
    "        m=743.0,\n",
    "        mutation_prob=0.7,\n",
    "        start_time=None,\n",
    "        spawn_mode='random',\n",
    "        version=None,\n",
    "        **kwargs\n",
    "    ):\n",
    "        # VANT\n",
    "        # px0   int : Posição inicial no eixo x (m)\n",
    "        # py0   int : Posição inicial no eixo y (m)\n",
    "        # v0    int : Velocidade Inicial (m/s)\n",
    "        # al0   int : Ângulo inicial (graus)\n",
    "        self.gene_decoded_0 = GeneDecoded(px0, py0, v0, al0) # GeneDecoded : objeto contendo o gene decodificado de posição 0\n",
    "        self.v_min = v_min # float : Velocidade máxima (m/s)\n",
    "        self.v_max = v_max # float : Velocidade mínima (m/s)\n",
    "        self.e_min = e_min # int   : Velocidade angular mínima (graus/s)\n",
    "        self.e_max = e_max # int   : Velocidade angular máxima (graus/s)\n",
    "        self.a_min = a_min # float : Aceleração mínima (m/s**2)\n",
    "        self.a_max = a_max # float : Aceleração máxima (m/s**2)\n",
    "        \n",
    "        # TODO9:implementar os initialize\n",
    "        \n",
    "        # Modelo\n",
    "        self.T_min   = T_min   # int : Valor mínimo para o horizonte de planejamento\n",
    "        self.T_max   = T_max   # int : Valor máximo para o horizonte de planejamento\n",
    "        self.delta_T = delta_T # int : Discretização do tempo (s) Tempo que leva de um waypoint até o outro\n",
    "        self.m       = m       # float : Massa do VANT (!=0) (gramas)\n",
    "    \n",
    "        # Parametros do indivíduo\n",
    "        self.mutation_prob = mutation_prob # float : Probabilidade de ocorrer uma mutação no dna (%)\n",
    "        self.fitness       = None          # float : Fitness do indivíduo\n",
    "        #self.birth_time    = None          # time  : Hora que o indivíduo é criado\n",
    "        self.dna           = None          # list  : Conjunto de genes formando o DNA ([Gene, ...])\n",
    "        self.dna_decoded   = None          # list  : DNA decodificado ([GeneDecoded, ...])\n",
    "        self.spawn_mode    = spawn_mode    # str   : Tipo de incialização do DNA {'random'}\n",
    "        self.start_time    = start_time    # time  : a hora em que o genético começou a rodar\n",
    "\n",
    "        assert version, 'Algorithm version must be informed!\\nEx: Version(\"alpha\",\"RC\")'\n",
    "        if version.major == 'alpha': # Sem otimização em T\n",
    "            self.T = T\n",
    "            self.mutation_choices = [\n",
    "                self._mutation_creep, \n",
    "                self._mutation_change\n",
    "            ]\n",
    "        elif version.major == 'beta': # Com otimização em T\n",
    "            self.T = random.randint(T_min, T_max) # int : Horizonte de planejamento (quantidade de waypoints)\n",
    "            self.mutation_choices = [\n",
    "                self._mutation_remove, \n",
    "                self._mutation_insert, \n",
    "                self._mutation_creep, \n",
    "                self._mutation_change\n",
    "            ]\n",
    "\n",
    "\n",
    "        self.spawn(mode=spawn_mode)\n",
    "        \n",
    "    \n",
    "    def set_fitness(self, fitness, fitness_trace, birth_time):\n",
    "        self.fitness = fitness\n",
    "        self.fitness_trace = fitness_trace\n",
    "        #self.birth_time = birth_time\n",
    "    \n",
    "    \n",
    "    # ---\n",
    "    \n",
    "    def spawn(self, mode):\n",
    "        self.dna = [self._build_gene(mode) for _ in range(self.T) ]\n",
    "        \n",
    "    def _build_gene(self, mode='random'):\n",
    "        # Inicialização aleatória gera valores com distribuição uniforme\n",
    "        if mode == 'random':\n",
    "            a = random.uniform(self.a_min, self.a_max)\n",
    "            e = random.uniform(self.e_min, self.e_max)\n",
    "            \n",
    "        return Gene(a, e)\n",
    "    \n",
    "    # ---\n",
    "    \n",
    "    def decode(self):\n",
    "        #self.dna_decoded = [self._decode_gene() for i in range(len(self.dna))]\n",
    "        self.dna_decoded = self._decode_gene() # TODO: Organizar, voltar como era a linha de cima. Fazer função abaixo só computar o gene\n",
    "        self.birth_time = time.time() - self.start_time\n",
    "\n",
    "    def _decode_gene(self):\n",
    "        dna = self.dna\n",
    "        \n",
    "        # parametros\n",
    "        delta_T = self.delta_T\n",
    "        m = self.m\n",
    "        \n",
    "        dna_decoded = []\n",
    "        dna_decoded.append(self.gene_decoded_0)\n",
    "        \n",
    "        for i in range(0, len(dna)):\n",
    "            # dna\n",
    "            a  = dna[i].a\n",
    "            e  = dna[i].e\n",
    "            \n",
    "            # dna decodificado\n",
    "            px = dna_decoded[i].x\n",
    "            py = dna_decoded[i].y\n",
    "            v  = dna_decoded[i].v\n",
    "            al = dna_decoded[i].al\n",
    "            \n",
    "            F = self.__F(v)\n",
    "        \n",
    "            # Equações descritas em (Arantes 2016)\n",
    "            _px = px + ( v * cos(al) * delta_T ) + ( a * cos(al) * ((delta_T**2)/2) ) \n",
    "            _py = py + ( v * sin(al) * delta_T ) + ( a * sin(al) * ((delta_T**2)/2) ) \n",
    "            _v  = v  + ( a * delta_T ) - ( (F/m) * delta_T )\n",
    "            _al = al + ( e * delta_T )\n",
    "\n",
    "            dna_decoded.append(GeneDecoded(_px, _py, _v, _al))\n",
    "\n",
    "        return dna_decoded\n",
    "    \n",
    "    \n",
    "    def __F(self, v):\n",
    "        # Equação do Arrasto\n",
    "        # Disponível em https://pt.wikipedia.org/wiki/Equa%C3%A7%C3%A3o_do_arrasto\n",
    "        # Versão utilizada ((Arantes, 2016) equação 3.5)\n",
    "        \n",
    "        Cd  = 0.8     # float : Coeficiente de arrasto, específico para cada aeronave\n",
    "                      #         (considerado Angled Cube) obtido de https://pt.wikipedia.org/wiki/Coeficiente_de_resist%C3%AAncia_aerodin%C3%A2mica\n",
    "        rho = 1.225   # float : Massa específica do fuído (aka densidade) (k/m**3)\n",
    "                      #         (a 15 graus Celsius) Valor de rho obtido de https://pt.m.wikipedia.org/wiki/Densidade_do_ar\n",
    "        A = 1.0       # float : Área de referência # TODO: o que é isso?\n",
    "        # v = v       # float : Velocidade do Vant no instante t (fornecido como parâmetro da função)\n",
    "        \n",
    "        F = 0.5 * Cd * rho * A * (v**2)\n",
    "        \n",
    "        return F\n",
    "        \n",
    "    \n",
    "    # ---\n",
    "    \n",
    "    def crossover(self, parent2):\n",
    "        dna = random.choice([self._OX, self._BLX_Alpha])(self.dna, parent2.dna)\n",
    "        dna = self._complete(dna, self.dna, parent2.dna)\n",
    "        child = self.generate(dna)\n",
    "        return child\n",
    "    \n",
    "    \n",
    "    def _complete(self, dna, dna1, dna2):\n",
    "        # Adiciona os genes restantes da diferença de tamanho entre os dois DNAs\n",
    "               \n",
    "        if len(dna1) > len(dna2):\n",
    "            bigger  = dna1\n",
    "            smaller = dna2\n",
    "        else:\n",
    "            bigger  = dna2\n",
    "            smaller = dna1\n",
    "    \n",
    "        for i in range(len(smaller)-1, len(bigger)-1):\n",
    "            if random.random() < 0.5:\n",
    "                dna.append(bigger[i])\n",
    "                \n",
    "        return dna\n",
    "        \n",
    "    \n",
    "    def _OX(self, dna1, dna2):\n",
    "        dna = []\n",
    "        for gene1, gene2 in zip(dna1, dna2):\n",
    "            dna.append(random.choice([gene1, gene2]))\n",
    "        return dna\n",
    "        \n",
    "        \n",
    "    def _BLX_Alpha(self, dna1, dna2):\n",
    "        dna = []\n",
    "        for gene1, gene2 in zip(dna1, dna2):\n",
    "            a = self.__BLX_ALpha_select_gene(gene1.a, gene2.a)\n",
    "            e = self.__BLX_ALpha_select_gene(gene1.e, gene2.e)\n",
    "            if a>self.a_max:\n",
    "              a=self.a_max\n",
    "            elif a < self.a_min:\n",
    "              a=self.a_min\n",
    "\n",
    "            if e>self.e_max:\n",
    "              e=self.e_max\n",
    "            elif e < self.e_min:\n",
    "              e=self.e_min            \n",
    "            \n",
    "            gene = Gene(a, e)\n",
    "            dna.append(gene)\n",
    "            \n",
    "        return dna\n",
    "    \n",
    "    \n",
    "    def __BLX_ALpha_select_gene(self, x, y):\n",
    "        # x - Gene : gene do pai 1\n",
    "        # y - Gene : gene do pai 2\n",
    "        alpha = random.uniform(0,1)\n",
    "        d = abs(x-y)\n",
    "        u = random.uniform(min(x,y)-alpha*d, max(x,y)+alpha*d)\n",
    "        return u\n",
    "    \n",
    "    \n",
    "    def generate(self, dna):\n",
    "        # Cria um filho com os mesmos parametros do pai, mas com um dna fornecido\n",
    "        child = copy.deepcopy(self)\n",
    "        child.dna = dna\n",
    "        child.decode()\n",
    "        return child\n",
    "    \n",
    "        \n",
    "    # ---\n",
    "    \n",
    "    def mutation(self, mutation_prob=None):\n",
    "        mutation_prob = self.mutation_prob if not mutation_prob else mutation_prob # 0.7\n",
    "        \n",
    "        # Tem uma probabilidade mutation_prob de mutar o gene ou não\n",
    "        if random.random() < mutation_prob:\n",
    "            # Seleciona aleatoriamente uma das formas de mutação\n",
    "            new_dna = random.choice(self.mutation_choices)(self.dna)\n",
    "            # [\n",
    "            #     self._mutation_remove, \n",
    "            #     self._mutation_insert, \n",
    "            #     self._mutation_creep, \n",
    "            #     self._mutation_change\n",
    "            # ]\n",
    "            \n",
    "            if new_dna:\n",
    "                self.dna = new_dna\n",
    "                self.decode()\n",
    "            \n",
    "            return True\n",
    "        return False\n",
    "    \n",
    "    def _mutation_change(self, dna):\n",
    "        # Reinicia um gene aleatoriamente\n",
    "        new_dna = []\n",
    "        for gene in dna:\n",
    "            if random.random() < 0.5:\n",
    "                new_dna.append(self._build_gene('random'))\n",
    "            else:\n",
    "                new_dna.append(gene)\n",
    "        \n",
    "        return new_dna\n",
    "    \n",
    "    \n",
    "    def _mutation_remove(self, dna):\n",
    "        # Remove UM gene aleatório do DNA\n",
    "        if len(dna) > self.T_min:\n",
    "            i = random.randint(0, len(dna)-1)\n",
    "            dna.pop(i)\n",
    "            return dna\n",
    "        return None\n",
    "        \n",
    "        \n",
    "    def _mutation_insert(self, dna):\n",
    "        # Insere UM gene aleatório no DNA em uma posição aleatória\n",
    "        if len(dna) < self.T_max:\n",
    "            i = random.randint(0, len(dna)-1)\n",
    "            gene = self._build_gene()\n",
    "            dna.insert(i, gene)\n",
    "            return dna\n",
    "        return None\n",
    "    \n",
    "    \n",
    "    def _mutation_creep(self, dna):\n",
    "        # Muta em um pequeno valor aleatorio todos os genes\n",
    "        new_dna = []\n",
    "        for gene in dna:\n",
    "            a = self.__mute(gene.a, self.a_min, self.a_max)\n",
    "            e = self.__mute(gene.e, self.e_min, self.e_max)\n",
    "\n",
    "            # TODO2: otimizar\n",
    "            new_gene = Gene(a, e)\n",
    "            new_dna.append(new_gene)\n",
    "\n",
    "        return new_dna\n",
    "        \n",
    "        \n",
    "    def __mute(self, val, min_val, max_val):\n",
    "        mutation_rate = random.uniform(0, max_val*0.5)\n",
    "        s = random.choice([1, -1])\n",
    "        val = val * (1 + (mutation_rate * s))\n",
    "\n",
    "        # Checa se não estoura os limites\n",
    "        if val>max_val:\n",
    "          val=max_val\n",
    "        elif val<min_val:\n",
    "          val=min_val\n",
    "        #val = max(val, min_val)\n",
    "        #val = min(val, max_val)\n",
    "\n",
    "        return val\n",
    "    \n",
    "    \n",
    "    # ---\n",
    "    \n",
    "    def get_route(self):\n",
    "        return [ [gene.x, gene.y] for gene in self.dna_decoded ]\n",
    "    \n",
    "\n",
    "\n",
    "        "
   ]
  },
  {
   "cell_type": "markdown",
   "metadata": {
    "colab_type": "text",
    "id": "38KKgnH9x4oy"
   },
   "source": [
    "## 2.2. Definição do Genético"
   ]
  },
  {
   "cell_type": "code",
   "execution_count": 112,
   "metadata": {
    "code_folding": [
     58
    ],
    "colab": {},
    "colab_type": "code",
    "id": "xy_ZQ3Hex4o1"
   },
   "outputs": [],
   "source": [
    "class Genetic():\n",
    "    \n",
    "    def __init__(\n",
    "        self, \n",
    "        Specie, \n",
    "        mapa,\n",
    "        taxa_cross=1.0,\n",
    "        population_size=100,\n",
    "        C_d=1000,\n",
    "        C_obs=10000,\n",
    "        C_con=500,\n",
    "        C_cur=100,\n",
    "        C_t=10,\n",
    "        max_exec_time=30,\n",
    "        min_precision=1.0,\n",
    "        k_tournament=2,\n",
    "        gps_imprecision=1,\n",
    "        big_delta=1,\n",
    "        version=Version('alpha','RC'),\n",
    "        **kwargs\n",
    "    ):\n",
    "        # Modelo\n",
    "        self.Specie = Specie # objeto : Definição da classe (não a instância)\n",
    "        self.mapa   = mapa   # Mapa   : Mapa com as características da missão\n",
    "\n",
    "        # Parâmetros\n",
    "        self.taxa_cross      = taxa_cross      # float : Taxa de ocorrencia do crossover [0,1]\n",
    "        self.population_size = population_size # int   : Quantidade máxima de indivíduos na população \n",
    "        self.C_d             = C_d             # int   : Custo associado ao fitness de destino\n",
    "        self.C_obs           = C_obs           # int   : Custo associado ao fitness de obstáculos\n",
    "        self.C_con           = C_con           # int   : Custo associado ao fitness de consumo de combustível\n",
    "        self.C_cur           = C_cur           # int   : Custo associado ao fitness de curvatura da rota\n",
    "        self.C_t             = C_t             # int   : Custo associado ao fitness do tamanho do DNA (T ou horizonte de planejamento)\n",
    "        self.max_exec_time   = max_exec_time   # float : Tempo máximo de execução - Stop criteria (segundos)\n",
    "        self.min_precision   = min_precision   # float : Precisão mínima de acerto ao destino (metros)\n",
    "        self.k_tournament    = k_tournament    # int   : Quantidade de indivíduos disputando o torneio\n",
    "        self.gps_imprecision = gps_imprecision # float : Imprecisão do GPS (metros)\n",
    "        self.big_delta       = big_delta\n",
    "        \n",
    "        # Versionamento\n",
    "        self.version = version\n",
    "\n",
    "        # Alguns dos valores do kwargs são passados para a instanciação dos indivíduos\n",
    "        self.kwargs = kwargs\n",
    "        \n",
    "        # Inicialização\n",
    "        self.population = None \n",
    "        self.fitnesses  = None\n",
    "        self.best       = None\n",
    "        self.ancestry   = []\n",
    "        \n",
    "\n",
    "       \n",
    "\n",
    "        \n",
    "    def run(self, max_exec_time=None, verbose=False, info=False, debug=False):\n",
    "        self.max_exec_time = max_exec_time if max_exec_time else self.max_exec_time\n",
    "        \n",
    "        # Acompanhamento do tempo (critério de parada)\n",
    "        self.start_time = time.time()\n",
    "        \n",
    "        # Genesis\n",
    "        self.population = self._genesis(self.Specie, self.population_size)\n",
    "        \n",
    "        # Inicializar\n",
    "        self._decode(self.population)\n",
    "        \n",
    "        # Avaliar\n",
    "        self.fitnesses = [self._fitness(subject, self.mapa) for subject in self.population]\n",
    "    \n",
    "        # Escolher melhor de todos\n",
    "        self.best = self.population[self.fitnesses.index(max(self.fitnesses))]\n",
    "        \n",
    "        \n",
    "        self.trace = []\n",
    "        \n",
    "        while not self.stop_criteria():\n",
    "            self.flag_newborn = self.population_size\n",
    "            count_while = 0\n",
    "            \n",
    "            while not self.converge():\n",
    "                self.flag_newborn = 0\n",
    "                count_while += 1\n",
    "                \n",
    "                for i in range(ceil(self.taxa_cross * self.population_size)):\n",
    "                    # Seleção por torneio\n",
    "                    parent1, parent2 = self._tournament(self.population, k=self.k_tournament)\n",
    "            \n",
    "                    # Crossover\n",
    "                    child = parent1.crossover(parent2)\n",
    "                    \n",
    "                    # Mutação\n",
    "                    child.mutation()\n",
    "                    \n",
    "                    # Fitness\n",
    "                    self._fitness(child, self.mapa)\n",
    "                    \n",
    "                    # Adicionar filho na população\n",
    "                    self._insert(child, parent1, parent2)\n",
    "                    \n",
    "                    # Print\n",
    "                    if verbose and self.flag_newbest:\n",
    "                        print('  Novo melhor de todos! fit: {}'.format(self.best.fitness))\n",
    "                    if debug:\n",
    "                        print('\\nparent1.dna', parent1.dna)\n",
    "                        print('\\nparent2.dna', parent2.dna)\n",
    "                        print('\\nchild.dna.mutation', child.dna)\n",
    "                        \n",
    "                        \n",
    "                aux_T_dna = [len(subject.dna) for subject in self.population]\n",
    "                self.trace.append({\n",
    "                    'medium_fitness': sum(self.fitnesses)/self.population_size,\n",
    "                    'best_fitness': self.best.fitness,\n",
    "                    'newborns': self.flag_newborn,\n",
    "                    'newbest': self.flag_newbest,\n",
    "                    'T_medio': sum(aux_T_dna)/self.population_size,\n",
    "                    'T_maior': max(aux_T_dna),\n",
    "                    'T_menor': min(aux_T_dna),\n",
    "                    'T_melhor': len(self.best.dna)\n",
    "                })\n",
    "                \n",
    "                # Print\n",
    "                if verbose:\n",
    "                    print('Fim da geração. {} novos indivíduos'.format(self.flag_newborn))\n",
    "                    print('Melhor de todos: {}'.format(self.best.fitness))\n",
    "                    print('-'*20)\n",
    "                        \n",
    "                        \n",
    "            # Reiniciar rotas\n",
    "            self.population = []\n",
    "            self.population = self._genesis(self.Specie, self.population_size-1)\n",
    "            # Nunca matar o melhor de todos\n",
    "            self.population.append(self.best)\n",
    "            \n",
    "            # Inicializar\n",
    "            self._decode(self.population)\n",
    "            \n",
    "            # Avaliar\n",
    "            self.fitnesses = [self._fitness(subject, self.mapa) for subject in self.population]\n",
    "            \n",
    "            # Print\n",
    "            if verbose:\n",
    "                print('Meteoro! Reiniciando rotas')\n",
    "            if info:\n",
    "                print('Meteoro! Melhor de todos:{} - count:{}'.format(self.best.fitness, count_while))\n",
    "                \n",
    "                \n",
    "        return self.best\n",
    "                      \n",
    "    # ---\n",
    "    \n",
    "    def _insert(self, child, parent1, parent2):\n",
    "        # Verifica se um indivíduo é digno de entrar na população e tomar o lugar de um de seus pais\n",
    "\n",
    "        self.flag_newbest = False\n",
    "        \n",
    "        if child.fitness < parent1.fitness:\n",
    "            self.__substitute(child, parent1)\n",
    "\n",
    "        elif child.fitness < parent2.fitness:\n",
    "            self.__substitute(child, parent2)\n",
    "\n",
    "        if child.fitness < self.best.fitness:\n",
    "            self.best = child\n",
    "            self.ancestry.append(child)\n",
    "            self.flag_newbest = True\n",
    "    \n",
    "    \n",
    "    def __substitute(self, child, parent):\n",
    "        i_parent = self.population.index(parent)\n",
    "\n",
    "        self.population.remove(parent)\n",
    "        self.population.append(child)\n",
    "\n",
    "        self.fitnesses.pop(i_parent)\n",
    "        self.fitnesses.append(child.fitness)\n",
    "        self.flag_newborn += 1\n",
    "    \n",
    "    \n",
    "    # ---\n",
    "    \n",
    "    def stop_criteria(self):\n",
    "        # Para a execução depois de uma quantidade de segundos\n",
    "        if (time.time() - self.start_time) >= self.max_exec_time:\n",
    "            return True\n",
    "        return False\n",
    "    \n",
    "    def converge(self):\n",
    "        # Converge caso nenhum novo indivíduo seja adicinado\n",
    "        if self.flag_newborn == 0:\n",
    "            return True\n",
    "        return False\n",
    "                         \n",
    "    # ---\n",
    "    \n",
    "    def _genesis(self, Specie, population_size):\n",
    "        population = [Specie(start_time=self.start_time, version=self.version,**self.kwargs) for i in range(population_size)]\n",
    "        return population \n",
    "    \n",
    "    # ---\n",
    "    \n",
    "    def _decode(self, population):\n",
    "        for subject in population:\n",
    "            subject.decode()\n",
    "        return True\n",
    "    \n",
    "    # ---\n",
    "    \n",
    "    def _fitness(self, subject, mapa):\n",
    "        \n",
    "        fit_d   = self.__fitness_destination(subject, mapa)\n",
    "        fit_obs = self.__fitness_obstacles(subject, mapa)\n",
    "        fit_con = self.__fitness_consumption(subject, mapa)\n",
    "        fit_cur = self.__fitness_curves(subject, mapa)\n",
    "        fit_t   = self.__fitness_t(subject, mapa)\n",
    "        \n",
    "        fitness_trace = [self.C_d   * fit_d,\n",
    "                         self.C_obs * fit_obs,\n",
    "                         self.C_con * fit_con,\n",
    "                         self.C_cur * fit_cur,\n",
    "                         self.C_t   * fit_t]\n",
    "        \n",
    "        fitness = sum(fitness_trace)\n",
    "        \n",
    "        birth_time = time.time() - self.start_time\n",
    "        \n",
    "        subject.set_fitness(fitness, fitness_trace, birth_time)\n",
    "        \n",
    "        return fitness\n",
    "    \n",
    "    def __fitness_destination(self, subject, mapa):\n",
    "        # Prioriza rotas que acertem o destino\n",
    "        \n",
    "        A = subject.dna_decoded[-1] # Último waypoint da rota\n",
    "        B = mapa.destination        # Waypoint de destino\n",
    "        \n",
    "        # Distância euclidiana entre o último ponto da rota e o ponto de destino\n",
    "        d = sqrt( (B.x - A.x)**2 + (B.y - A.y)**2 )\n",
    "        \n",
    "        # Determina uma precisão mínima aceita\n",
    "        if d < self.min_precision: # min_precision default = 1.0\n",
    "            return 0\n",
    "        return d\n",
    "\n",
    "    \n",
    "    def __fitness_obstacles(self, subject, mapa):\n",
    "        # def __fitness_obstacles is an abstraction of either one of those two following functions\n",
    "        # __fitness_obstacles_RC and __fitness_obstacles_CC\n",
    "        \n",
    "        if self.version.minor == \"RC\":\n",
    "            return self.__fitness_obstacles_RC(subject, mapa)\n",
    "        \n",
    "        elif self.version.minor == \"CC\":\n",
    "            return self.__fitness_obstacles_CC(subject, mapa)\n",
    "    \n",
    "\n",
    "    def __fitness_obstacles_RC(self, subject, mapa):\n",
    "        # Prioriza rotas que não ultrapassem obstáculos\n",
    "        count = 0\n",
    "        \n",
    "        for gene_decoded_t1, gene_decoded_t2  in pairwise(subject.dna_decoded):\n",
    "            # Utiliza somente as áreas infladas para cálculo\n",
    "            for area_n in mapa.areas_n_inf:\n",
    "                wp1 = CartesianPoint(gene_decoded_t1.x, gene_decoded_t1.y)\n",
    "                wp2 = CartesianPoint(gene_decoded_t2.x, gene_decoded_t2.y)\n",
    "                \n",
    "                # Calcula se algum waypoint está dentro de algum obstáculo\n",
    "                if point_in_polygon(wp1, area_n):\n",
    "                    count += 1\n",
    "\n",
    "                # Calcula se alguma conexão entre os waypoints intersecciona algum obstáculo\n",
    "                if segment_in_polygon(wp1, wp2, area_n):\n",
    "                    count += 1\n",
    "            \n",
    "        return count\n",
    "\n",
    "\n",
    "    def __fitness_obstacles_CC(self, subject, mapa):\n",
    "        uncertainty = self.gps_imprecision\n",
    "    \n",
    "        #if debug:\n",
    "        #    print('(   x   ,   y   ) distance | risk(%)')\n",
    "\n",
    "        risks_points = []\n",
    "        for gene_decoded in subject.dna_decoded:\n",
    "            risks_areas = []\n",
    "            for area in mapa.areas_n_inf:\n",
    "                wp = CartesianPoint(gene_decoded.x, gene_decoded.y)\n",
    "\n",
    "                distance = _distance_wp_area(wp, area)\n",
    "                risk = _prob_collision(distance, uncertainty)\n",
    "\n",
    "                #if debug: \n",
    "                #    print('({0:^.1f},{1:^.1f}) {2:8.3f} | {3:}'.format(wp.x, wp.y, distance, round(risk,4)))\n",
    "\n",
    "                risks_areas.append(risk)\n",
    "            risks_points.append(sum(risks_areas))\n",
    "\n",
    "        #print(risks_points)\n",
    "        return sum(risks_points)\n",
    "    \n",
    "    \n",
    "    def __fitness_consumption(self, subject, _):\n",
    "        # Prioriza rotas com menor consumo de combustível (bateria)\n",
    "        consumption = [gene.a**2 for gene in subject.dna]\n",
    "        return sum(consumption)\n",
    "    \n",
    "        \n",
    "    def __fitness_curves(self, subject, _):\n",
    "        # Prioriza rotas que evitem fazer curvas desnecessárias\n",
    "        curves = [abs(gene.e) for gene in subject.dna]\n",
    "        return (1/subject.e_max) * sum(curves)\n",
    "        \n",
    "        \n",
    "    def __fitness_t(self, subject, _):\n",
    "        # Prioriza rotas com menor quantidade de waypoints\n",
    "        return len(subject.dna)\n",
    "    \n",
    "        \n",
    "    # ---\n",
    "        \n",
    "    def _tournament(self, population, k=2):\n",
    "        parents = []\n",
    "        for i in range(2):\n",
    "            \n",
    "            local_best = random.choice(population)\n",
    "            for j in range(k-1):\n",
    "                # Seleciona k individuos\n",
    "                a = random.choice(population)\n",
    "                if a.fitness < local_best.fitness:\n",
    "                    local_best = a\n",
    "                    \n",
    "            parents.append(local_best)\n",
    "            \n",
    "        # Retorna o resultado de duas batalhas\n",
    "        return parents[0], parents[1]\n",
    "        \n",
    "        \n",
    "\n",
    "        \n",
    "        \n",
    "        "
   ]
  },
  {
   "cell_type": "markdown",
   "metadata": {
    "colab_type": "text",
    "heading_collapsed": true,
    "id": "FWYswQ5hx4o7"
   },
   "source": [
    "# 3. Execução\n",
    "Essa seção contém a execução do AG. Aqui contém as definições dos mapas, e execução do planejador de rotas."
   ]
  },
  {
   "cell_type": "markdown",
   "metadata": {
    "colab_type": "text",
    "heading_collapsed": true,
    "hidden": true,
    "id": "Tsgznc0xx4o-"
   },
   "source": [
    "## 3.1. Mapas"
   ]
  },
  {
   "cell_type": "markdown",
   "metadata": {
    "colab_type": "text",
    "heading_collapsed": true,
    "hidden": true,
    "id": "Ft3SC9I6x4pC"
   },
   "source": [
    "### Mapa 1"
   ]
  },
  {
   "cell_type": "code",
   "execution_count": 9,
   "metadata": {
    "colab": {},
    "colab_type": "code",
    "hidden": true,
    "id": "VPnVXROax4pE"
   },
   "outputs": [],
   "source": [
    "wp_ori = CartesianPoint(10.0, 10.0)\n",
    "wp_des = CartesianPoint(40.0, 10.0)\n",
    "\n",
    "verts1 = [\n",
    "    (20.0, 5.0), # left, bottom\n",
    "    (20.0, 15.5), # left, top\n",
    "    (30.0, 15.5), # right, top\n",
    "    (30.0, 5.0), # right, bottom\n",
    "]\n",
    "verts1.append(verts1[0])\n",
    "verts1 = [CartesianPoint(v[0], v[1]) for v in verts1]\n",
    "\n",
    "\n",
    "mapa_1 = Mapa(wp_ori, wp_des, [verts1], inflation_rate=1)"
   ]
  },
  {
   "cell_type": "code",
   "execution_count": 10,
   "metadata": {
    "colab": {
     "base_uri": "https://localhost:8080/",
     "height": 0
    },
    "colab_type": "code",
    "hidden": true,
    "id": "fThebDLqx4pL",
    "outputId": "f58d996d-d3ba-46db-a9bc-3a2ad9654656"
   },
   "outputs": [
    {
     "data": {
      "image/png": "[encoded data removed]",
      "text/plain": [
       "<Figure size 576x576 with 1 Axes>"
      ]
     },
     "metadata": {
      "needs_background": "light"
     },
     "output_type": "display_data"
    }
   ],
   "source": [
    "# Visualização desse mapa\n",
    "vis_mapa(mapa_1)"
   ]
  },
  {
   "cell_type": "markdown",
   "metadata": {
    "colab_type": "text",
    "heading_collapsed": true,
    "hidden": true,
    "id": "JMFNy7JYx4pT"
   },
   "source": [
    "### Mapa 2"
   ]
  },
  {
   "cell_type": "code",
   "execution_count": 11,
   "metadata": {
    "colab": {},
    "colab_type": "code",
    "hidden": true,
    "id": "wGMgGuzIx4pV"
   },
   "outputs": [],
   "source": [
    "wp_ori = CartesianPoint(10.0, 10.0)\n",
    "wp_des = CartesianPoint(40.0, 10.0)\n",
    "\n",
    "verts1 = [\n",
    "    (15.0,  8.0), # left, bottom\n",
    "    (15.0, 20.0), # left, top\n",
    "    (20.0, 20.0), # right, top\n",
    "    (20.0,  8.0), # right, bottom\n",
    "]\n",
    "verts1.append(verts1[0])\n",
    "verts1 = [CartesianPoint(v[0], v[1]) for v in verts1]\n",
    "\n",
    "verts2 = [\n",
    "    (30.0,  0.0), # left, bottom\n",
    "    (30.0, 12.0), # left, top\n",
    "    (35.0, 12.0), # right, top\n",
    "    (35.0,  0.0), # right, bottom\n",
    "]\n",
    "verts2.append(verts2[0])\n",
    "verts2 = [CartesianPoint(v[0], v[1]) for v in verts2]\n",
    "\n",
    "mapa_2 = Mapa(wp_ori, wp_des, [verts1, verts2], inflation_rate=1)"
   ]
  },
  {
   "cell_type": "code",
   "execution_count": 12,
   "metadata": {
    "colab": {
     "base_uri": "https://localhost:8080/",
     "height": 0
    },
    "colab_type": "code",
    "hidden": true,
    "id": "UfQ7NODex4pd",
    "outputId": "61ad0b74-8458-45be-ca5d-d3418e915cf1",
    "scrolled": false
   },
   "outputs": [
    {
     "data": {
      "image/png": "[encoded data removed]",
      "text/plain": [
       "<Figure size 576x576 with 1 Axes>"
      ]
     },
     "metadata": {
      "needs_background": "light"
     },
     "output_type": "display_data"
    }
   ],
   "source": [
    "# Visualização desse mapa\n",
    "vis_mapa(mapa_2)"
   ]
  },
  {
   "cell_type": "markdown",
   "metadata": {
    "colab_type": "text",
    "heading_collapsed": true,
    "hidden": true,
    "id": "7ci1gBXrx4pk"
   },
   "source": [
    "### Mapa 3"
   ]
  },
  {
   "cell_type": "code",
   "execution_count": 13,
   "metadata": {
    "colab": {},
    "colab_type": "code",
    "hidden": true,
    "id": "iWaA-jIBx4pm"
   },
   "outputs": [],
   "source": [
    "wp_ori = CartesianPoint(10.0, 10.0)\n",
    "wp_des = CartesianPoint(40.0, 10.0)\n",
    "\n",
    "verts1 = [\n",
    "    (15.0, 11.0), # left, bottom\n",
    "    (15.0, 25.0), # left, top\n",
    "    (35.0, 23.0), # right, top\n",
    "    (35.0, 16.0), # right, bottom\n",
    "]\n",
    "verts1.append(verts1[0])\n",
    "verts1 = [CartesianPoint(v[0], v[1]) for v in verts1]\n",
    "\n",
    "verts2 = [\n",
    "    (15.0,  0.0), # left, bottom\n",
    "    (15.0,  9.0), # left, top\n",
    "    (35.0, 12.0), # right, top\n",
    "    (35.0,  6.0), # right, bottom\n",
    "]\n",
    "verts2.append(verts2[0])\n",
    "verts2 = [CartesianPoint(v[0], v[1]) for v in verts2]\n",
    "\n",
    "mapa_3 = Mapa(wp_ori, wp_des, [verts1, verts2], inflation_rate=0.5)"
   ]
  },
  {
   "cell_type": "code",
   "execution_count": 14,
   "metadata": {
    "colab": {
     "base_uri": "https://localhost:8080/",
     "height": 0
    },
    "colab_type": "code",
    "hidden": true,
    "id": "722_k7itx4pu",
    "outputId": "a8391429-28ee-4252-b517-3538564c91f9"
   },
   "outputs": [
    {
     "data": {
      "image/png": "[encoded data removed]",
      "text/plain": [
       "<Figure size 576x576 with 1 Axes>"
      ]
     },
     "metadata": {
      "needs_background": "light"
     },
     "output_type": "display_data"
    }
   ],
   "source": [
    "# Visualização desse mapa\n",
    "vis_mapa(mapa_3)"
   ]
  },
  {
   "cell_type": "markdown",
   "metadata": {
    "colab_type": "text",
    "heading_collapsed": true,
    "hidden": true,
    "id": "IkZykgeDn1cW"
   },
   "source": [
    "### Mapa 4"
   ]
  },
  {
   "cell_type": "code",
   "execution_count": 15,
   "metadata": {
    "colab": {},
    "colab_type": "code",
    "hidden": true,
    "id": "xOrTJ970n3wx"
   },
   "outputs": [],
   "source": [
    "wp_ori = CartesianPoint(40.0, 25.0)\n",
    "wp_des = CartesianPoint(36.0, -22.0)\n",
    "\n",
    "verts1 = [\n",
    "    (19.0,-12.0), # left, bottom\n",
    "    (15.0,0.0), # left, top\n",
    "    (87.0,15.0), # right, top\n",
    "    (90.0,3.0), # right, bottom\n",
    "]\n",
    "verts1.append(verts1[0])\n",
    "verts1 = [CartesianPoint(v[0], v[1]) for v in verts1]\n",
    "\n",
    "# verts1 = [\n",
    "#     (38.0,-9.0), # left, bottom\n",
    "#     (38.0,6.0), # left, top\n",
    "#     (87.0,15.0), # right, top\n",
    "#     (90.0,3.0), # right, bottom\n",
    "# ]\n",
    "# verts1.append(verts1[0])\n",
    "# verts1 = [CartesianPoint(v[0], v[1]) for v in verts1]\n",
    "\n",
    "verts2 = [\n",
    "    (15.0,  0.0), # left, bottom\n",
    "    (15.0,  9.0), # left, top\n",
    "    (35.0, 12.0), # right, top\n",
    "    (35.0,  6.0), # right, bottom\n",
    "]\n",
    "verts2.append(verts2[0])\n",
    "verts2 = [CartesianPoint(v[0], v[1]) for v in verts2]\n",
    "\n",
    "mapa_4 = Mapa(wp_ori, wp_des, [verts1], inflation_rate=0.5)"
   ]
  },
  {
   "cell_type": "code",
   "execution_count": 16,
   "metadata": {
    "colab": {
     "base_uri": "https://localhost:8080/",
     "height": 0
    },
    "colab_type": "code",
    "hidden": true,
    "id": "56I0rLCOoH39",
    "outputId": "196b4068-9f70-489e-c072-eef881e8b0b5"
   },
   "outputs": [
    {
     "data": {
      "image/png": "[encoded data removed]",
      "text/plain": [
       "<Figure size 576x576 with 1 Axes>"
      ]
     },
     "metadata": {
      "needs_background": "light"
     },
     "output_type": "display_data"
    }
   ],
   "source": [
    "# Visualização desse mapa\n",
    "vis_mapa(mapa_4)"
   ]
  },
  {
   "cell_type": "markdown",
   "metadata": {
    "heading_collapsed": true,
    "hidden": true
   },
   "source": [
    "### Dict"
   ]
  },
  {
   "cell_type": "code",
   "execution_count": 76,
   "metadata": {
    "hidden": true
   },
   "outputs": [],
   "source": [
    "mapas_id = {\n",
    "    '1': mapa_1,\n",
    "    '2': mapa_2,\n",
    "    '3': mapa_3,\n",
    "    '4': mapa_4\n",
    "}"
   ]
  },
  {
   "cell_type": "markdown",
   "metadata": {
    "colab_type": "text",
    "heading_collapsed": true,
    "hidden": true,
    "id": "AgBiq82wx4p0"
   },
   "source": [
    "## 3.2. Planejamento de Rota"
   ]
  },
  {
   "cell_type": "code",
   "execution_count": 17,
   "metadata": {
    "colab": {
     "base_uri": "https://localhost:8080/",
     "height": 659
    },
    "colab_type": "code",
    "hidden": true,
    "id": "-gv2pxIIx4p1",
    "outputId": "dc12f813-390a-421c-ec45-67ccaa2ccc4a"
   },
   "outputs": [
    {
     "name": "stdout",
     "output_type": "stream",
     "text": [
      "Meteoro! Melhor de todos:12370.08713488874 - count:6\n",
      "Meteoro! Melhor de todos:12370.08713488874 - count:9\n",
      "Meteoro! Melhor de todos:12360.262272637192 - count:17\n",
      "Meteoro! Melhor de todos:12360.262272637192 - count:12\n",
      "Meteoro! Melhor de todos:12360.262272637192 - count:15\n",
      "Meteoro! Melhor de todos:12336.279379622558 - count:19\n",
      "Meteoro! Melhor de todos:12336.279379622558 - count:9\n",
      "Meteoro! Melhor de todos:11545.549770889735 - count:22\n",
      "Meteoro! Melhor de todos:11545.549770889735 - count:10\n",
      "Meteoro! Melhor de todos:11545.549770889735 - count:10\n",
      "Meteoro! Melhor de todos:11545.549770889735 - count:13\n",
      "Meteoro! Melhor de todos:11545.549770889735 - count:12\n",
      "Meteoro! Melhor de todos:11368.151218565132 - count:9\n",
      "Meteoro! Melhor de todos:11368.151218565132 - count:15\n",
      "Meteoro! Melhor de todos:11368.151218565132 - count:12\n",
      "Meteoro! Melhor de todos:11368.151218565132 - count:4\n"
     ]
    },
    {
     "ename": "KeyboardInterrupt",
     "evalue": "",
     "output_type": "error",
     "traceback": [
      "\u001b[0;31m---------------------------------------------------------------------------\u001b[0m",
      "\u001b[0;31mKeyboardInterrupt\u001b[0m                         Traceback (most recent call last)",
      "\u001b[0;32m<ipython-input-17-23c9f65b9ea3>\u001b[0m in \u001b[0;36m<module>\u001b[0;34m\u001b[0m\n\u001b[1;32m     35\u001b[0m \u001b[0;34m\u001b[0m\u001b[0m\n\u001b[1;32m     36\u001b[0m \u001b[0;31m# Execução do AG, retorna o melhor indivíduo\u001b[0m\u001b[0;34m\u001b[0m\u001b[0;34m\u001b[0m\u001b[0;34m\u001b[0m\u001b[0m\n\u001b[0;32m---> 37\u001b[0;31m \u001b[0mbest\u001b[0m \u001b[0;34m=\u001b[0m \u001b[0mag\u001b[0m\u001b[0;34m.\u001b[0m\u001b[0mrun\u001b[0m\u001b[0;34m(\u001b[0m\u001b[0minfo\u001b[0m\u001b[0;34m=\u001b[0m\u001b[0;32mTrue\u001b[0m\u001b[0;34m)\u001b[0m\u001b[0;34m\u001b[0m\u001b[0;34m\u001b[0m\u001b[0m\n\u001b[0m\u001b[1;32m     38\u001b[0m \u001b[0;34m\u001b[0m\u001b[0m\n\u001b[1;32m     39\u001b[0m \u001b[0;31m# Print do DNA do melhor\u001b[0m\u001b[0;34m\u001b[0m\u001b[0;34m\u001b[0m\u001b[0;34m\u001b[0m\u001b[0m\n",
      "\u001b[0;32m<ipython-input-8-636b13b1f5e5>\u001b[0m in \u001b[0;36mrun\u001b[0;34m(self, max_exec_time, verbose, info, debug)\u001b[0m\n\u001b[1;32m     97\u001b[0m \u001b[0;34m\u001b[0m\u001b[0m\n\u001b[1;32m     98\u001b[0m                     \u001b[0;31m# Fitness\u001b[0m\u001b[0;34m\u001b[0m\u001b[0;34m\u001b[0m\u001b[0;34m\u001b[0m\u001b[0m\n\u001b[0;32m---> 99\u001b[0;31m                     \u001b[0mself\u001b[0m\u001b[0;34m.\u001b[0m\u001b[0m_fitness\u001b[0m\u001b[0;34m(\u001b[0m\u001b[0mchild\u001b[0m\u001b[0;34m,\u001b[0m \u001b[0mself\u001b[0m\u001b[0;34m.\u001b[0m\u001b[0mmapa\u001b[0m\u001b[0;34m)\u001b[0m\u001b[0;34m\u001b[0m\u001b[0;34m\u001b[0m\u001b[0m\n\u001b[0m\u001b[1;32m    100\u001b[0m \u001b[0;34m\u001b[0m\u001b[0m\n\u001b[1;32m    101\u001b[0m                     \u001b[0;31m# Adicionar filho na população\u001b[0m\u001b[0;34m\u001b[0m\u001b[0;34m\u001b[0m\u001b[0;34m\u001b[0m\u001b[0m\n",
      "\u001b[0;32m<ipython-input-8-636b13b1f5e5>\u001b[0m in \u001b[0;36m_fitness\u001b[0;34m(self, subject, mapa)\u001b[0m\n\u001b[1;32m    213\u001b[0m \u001b[0;34m\u001b[0m\u001b[0m\n\u001b[1;32m    214\u001b[0m         \u001b[0mfit_d\u001b[0m   \u001b[0;34m=\u001b[0m \u001b[0mself\u001b[0m\u001b[0;34m.\u001b[0m\u001b[0m__fitness_destination\u001b[0m\u001b[0;34m(\u001b[0m\u001b[0msubject\u001b[0m\u001b[0;34m,\u001b[0m \u001b[0mmapa\u001b[0m\u001b[0;34m)\u001b[0m\u001b[0;34m\u001b[0m\u001b[0;34m\u001b[0m\u001b[0m\n\u001b[0;32m--> 215\u001b[0;31m         \u001b[0mfit_obs\u001b[0m \u001b[0;34m=\u001b[0m \u001b[0mself\u001b[0m\u001b[0;34m.\u001b[0m\u001b[0m__fitness_obstacles\u001b[0m\u001b[0;34m(\u001b[0m\u001b[0msubject\u001b[0m\u001b[0;34m,\u001b[0m \u001b[0mmapa\u001b[0m\u001b[0;34m)\u001b[0m\u001b[0;34m\u001b[0m\u001b[0;34m\u001b[0m\u001b[0m\n\u001b[0m\u001b[1;32m    216\u001b[0m         \u001b[0mfit_con\u001b[0m \u001b[0;34m=\u001b[0m \u001b[0mself\u001b[0m\u001b[0;34m.\u001b[0m\u001b[0m__fitness_consumption\u001b[0m\u001b[0;34m(\u001b[0m\u001b[0msubject\u001b[0m\u001b[0;34m,\u001b[0m \u001b[0mmapa\u001b[0m\u001b[0;34m)\u001b[0m\u001b[0;34m\u001b[0m\u001b[0;34m\u001b[0m\u001b[0m\n\u001b[1;32m    217\u001b[0m         \u001b[0mfit_cur\u001b[0m \u001b[0;34m=\u001b[0m \u001b[0mself\u001b[0m\u001b[0;34m.\u001b[0m\u001b[0m__fitness_curves\u001b[0m\u001b[0;34m(\u001b[0m\u001b[0msubject\u001b[0m\u001b[0;34m,\u001b[0m \u001b[0mmapa\u001b[0m\u001b[0;34m)\u001b[0m\u001b[0;34m\u001b[0m\u001b[0;34m\u001b[0m\u001b[0m\n",
      "\u001b[0;32m<ipython-input-8-636b13b1f5e5>\u001b[0m in \u001b[0;36m__fitness_obstacles_CC\u001b[0;34m(self, subject, mapa)\u001b[0m\n\u001b[1;32m    284\u001b[0m \u001b[0;34m\u001b[0m\u001b[0m\n\u001b[1;32m    285\u001b[0m                 \u001b[0mdistance\u001b[0m \u001b[0;34m=\u001b[0m \u001b[0m_distance_wp_area\u001b[0m\u001b[0;34m(\u001b[0m\u001b[0mwp\u001b[0m\u001b[0;34m,\u001b[0m \u001b[0marea\u001b[0m\u001b[0;34m)\u001b[0m\u001b[0;34m\u001b[0m\u001b[0;34m\u001b[0m\u001b[0m\n\u001b[0;32m--> 286\u001b[0;31m                 \u001b[0mrisk\u001b[0m \u001b[0;34m=\u001b[0m \u001b[0m_prob_collision\u001b[0m\u001b[0;34m(\u001b[0m\u001b[0mdistance\u001b[0m\u001b[0;34m,\u001b[0m \u001b[0muncertainty\u001b[0m\u001b[0;34m)\u001b[0m\u001b[0;34m\u001b[0m\u001b[0;34m\u001b[0m\u001b[0m\n\u001b[0m\u001b[1;32m    287\u001b[0m \u001b[0;34m\u001b[0m\u001b[0m\n\u001b[1;32m    288\u001b[0m                 \u001b[0;31m#if debug:\u001b[0m\u001b[0;34m\u001b[0m\u001b[0;34m\u001b[0m\u001b[0;34m\u001b[0m\u001b[0m\n",
      "\u001b[0;32m<ipython-input-1-90a79401924d>\u001b[0m in \u001b[0;36m_prob_collision\u001b[0;34m(distance, uncertainty)\u001b[0m\n\u001b[1;32m    273\u001b[0m     \u001b[0;31m# sigma : desvio padrão : scale\u001b[0m\u001b[0;34m\u001b[0m\u001b[0;34m\u001b[0m\u001b[0;34m\u001b[0m\u001b[0m\n\u001b[1;32m    274\u001b[0m \u001b[0;34m\u001b[0m\u001b[0m\n\u001b[0;32m--> 275\u001b[0;31m     \u001b[0;32mreturn\u001b[0m \u001b[0mnorm\u001b[0m\u001b[0;34m.\u001b[0m\u001b[0msf\u001b[0m\u001b[0;34m(\u001b[0m\u001b[0mdistance\u001b[0m\u001b[0;34m,\u001b[0m \u001b[0mloc\u001b[0m\u001b[0;34m=\u001b[0m\u001b[0;36m0\u001b[0m\u001b[0;34m,\u001b[0m \u001b[0mscale\u001b[0m\u001b[0;34m=\u001b[0m\u001b[0muncertainty\u001b[0m\u001b[0;34m)\u001b[0m\u001b[0;34m\u001b[0m\u001b[0;34m\u001b[0m\u001b[0m\n\u001b[0m",
      "\u001b[0;32m/usr/local/lib/python3.6/dist-packages/scipy/stats/_distn_infrastructure.py\u001b[0m in \u001b[0;36msf\u001b[0;34m(self, x, *args, **kwds)\u001b[0m\n\u001b[1;32m   1886\u001b[0m         \u001b[0mx\u001b[0m\u001b[0;34m,\u001b[0m \u001b[0mloc\u001b[0m\u001b[0;34m,\u001b[0m \u001b[0mscale\u001b[0m \u001b[0;34m=\u001b[0m \u001b[0mmap\u001b[0m\u001b[0;34m(\u001b[0m\u001b[0masarray\u001b[0m\u001b[0;34m,\u001b[0m \u001b[0;34m(\u001b[0m\u001b[0mx\u001b[0m\u001b[0;34m,\u001b[0m \u001b[0mloc\u001b[0m\u001b[0;34m,\u001b[0m \u001b[0mscale\u001b[0m\u001b[0;34m)\u001b[0m\u001b[0;34m)\u001b[0m\u001b[0;34m\u001b[0m\u001b[0;34m\u001b[0m\u001b[0m\n\u001b[1;32m   1887\u001b[0m         \u001b[0margs\u001b[0m \u001b[0;34m=\u001b[0m \u001b[0mtuple\u001b[0m\u001b[0;34m(\u001b[0m\u001b[0mmap\u001b[0m\u001b[0;34m(\u001b[0m\u001b[0masarray\u001b[0m\u001b[0;34m,\u001b[0m \u001b[0margs\u001b[0m\u001b[0;34m)\u001b[0m\u001b[0;34m)\u001b[0m\u001b[0;34m\u001b[0m\u001b[0;34m\u001b[0m\u001b[0m\n\u001b[0;32m-> 1888\u001b[0;31m         \u001b[0mdtyp\u001b[0m \u001b[0;34m=\u001b[0m \u001b[0mnp\u001b[0m\u001b[0;34m.\u001b[0m\u001b[0mfind_common_type\u001b[0m\u001b[0;34m(\u001b[0m\u001b[0;34m[\u001b[0m\u001b[0mx\u001b[0m\u001b[0;34m.\u001b[0m\u001b[0mdtype\u001b[0m\u001b[0;34m,\u001b[0m \u001b[0mnp\u001b[0m\u001b[0;34m.\u001b[0m\u001b[0mfloat64\u001b[0m\u001b[0;34m]\u001b[0m\u001b[0;34m,\u001b[0m \u001b[0;34m[\u001b[0m\u001b[0;34m]\u001b[0m\u001b[0;34m)\u001b[0m\u001b[0;34m\u001b[0m\u001b[0;34m\u001b[0m\u001b[0m\n\u001b[0m\u001b[1;32m   1889\u001b[0m         \u001b[0mx\u001b[0m \u001b[0;34m=\u001b[0m \u001b[0mnp\u001b[0m\u001b[0;34m.\u001b[0m\u001b[0masarray\u001b[0m\u001b[0;34m(\u001b[0m\u001b[0;34m(\u001b[0m\u001b[0mx\u001b[0m \u001b[0;34m-\u001b[0m \u001b[0mloc\u001b[0m\u001b[0;34m)\u001b[0m\u001b[0;34m/\u001b[0m\u001b[0mscale\u001b[0m\u001b[0;34m,\u001b[0m \u001b[0mdtype\u001b[0m\u001b[0;34m=\u001b[0m\u001b[0mdtyp\u001b[0m\u001b[0;34m)\u001b[0m\u001b[0;34m\u001b[0m\u001b[0;34m\u001b[0m\u001b[0m\n\u001b[1;32m   1890\u001b[0m         \u001b[0mcond0\u001b[0m \u001b[0;34m=\u001b[0m \u001b[0mself\u001b[0m\u001b[0;34m.\u001b[0m\u001b[0m_argcheck\u001b[0m\u001b[0;34m(\u001b[0m\u001b[0;34m*\u001b[0m\u001b[0margs\u001b[0m\u001b[0;34m)\u001b[0m \u001b[0;34m&\u001b[0m \u001b[0;34m(\u001b[0m\u001b[0mscale\u001b[0m \u001b[0;34m>\u001b[0m \u001b[0;36m0\u001b[0m\u001b[0;34m)\u001b[0m\u001b[0;34m\u001b[0m\u001b[0;34m\u001b[0m\u001b[0m\n",
      "\u001b[0;32m/usr/local/lib/python3.6/dist-packages/numpy/core/numerictypes.py\u001b[0m in \u001b[0;36mfind_common_type\u001b[0;34m(array_types, scalar_types)\u001b[0m\n\u001b[1;32m    655\u001b[0m     \u001b[0mscalar_types\u001b[0m \u001b[0;34m=\u001b[0m \u001b[0;34m[\u001b[0m\u001b[0mdtype\u001b[0m\u001b[0;34m(\u001b[0m\u001b[0mx\u001b[0m\u001b[0;34m)\u001b[0m \u001b[0;32mfor\u001b[0m \u001b[0mx\u001b[0m \u001b[0;32min\u001b[0m \u001b[0mscalar_types\u001b[0m\u001b[0;34m]\u001b[0m\u001b[0;34m\u001b[0m\u001b[0;34m\u001b[0m\u001b[0m\n\u001b[1;32m    656\u001b[0m \u001b[0;34m\u001b[0m\u001b[0m\n\u001b[0;32m--> 657\u001b[0;31m     \u001b[0mmaxa\u001b[0m \u001b[0;34m=\u001b[0m \u001b[0m_can_coerce_all\u001b[0m\u001b[0;34m(\u001b[0m\u001b[0marray_types\u001b[0m\u001b[0;34m)\u001b[0m\u001b[0;34m\u001b[0m\u001b[0;34m\u001b[0m\u001b[0m\n\u001b[0m\u001b[1;32m    658\u001b[0m     \u001b[0mmaxsc\u001b[0m \u001b[0;34m=\u001b[0m \u001b[0m_can_coerce_all\u001b[0m\u001b[0;34m(\u001b[0m\u001b[0mscalar_types\u001b[0m\u001b[0;34m)\u001b[0m\u001b[0;34m\u001b[0m\u001b[0;34m\u001b[0m\u001b[0m\n\u001b[1;32m    659\u001b[0m \u001b[0;34m\u001b[0m\u001b[0m\n",
      "\u001b[0;32m/usr/local/lib/python3.6/dist-packages/numpy/core/numerictypes.py\u001b[0m in \u001b[0;36m_can_coerce_all\u001b[0;34m(dtypelist, start)\u001b[0m\n\u001b[1;32m    584\u001b[0m     \u001b[0mthisind\u001b[0m \u001b[0;34m=\u001b[0m \u001b[0mstart\u001b[0m\u001b[0;34m\u001b[0m\u001b[0;34m\u001b[0m\u001b[0m\n\u001b[1;32m    585\u001b[0m     \u001b[0;32mwhile\u001b[0m \u001b[0mthisind\u001b[0m \u001b[0;34m<\u001b[0m \u001b[0m__len_test_types\u001b[0m\u001b[0;34m:\u001b[0m\u001b[0;34m\u001b[0m\u001b[0;34m\u001b[0m\u001b[0m\n\u001b[0;32m--> 586\u001b[0;31m         \u001b[0mnewdtype\u001b[0m \u001b[0;34m=\u001b[0m \u001b[0mdtype\u001b[0m\u001b[0;34m(\u001b[0m\u001b[0m__test_types\u001b[0m\u001b[0;34m[\u001b[0m\u001b[0mthisind\u001b[0m\u001b[0;34m]\u001b[0m\u001b[0;34m)\u001b[0m\u001b[0;34m\u001b[0m\u001b[0;34m\u001b[0m\u001b[0m\n\u001b[0m\u001b[1;32m    587\u001b[0m         \u001b[0mnumcoerce\u001b[0m \u001b[0;34m=\u001b[0m \u001b[0mlen\u001b[0m\u001b[0;34m(\u001b[0m\u001b[0;34m[\u001b[0m\u001b[0mx\u001b[0m \u001b[0;32mfor\u001b[0m \u001b[0mx\u001b[0m \u001b[0;32min\u001b[0m \u001b[0mdtypelist\u001b[0m \u001b[0;32mif\u001b[0m \u001b[0mnewdtype\u001b[0m \u001b[0;34m>=\u001b[0m \u001b[0mx\u001b[0m\u001b[0;34m]\u001b[0m\u001b[0;34m)\u001b[0m\u001b[0;34m\u001b[0m\u001b[0;34m\u001b[0m\u001b[0m\n\u001b[1;32m    588\u001b[0m         \u001b[0;32mif\u001b[0m \u001b[0mnumcoerce\u001b[0m \u001b[0;34m==\u001b[0m \u001b[0mN\u001b[0m\u001b[0;34m:\u001b[0m\u001b[0;34m\u001b[0m\u001b[0;34m\u001b[0m\u001b[0m\n",
      "\u001b[0;31mKeyboardInterrupt\u001b[0m: "
     ]
    }
   ],
   "source": [
    "# ===============================================================\n",
    "# --------------   UTILIZE ESSE ESPAÇO --------------------------\n",
    "\n",
    "debug = False\n",
    "\n",
    "# Altere aqui o mapa que deseja utilizar\n",
    "mapa = mapa_1\n",
    "#mapa = mapa_2\n",
    "#mapa = mapa_3\n",
    "#mapa = mapa_4\n",
    "\n",
    "\n",
    "# Inicialização do Algoritmo\n",
    "ag = Genetic(Subject, mapa, \n",
    "        version = Version('beta', 'CC'),\n",
    "        # Parâmetros da classe Genetic:\n",
    "        taxa_cross=5,       # 5\n",
    "        population_size=10, # 10\n",
    "        C_d=10000,           # 1000\n",
    "        C_obs=10000,        # 10000\n",
    "        C_con=500,          # 500\n",
    "        C_cur=100,          # 100\n",
    "        C_t=100,            # 100\n",
    "        max_exec_time=1, # segundos\n",
    "        # Parâmetros da classe Subject:\n",
    "        px0=mapa.origin.x,\n",
    "        py0=mapa.origin.y,\n",
    "        T_min=1,            # 1\n",
    "        T_max=25,           # 25\n",
    "        mutation_prob=0.7,  # 0.7\n",
    "        gps_imprecision=1\n",
    ")\n",
    "\n",
    "# ===============================================================\n",
    "\n",
    "# Execução do AG, retorna o melhor indivíduo\n",
    "best = ag.run(info=True)\n",
    "\n",
    "# Print do DNA do melhor\n",
    "print('-'*30)\n",
    "for dna in best.dna:\n",
    "    print(dna)\n",
    "    \n",
    "# Print do DNA DECODIFICADO do melhor\n",
    "print('-'*30)\n",
    "for dna_decoded in best.dna_decoded:\n",
    "    print(dna_decoded)\n",
    "    \n",
    "best = ag.best\n",
    "\n",
    "# Visualização do Mapa usado, com a rota do melhor de todos\n",
    "areas = [ area for area in itertools.chain(mapa.areas_n, mapa.areas_n_inf) ]\n",
    "tipos = [ 'n' for _ in range(len(areas))]\n",
    "plot_map(\n",
    "    areas=areas,            # Mapa usado\n",
    "    labels=tipos,            # Tipo do mapa {'n','p','b'} <- Não afeta o genético, só muda a visualização\n",
    "    origem=mapa.origin,      # waypoint de origem\n",
    "    destino=mapa.destination, # waypoint de destino\n",
    "    waypoints=best.get_route(), # rota do melhor de todos\n",
    ")\n",
    "\n",
    "\n",
    "# Visualização de alguns gráficos de fitness e quantidade de Ts\n",
    "#plot_stats(ag.trace, normalize=True)\n",
    "#plot_stats(ag.trace, normalize=False)"
   ]
  },
  {
   "cell_type": "code",
   "execution_count": null,
   "metadata": {
    "colab": {},
    "colab_type": "code",
    "hidden": true,
    "id": "AMMBBs8Z608Z"
   },
   "outputs": [],
   "source": [
    "rota_ruim = best"
   ]
  },
  {
   "cell_type": "code",
   "execution_count": 20,
   "metadata": {
    "colab": {
     "base_uri": "https://localhost:8080/",
     "height": 132
    },
    "colab_type": "code",
    "collapsed": true,
    "deletable": false,
    "editable": false,
    "hidden": true,
    "id": "KkN2bDmwMYWz",
    "outputId": "50e31545-fb9a-41be-e718-d0190f589a46",
    "run_control": {
     "frozen": true
    }
   },
   "outputs": [
    {
     "ename": "SyntaxError",
     "evalue": "'break' outside loop (<ipython-input-20-6aaf1f276005>, line 4)",
     "output_type": "error",
     "traceback": [
      "\u001b[0;36m  File \u001b[0;32m\"<ipython-input-20-6aaf1f276005>\"\u001b[0;36m, line \u001b[0;32m4\u001b[0m\n\u001b[0;31mSyntaxError\u001b[0m\u001b[0;31m:\u001b[0m 'break' outside loop\n"
     ]
    }
   ],
   "source": [
    "break"
   ]
  },
  {
   "cell_type": "code",
   "execution_count": null,
   "metadata": {
    "colab": {},
    "colab_type": "code",
    "deletable": false,
    "editable": false,
    "hidden": true,
    "id": "_4-j-jYdRAwA",
    "run_control": {
     "frozen": true
    }
   },
   "outputs": [],
   "source": [
    "best.birth_time"
   ]
  },
  {
   "cell_type": "code",
   "execution_count": 20,
   "metadata": {
    "colab": {},
    "colab_type": "code",
    "deletable": false,
    "editable": false,
    "hidden": true,
    "id": "q1KgP3qUa2B4",
    "run_control": {
     "frozen": true
    }
   },
   "outputs": [
    {
     "data": {
      "text/plain": [
       "191"
      ]
     },
     "execution_count": 20,
     "metadata": {},
     "output_type": "execute_result"
    }
   ],
   "source": [
    "len(ag.ancestry)"
   ]
  },
  {
   "cell_type": "code",
   "execution_count": null,
   "metadata": {
    "colab": {},
    "colab_type": "code",
    "deletable": false,
    "editable": false,
    "hidden": true,
    "id": "p2tJPhTXaKrx",
    "run_control": {
     "frozen": true
    }
   },
   "outputs": [],
   "source": [
    "A = ag.ancestry[50]\n",
    "areas = [ area for area in itertools.chain(mapa.areas_n, mapa.areas_n_inf) ]\n",
    "tipos = [ 'n' for _ in range(len(areas))]\n",
    "plot_map(\n",
    "    areas=areas,            # Mapa usado\n",
    "    labels=tipos,            # Tipo do mapa {'n','p','b'} <- Não afeta o genético, só muda a visualização\n",
    "    origem=mapa.origin,      # waypoint de origem\n",
    "    destino=mapa.destination, # waypoint de destino\n",
    "    waypoints=A.get_route(), # rota do melhor de todos\n",
    ")"
   ]
  },
  {
   "cell_type": "code",
   "execution_count": null,
   "metadata": {
    "colab": {},
    "colab_type": "code",
    "deletable": false,
    "editable": false,
    "hidden": true,
    "id": "MkTc4Tu4PA-D",
    "run_control": {
     "frozen": true
    }
   },
   "outputs": [],
   "source": [
    "debug = True\n",
    "wp_teste = GeneDecoded(x=19, y=16.5, v=7.8730500357006825, al=0.23615218818588443)\n",
    "\n",
    "risk_total(wp_teste, mapa.areas_n_inf[0], 5)"
   ]
  },
  {
   "cell_type": "code",
   "execution_count": null,
   "metadata": {
    "colab": {},
    "colab_type": "code",
    "deletable": false,
    "editable": false,
    "hidden": true,
    "id": "2Izc3DWtl_L_",
    "run_control": {
     "frozen": true
    }
   },
   "outputs": [],
   "source": [
    " mapa.areas_n_inf[0]"
   ]
  },
  {
   "cell_type": "markdown",
   "metadata": {
    "colab_type": "text",
    "deletable": false,
    "editable": false,
    "hidden": true,
    "id": "CNH2JKccx4p9",
    "run_control": {
     "frozen": true
    }
   },
   "source": [
    "#### Visualizar Detalhes do fitness"
   ]
  },
  {
   "cell_type": "code",
   "execution_count": null,
   "metadata": {
    "colab": {},
    "colab_type": "code",
    "deletable": false,
    "editable": false,
    "hidden": true,
    "id": "_S2nRMRzx4p-",
    "run_control": {
     "frozen": true
    }
   },
   "outputs": [],
   "source": [
    "best.fitness_trace\n",
    "# Destino Obstáculo Consumo Curva QtdWP"
   ]
  },
  {
   "cell_type": "markdown",
   "metadata": {
    "colab_type": "text",
    "deletable": false,
    "editable": false,
    "heading_collapsed": true,
    "hidden": true,
    "id": "KNSVyltux4qF",
    "run_control": {
     "frozen": true
    }
   },
   "source": [
    "#### Recuperação de Erros\n",
    "Caso o AG pare no meio da execução, é possível visualizar o melhor de todos gerado até o momento mesmo assim, basta rodar a célula abaixo"
   ]
  },
  {
   "cell_type": "code",
   "execution_count": null,
   "metadata": {
    "colab": {},
    "colab_type": "code",
    "deletable": false,
    "editable": false,
    "hidden": true,
    "id": "4PcTAdj5x4qG",
    "run_control": {
     "frozen": true
    }
   },
   "outputs": [],
   "source": [
    "best = ag.best\n",
    "\n",
    "# Visualização do Mapa usado, com a rota do melhor de todos\n",
    "areas = [ area for area in itertools.chain(mapa.areas_n, mapa.areas_n_inf) ]\n",
    "tipos = [ 'n' for _ in range(len(areas))]\n",
    "plot_map(\n",
    "    areas=areas,            # Mapa usado\n",
    "    labels=tipos,            # Tipo do mapa {'n','p','b'} <- Não afeta o genético, só muda a visualização\n",
    "    origem=mapa.origin,      # waypoint de origem\n",
    "    destino=mapa.destination, # waypoint de destino\n",
    "    waypoints=best.get_route(), # rota do melhor de todos\n",
    ")\n"
   ]
  },
  {
   "cell_type": "markdown",
   "metadata": {
    "colab_type": "text",
    "deletable": false,
    "editable": false,
    "heading_collapsed": true,
    "id": "l4qt3oyXx4qN",
    "run_control": {
     "frozen": true
    }
   },
   "source": [
    "# 4. Execução da Implementação em ROS"
   ]
  },
  {
   "cell_type": "code",
   "execution_count": null,
   "metadata": {
    "colab": {},
    "colab_type": "code",
    "deletable": false,
    "editable": false,
    "hidden": true,
    "id": "UsLQosVvx4qP",
    "run_control": {
     "frozen": true
    }
   },
   "outputs": [],
   "source": [
    "mapa_file = [\n",
    "{\n",
    "\t\"id\": 0,\n",
    "\t\"name\": \"Mapa C2\",\n",
    "\t\"geo_home\": [-47.932949, -22.002467, 0],\n",
    "\t\"areas_bonificadoras\":[],\n",
    "\t\"areas_penalizadoras\":[],\n",
    "\t\"areas_nao_navegaveis\":[\n",
    "\t\t{\n",
    "\t\t\t\"id\": \"NN1\",\n",
    "\t\t\t\"name\": \"Campo atras dos containers\",\n",
    "\t\t\t\"geo_points\":[\n",
    "\t\t\t\t[-47.932749, -22.002332, 7], \n",
    "\t\t\t\t[-47.932794, -22.002177, 13], \n",
    "\t\t\t\t[-47.932664, -22.002147, 13], \n",
    "\t\t\t\t[-47.932612, -22.002306, 7]\n",
    "    \t\t\t]\n",
    "    \t\t},\n",
    "\t\t{\n",
    "\t\t\t\"id\": \"NN2\",\n",
    "\t\t\t\"name\": \"Bloco de aula\",\n",
    "\t\t\t\"geo_points\":[\n",
    "\t\t\t\t[-47.932099, -22.002278, 20],\n",
    "\t\t\t\t[-47.932063, -22.002396, 20],\n",
    "\t\t\t\t[-47.932772, -22.002582, 20],\n",
    "\t\t\t\t[-47.932811, -22.002465, 20]\n",
    "\t\t\t]\n",
    "\t\t}\n",
    "    ]\n",
    "}\n",
    "]"
   ]
  },
  {
   "cell_type": "code",
   "execution_count": null,
   "metadata": {
    "colab": {},
    "colab_type": "code",
    "deletable": false,
    "editable": false,
    "hidden": true,
    "id": "JB0pPvrZNfz0",
    "run_control": {
     "frozen": true
    }
   },
   "outputs": [],
   "source": [
    "mapa_file = [\n",
    "{\n",
    "\t\"id\": 0,\n",
    "\t\"name\": \"Mapa C2\",\n",
    "\t\"geo_home\": [-47.932949, -22.002467, 0],\n",
    "\t\"areas_bonificadoras\":[],\n",
    "\t\"areas_penalizadoras\":[],\n",
    "\t\"areas_nao_navegaveis\":[\n",
    "\t\t{\n",
    "\t\t\t\"id\": \"NN1\",\n",
    "\t\t\t\"name\": \"Bloco de Aula\",\n",
    "\t\t\t\"geo_points\":[\n",
    "\t\t\t\t[-47.932754, -22.002590, 7], \n",
    "\t\t\t\t[-47.932804, -22.002485, 13], \n",
    "\t\t\t\t[-47.932109, -22.002287, 13], \n",
    "\t\t\t\t[-47.932072, -22.002401, 7]\n",
    "    \t\t\t]\n",
    "    \t\t},\n",
    "\t\t{\n",
    "\t\t\t\"id\": \"NN2\",\n",
    "\t\t\t\"name\": \"Containers\",\n",
    "\t\t\t\"geo_points\":[\n",
    "\t\t\t\t[-47.933286, -22.002630, 20],\n",
    "\t\t\t\t[-47.933370, -22.002350, 20],\n",
    "\t\t\t\t[-47.933047, -22.002259, 20],\n",
    "\t\t\t\t[-47.932956, -22.002532, 20]\n",
    "\t\t\t]\n",
    "\t\t}\n",
    "    ]\n",
    "}\n",
    "]"
   ]
  },
  {
   "cell_type": "code",
   "execution_count": null,
   "metadata": {
    "colab": {},
    "colab_type": "code",
    "deletable": false,
    "editable": false,
    "hidden": true,
    "id": "z0qeuRnQOsk-",
    "run_control": {
     "frozen": true
    }
   },
   "outputs": [],
   "source": [
    "import argparse\n",
    "\n",
    "#from visualization import plot_map\n",
    "#from genetic_v2_3 import Subject, Genetic \n",
    "#from data_definitions import Mapa, CartesianPoint, Conversor, GeoPoint\n",
    "\n",
    "#from file_manipulation import read_mapa, write_mavros, upload_mapa\n",
    "\n",
    "## ENTRADA\n",
    "\n",
    "# Parâmetros recebidos (arquivo .srv)\n",
    "origin_lat       = -22.002237\n",
    "origin_long      = -47.932546\n",
    "origin_alt       = 13\n",
    "destination_lat  = -22.002674 \n",
    "destination_long = -47.932608\n",
    "destination_alt  = 15\n",
    "\n",
    "# P0\n",
    "# destination_lat  = -22.002278 \n",
    "# destination_long = -47.932099\n",
    "# destination_alt  = 20\n",
    "\n",
    "# P1\n",
    "# destination_lat  = -22.002396 \n",
    "# destination_long = -47.932063\n",
    "# destination_alt  = 20\n",
    "\n",
    "\n",
    "mapa_id          = 0\n",
    "\n",
    "# Leitura do arquvio em DATA\n",
    "#PATH = '/home/gustavosouza/Documents/Per/path-planning/data/mapa.json' #Ubuntu\n",
    "PATH = r'../../data' #Windows\n",
    "#geo_home, _, _, areas_n = read_mapa(PATH, mapa_id)\n",
    "geo_home, _, _, areas_n = upload_mapa(mapa_file, mapa_id)\n",
    "\n",
    "cart_origin      = Conversor.geo_to_cart(GeoPoint(origin_lat, origin_long, origin_alt), geo_home)\n",
    "cart_destination = Conversor.geo_to_cart(GeoPoint(destination_lat, destination_long, destination_alt), geo_home)\n",
    "\n",
    "\n",
    "mapa = Mapa(cart_origin, cart_destination, areas_n, inflation_rate=3)\n",
    "\n",
    "\n",
    "\n",
    "## EXECUÇÃO DO AG\n",
    "ag_teste = Genetic(Subject, mapa,\n",
    "        # Genetic\n",
    "        taxa_cross=0.5,\n",
    "        population_size=100,\n",
    "        C_d=1000,\n",
    "        C_obs=10000,\n",
    "        C_con=100,\n",
    "        C_cur=500,\n",
    "        C_t=100,\n",
    "        max_exec_time=6000,\n",
    "        #Subject,\n",
    "        T_min=10,\n",
    "        T_max=40,\n",
    "        mutation_prob=0.7,\n",
    "        px0=cart_origin.x,\n",
    "        py0=cart_origin.y\n",
    ")\n",
    "\n",
    "\n",
    "best = ag_teste.run(info=True)\n",
    "\n",
    "# Melhor rota encontrada : WPs em cartesiano\n",
    "cart_points = best.get_route()\n",
    "\n",
    "# Melhor rota encontrada : WPs em geográfico\n",
    "geo_points = [ Conversor.cart_to_geo(CartesianPoint(cart_point[0], cart_point[1]), geo_home) for cart_point in cart_points ]\n",
    "\n",
    "\n",
    "# Visualização do Mapa usado, com a rota do melhor de todos\n",
    "areas = [ area for area in itertools.chain(mapa.areas_n, mapa.areas_n_inf) ]\n",
    "tipos = [ 'n' for _ in range(len(areas))]\n",
    "plot_map(\n",
    "    areas=areas,            # Mapa usado\n",
    "    labels=tipos,            # Tipo do mapa {'n','p','b'} <- Não afeta o genético, só muda a visualização\n",
    "    origem=mapa.origin,      # waypoint de origem\n",
    "    destino=mapa.destination, # waypoint de destino\n",
    "    waypoints=best.get_route(), # rota do melhor de todos\n",
    ")\n",
    "\n",
    "## SAÍDA\n",
    "\n",
    "#output_filename = '/mnt/c/Projetos/path-planning/algorithms/ros_genetic/path_from_ga_output.wp'\n",
    "#write_mavros(output_filename, geo_points)"
   ]
  },
  {
   "cell_type": "code",
   "execution_count": null,
   "metadata": {
    "colab": {},
    "colab_type": "code",
    "deletable": false,
    "editable": false,
    "hidden": true,
    "id": "PMypWf27WtXo",
    "run_control": {
     "frozen": true
    }
   },
   "outputs": [],
   "source": [
    "def print_mavros(geo_points): #throws FileNotFoundException\n",
    "    print('Printing mavros file...\\n\\n\\n')\n",
    "    count = 1\n",
    "\n",
    "\n",
    "    current_waypoint = 1\n",
    "\n",
    "    print('QGC WPL 120\\n') # Determines the file version\n",
    "\n",
    "    i = 0\n",
    "\n",
    "    for geo_point in geo_points:\n",
    "        print(\n",
    "            str(i) + '\\t'\n",
    "            + str(current_waypoint) + '\\t' \n",
    "            + '3\\t16\\t3\\t0\\t0\\t0\\t'\n",
    "            + '{:10.8f}'.format(geo_point.longitude) + '\\t' \n",
    "            + '{:10.8f}'.format(geo_point.latitude) + '\\t'\n",
    "            + '{:10.8f}'.format(geo_point.altitude) + '\\t'\n",
    "            + '1'\n",
    "            + '\\n'\n",
    "        )\n",
    "\n",
    "        current_waypoint = 0\n",
    "        i+=1\n",
    "\n",
    "    print('\\n\\n\\nOutput print generated.')"
   ]
  },
  {
   "cell_type": "code",
   "execution_count": null,
   "metadata": {
    "colab": {},
    "colab_type": "code",
    "deletable": false,
    "editable": false,
    "hidden": true,
    "id": "WweWWcuVXFtZ",
    "run_control": {
     "frozen": true
    }
   },
   "outputs": [],
   "source": [
    "print_mavros(geo_points)"
   ]
  },
  {
   "cell_type": "code",
   "execution_count": null,
   "metadata": {
    "colab": {},
    "colab_type": "code",
    "deletable": false,
    "editable": false,
    "hidden": true,
    "id": "sQlKOjxdRXAc",
    "run_control": {
     "frozen": true
    }
   },
   "outputs": [],
   "source": [
    "mapa.areas_n"
   ]
  },
  {
   "cell_type": "code",
   "execution_count": null,
   "metadata": {
    "colab": {},
    "colab_type": "code",
    "deletable": false,
    "editable": false,
    "hidden": true,
    "id": "7UiRk6WOQw9S",
    "run_control": {
     "frozen": true
    }
   },
   "outputs": [],
   "source": [
    "\n",
    "areas = [ area for area in itertools.chain(mapa.areas_n) ]\n",
    "tipos = [ 'n' for _ in range(len(areas))]\n",
    "plot_map(\n",
    "    areas=areas,            # Mapa usado\n",
    "    labels=tipos,            # Tipo do mapa {'n','p','b'} <- Não afeta o genético, só muda a visualização\n",
    "    origem=mapa.origin,      # waypoint de origem\n",
    "    destino=mapa.destination, # waypoint de destino\n",
    "    waypoints=best.get_route(), # rota do melhor de todos\n",
    ")\n"
   ]
  },
  {
   "cell_type": "code",
   "execution_count": null,
   "metadata": {
    "colab": {},
    "colab_type": "code",
    "deletable": false,
    "editable": false,
    "hidden": true,
    "id": "bBUwQnDdx4qV",
    "run_control": {
     "frozen": true
    }
   },
   "outputs": [],
   "source": [
    "import argparse\n",
    "\n",
    "#from visualization import plot_map\n",
    "#from genetic_v2_3 import Subject, Genetic \n",
    "#from data_definitions import Mapa, CartesianPoint, Conversor, GeoPoint\n",
    "\n",
    "#from file_manipulation import read_mapa, write_mavros, upload_mapa\n",
    "\n",
    "## ENTRADA\n",
    "\n",
    "# Parâmetros recebidos (arquivo .srv)\n",
    "origin_lat       = -22.002237\n",
    "origin_long      = -47.932546\n",
    "origin_alt       = 13\n",
    "destination_lat  = -22.002674 \n",
    "destination_long = -47.932608\n",
    "destination_alt  = 15\n",
    "\n",
    "# P0\n",
    "# destination_lat  = -22.002278 \n",
    "# destination_long = -47.932099\n",
    "# destination_alt  = 20\n",
    "\n",
    "# P1\n",
    "# destination_lat  = -22.002396 \n",
    "# destination_long = -47.932063\n",
    "# destination_alt  = 20\n",
    "\n",
    "\n",
    "mapa_id          = 0\n",
    "\n",
    "# Leitura do arquvio em DATA\n",
    "#PATH = '/home/gustavosouza/Documents/Per/path-planning/data/mapa.json' #Ubuntu\n",
    "PATH = r'../../data' #Windows\n",
    "#geo_home, _, _, areas_n = read_mapa(PATH, mapa_id)\n",
    "geo_home, _, _, areas_n = upload_mapa(mapa_file, mapa_id)\n",
    "\n",
    "cart_origin      = Conversor.geo_to_cart(GeoPoint(origin_lat, origin_long, origin_alt), geo_home)\n",
    "cart_destination = Conversor.geo_to_cart(GeoPoint(destination_lat, destination_long, destination_alt), geo_home)\n",
    "\n",
    "\n",
    "mapa = Mapa(cart_origin, cart_destination, areas_n, inflation_rate=0.1)\n",
    "\n",
    "\n",
    "\n",
    "## EXECUÇÃO DO AG\n",
    "ag_teste = Genetic(Subject, mapa,\n",
    "        # Genetic\n",
    "        taxa_cross=0.5,\n",
    "        population_size=100,\n",
    "        C_d=1000,\n",
    "        C_obs=10000,\n",
    "        C_con=100,\n",
    "        C_cur=500,\n",
    "        C_t=1,\n",
    "        max_exec_time=600,\n",
    "        #Subject,\n",
    "        T_min=10,\n",
    "        T_max=40,\n",
    "        mutation_prob=0.7,\n",
    "        px0=cart_origin.x,\n",
    "        py0=cart_origin.y\n",
    ")\n",
    "\n",
    "\n",
    "best = ag_teste.run(info=True)\n",
    "\n",
    "# Melhor rota encontrada : WPs em cartesiano\n",
    "cart_points = best.get_route()\n",
    "\n",
    "# Melhor rota encontrada : WPs em geográfico\n",
    "geo_points = [ Conversor.cart_to_geo(CartesianPoint(cart_point[0], cart_point[1]), geo_home) for cart_point in cart_points ]\n",
    "\n",
    "\n",
    "# Visualização do Mapa usado, com a rota do melhor de todos\n",
    "areas = [ area for area in itertools.chain(mapa.areas_n, mapa.areas_n_inf) ]\n",
    "tipos = [ 'n' for _ in range(len(areas))]\n",
    "plot_map(\n",
    "    areas=areas,            # Mapa usado\n",
    "    labels=tipos,            # Tipo do mapa {'n','p','b'} <- Não afeta o genético, só muda a visualização\n",
    "    origem=mapa.origin,      # waypoint de origem\n",
    "    destino=mapa.destination, # waypoint de destino\n",
    "    waypoints=best.get_route(), # rota do melhor de todos\n",
    ")\n",
    "\n",
    "## SAÍDA\n",
    "\n",
    "#output_filename = '/mnt/c/Projetos/path-planning/algorithms/ros_genetic/path_from_ga_output.wp'\n",
    "#write_mavros(output_filename, geo_points)"
   ]
  },
  {
   "cell_type": "code",
   "execution_count": null,
   "metadata": {
    "colab": {},
    "colab_type": "code",
    "deletable": false,
    "editable": false,
    "hidden": true,
    "id": "edZTbx3Px4qg",
    "run_control": {
     "frozen": true
    }
   },
   "outputs": [],
   "source": [
    "\n",
    "best.fitness_trace\n",
    "# Destino Obstáculo Consumo Curva QtdWP"
   ]
  },
  {
   "cell_type": "code",
   "execution_count": null,
   "metadata": {
    "colab": {},
    "colab_type": "code",
    "deletable": false,
    "editable": false,
    "hidden": true,
    "id": "p5eaTku0lD07",
    "run_control": {
     "frozen": true
    }
   },
   "outputs": [],
   "source": [
    "best = ag_teste.best\n",
    "\n",
    "# Visualização do Mapa usado, com a rota do melhor de todos\n",
    "areas = [ area for area in itertools.chain(mapa.areas_n, mapa.areas_n_inf) ]\n",
    "tipos = [ 'n' for _ in range(len(areas))]\n",
    "plot_map(\n",
    "    areas=areas,            # Mapa usado\n",
    "    labels=tipos,            # Tipo do mapa {'n','p','b'} <- Não afeta o genético, só muda a visualização\n",
    "    origem=mapa.origin,      # waypoint de origem\n",
    "    destino=mapa.destination, # waypoint de destino\n",
    "    waypoints=best.get_route(), # rota do melhor de todos\n",
    ")"
   ]
  },
  {
   "cell_type": "markdown",
   "metadata": {
    "colab_type": "text",
    "deletable": false,
    "editable": false,
    "heading_collapsed": true,
    "id": "K1GQksZvbXLi",
    "run_control": {
     "frozen": true
    }
   },
   "source": [
    "# 5. Ray Casting Stress Test\n",
    "Testes de estresse para verificar desempenho do algoritmo Ray Casting"
   ]
  },
  {
   "cell_type": "markdown",
   "metadata": {
    "colab_type": "text",
    "deletable": false,
    "editable": false,
    "hidden": true,
    "id": "UzdnCtMFrgmX",
    "run_control": {
     "frozen": true
    }
   },
   "source": [
    "## 5.1. Point in Polygon"
   ]
  },
  {
   "cell_type": "code",
   "execution_count": null,
   "metadata": {
    "colab": {},
    "colab_type": "code",
    "deletable": false,
    "editable": false,
    "hidden": true,
    "id": "khj04rQUUfHT",
    "run_control": {
     "frozen": true
    }
   },
   "outputs": [],
   "source": [
    "%%time\n",
    "qty_points = 1\n",
    "\n",
    "\n",
    "verts1 = [\n",
    "    (2.5, 2.5), # left, bottom\n",
    "    (2.5, 4.5), # left, top\n",
    "    (4.5, 4.5), # right, top\n",
    "    (4.5, 2.5), # right, bottom\n",
    "]\n",
    "verts1.append(verts1[0])\n",
    "verts1 = [CartesianPoint(v[0], v[1]) for v in verts1]\n",
    "\n",
    "texts = []\n",
    "wps = []\n",
    "for i in range(qty_points):\n",
    "    x = random.uniform(1,6)\n",
    "    y = random.uniform(1,6)\n",
    "    \n",
    "    wp = CartesianPoint(x,y)\n",
    "    wps.append(wp)\n",
    "    texts.append(str(point_in_polygon(wp, verts1))[0])\n",
    "    \n",
    "plot_map(\n",
    "    areas=[verts1], \n",
    "    labels=['n'], \n",
    "    texts=texts,\n",
    "    points=wps,\n",
    "    wp_style='x',\n",
    "    title='Ray Casting Algorithm - Point in Polygon Stress Test, wp={}'.format(qty_points),\n",
    "    stress=True\n",
    ")"
   ]
  },
  {
   "cell_type": "code",
   "execution_count": null,
   "metadata": {
    "colab": {},
    "colab_type": "code",
    "deletable": false,
    "editable": false,
    "hidden": true,
    "id": "a2UIPj6wUcqL",
    "run_control": {
     "frozen": true
    }
   },
   "outputs": [],
   "source": [
    "%%time\n",
    "qty_points = 10\n",
    "\n",
    "\n",
    "verts1 = [\n",
    "    (2.5, 2.5), # left, bottom\n",
    "    (2.5, 4.5), # left, top\n",
    "    (4.5, 4.5), # right, top\n",
    "    (4.5, 2.5), # right, bottom\n",
    "]\n",
    "verts1.append(verts1[0])\n",
    "verts1 = [CartesianPoint(v[0], v[1]) for v in verts1]\n",
    "\n",
    "texts = []\n",
    "wps = []\n",
    "for i in range(qty_points):\n",
    "    x = random.uniform(1,6)\n",
    "    y = random.uniform(1,6)\n",
    "    \n",
    "    wp = CartesianPoint(x,y)\n",
    "    wps.append(wp)\n",
    "    texts.append(str(point_in_polygon(wp, verts1))[0])\n",
    "    \n",
    "plot_map(\n",
    "    areas=[verts1], \n",
    "    labels=['n'], \n",
    "    texts=texts,\n",
    "    points=wps,\n",
    "    wp_style='x',\n",
    "    title='Ray Casting Algorithm - Point in Polygon Stress Test, wp={}'.format(qty_points),\n",
    "    stress=True\n",
    ")"
   ]
  },
  {
   "cell_type": "code",
   "execution_count": null,
   "metadata": {
    "colab": {},
    "colab_type": "code",
    "deletable": false,
    "editable": false,
    "hidden": true,
    "id": "gYRwhbAmUbAa",
    "run_control": {
     "frozen": true
    }
   },
   "outputs": [],
   "source": [
    "%%time\n",
    "qty_points = 100\n",
    "\n",
    "\n",
    "verts1 = [\n",
    "    (2.5, 2.5), # left, bottom\n",
    "    (2.5, 4.5), # left, top\n",
    "    (4.5, 4.5), # right, top\n",
    "    (4.5, 2.5), # right, bottom\n",
    "]\n",
    "verts1.append(verts1[0])\n",
    "verts1 = [CartesianPoint(v[0], v[1]) for v in verts1]\n",
    "\n",
    "texts = []\n",
    "wps = []\n",
    "for i in range(qty_points):\n",
    "    x = random.uniform(1,6)\n",
    "    y = random.uniform(1,6)\n",
    "    \n",
    "    wp = CartesianPoint(x,y)\n",
    "    wps.append(wp)\n",
    "    texts.append(str(point_in_polygon(wp, verts1))[0])\n",
    "    \n",
    "plot_map(\n",
    "    areas=[verts1], \n",
    "    labels=['n'], \n",
    "    texts=texts,\n",
    "    points=wps,\n",
    "    wp_style='x',\n",
    "    title='Ray Casting Algorithm - Point in Polygon Stress Test, wp={}'.format(qty_points),\n",
    "    stress=True\n",
    ")"
   ]
  },
  {
   "cell_type": "code",
   "execution_count": null,
   "metadata": {
    "colab": {},
    "colab_type": "code",
    "deletable": false,
    "editable": false,
    "hidden": true,
    "id": "UkjQgM6tbacd",
    "run_control": {
     "frozen": true
    }
   },
   "outputs": [],
   "source": [
    "%%time\n",
    "qty_points = 1000\n",
    "\n",
    "\n",
    "verts1 = [\n",
    "    (2.5, 2.5), # left, bottom\n",
    "    (2.5, 4.5), # left, top\n",
    "    (4.5, 4.5), # right, top\n",
    "    (4.5, 2.5), # right, bottom\n",
    "]\n",
    "verts1.append(verts1[0])\n",
    "verts1 = [CartesianPoint(v[0], v[1]) for v in verts1]\n",
    "\n",
    "texts = []\n",
    "wps = []\n",
    "for i in range(qty_points):\n",
    "    x = random.uniform(1,6)\n",
    "    y = random.uniform(1,6)\n",
    "    \n",
    "    wp = CartesianPoint(x,y)\n",
    "    wps.append(wp)\n",
    "    texts.append(str(point_in_polygon(wp, verts1))[0])\n",
    "    \n",
    "plot_map(\n",
    "    areas=[verts1], \n",
    "    labels=['n'], \n",
    "    texts=texts,\n",
    "    points=wps,\n",
    "    wp_style='x',\n",
    "    title='Ray Casting Algorithm - Point in Polygon Stress Test, wp={}'.format(qty_points),\n",
    "    stress=True\n",
    ")"
   ]
  },
  {
   "cell_type": "code",
   "execution_count": null,
   "metadata": {
    "colab": {},
    "colab_type": "code",
    "deletable": false,
    "editable": false,
    "hidden": true,
    "id": "DgrYijrbUWfm",
    "run_control": {
     "frozen": true
    }
   },
   "outputs": [],
   "source": [
    "%%time\n",
    "qty_points = 10000\n",
    "\n",
    "\n",
    "verts1 = [\n",
    "    (2.5, 2.5), # left, bottom\n",
    "    (2.5, 4.5), # left, top\n",
    "    (4.5, 4.5), # right, top\n",
    "    (4.5, 2.5), # right, bottom\n",
    "]\n",
    "verts1.append(verts1[0])\n",
    "verts1 = [CartesianPoint(v[0], v[1]) for v in verts1]\n",
    "\n",
    "texts = []\n",
    "wps = []\n",
    "for i in range(qty_points):\n",
    "    x = random.uniform(1,6)\n",
    "    y = random.uniform(1,6)\n",
    "    \n",
    "    wp = CartesianPoint(x,y)\n",
    "    wps.append(wp)\n",
    "    texts.append(str(point_in_polygon(wp, verts1))[0])\n",
    "    \n",
    "plot_map(\n",
    "    areas=[verts1], \n",
    "    labels=['n'], \n",
    "    texts=texts,\n",
    "    points=wps,\n",
    "    wp_style='x',\n",
    "    title='Ray Casting Algorithm - Point in Polygon Stress Test, wp={}'.format(qty_points),\n",
    "    stress=True\n",
    ")"
   ]
  },
  {
   "cell_type": "code",
   "execution_count": null,
   "metadata": {
    "colab": {},
    "colab_type": "code",
    "deletable": false,
    "editable": false,
    "hidden": true,
    "id": "CzPTA8XXUYRV",
    "run_control": {
     "frozen": true
    }
   },
   "outputs": [],
   "source": [
    "%%time\n",
    "qty_points = 100000\n",
    "\n",
    "\n",
    "verts1 = [\n",
    "    (2.5, 2.5), # left, bottom\n",
    "    (2.5, 4.5), # left, top\n",
    "    (4.5, 4.5), # right, top\n",
    "    (4.5, 2.5), # right, bottom\n",
    "]\n",
    "verts1.append(verts1[0])\n",
    "verts1 = [CartesianPoint(v[0], v[1]) for v in verts1]\n",
    "\n",
    "texts = []\n",
    "wps = []\n",
    "for i in range(qty_points):\n",
    "    x = random.uniform(1,6)\n",
    "    y = random.uniform(1,6)\n",
    "    \n",
    "    wp = CartesianPoint(x,y)\n",
    "    wps.append(wp)\n",
    "    texts.append(str(point_in_polygon(wp, verts1))[0])\n",
    "    \n",
    "plot_map(\n",
    "    areas=[verts1], \n",
    "    labels=['n'], \n",
    "    texts=texts,\n",
    "    points=wps,\n",
    "    wp_style='x',\n",
    "    title='Ray Casting Algorithm - Point in Polygon Stress Test, wp={}'.format(qty_points),\n",
    "    stress=True\n",
    ")"
   ]
  },
  {
   "cell_type": "markdown",
   "metadata": {
    "colab_type": "text",
    "deletable": false,
    "editable": false,
    "hidden": true,
    "id": "PU2IWHzhrjl0",
    "run_control": {
     "frozen": true
    }
   },
   "source": [
    "## 5.2. Segment intersects polygon"
   ]
  },
  {
   "cell_type": "code",
   "execution_count": null,
   "metadata": {
    "colab": {},
    "colab_type": "code",
    "deletable": false,
    "editable": false,
    "hidden": true,
    "id": "tBeVyU5lctdz",
    "run_control": {
     "frozen": true
    }
   },
   "outputs": [],
   "source": [
    "qty_segments = 15\n",
    "\n",
    "verts1 = [\n",
    "    (2.5, 2.5), # left, bottom\n",
    "    (2.5, 4.5), # left, top\n",
    "    (4.5, 4.5), # right, top\n",
    "    (4.5, 2.5), # right, bottom\n",
    "]\n",
    "verts1.append(verts1[0])\n",
    "verts1 = [CartesianPoint(v[0], v[1]) for v in verts1]\n",
    "\n",
    "texts = []\n",
    "segments = []\n",
    "for i in range(qty_segments):\n",
    "    x = random.uniform(1,6)\n",
    "    y = random.uniform(1,6)\n",
    "    wp1 = CartesianPoint(x,y)\n",
    "\n",
    "    x = random.uniform(1,6)\n",
    "    y = random.uniform(1,6)\n",
    "    wp2 = CartesianPoint(x,y)\n",
    "\n",
    "    segment = [wp1, wp2]\n",
    "    segments.append(segment)\n",
    "    texts.append(str(segment_in_polygon(wp1, wp2, verts1))[0])\n",
    "    \n",
    "plot_map(\n",
    "    areas=[verts1], \n",
    "    labels=['n'], \n",
    "    texts=texts,\n",
    "    segments=segments,\n",
    "    wp_style='-x',\n",
    "    title='RC Algorithm - Segment intersects Segment Stress Test, segments={}'.format(qty_segments),\n",
    "    stress=True\n",
    ")"
   ]
  },
  {
   "cell_type": "markdown",
   "metadata": {
    "colab_type": "text",
    "deletable": false,
    "editable": false,
    "id": "PMSgh8m_BXeM",
    "run_control": {
     "frozen": true
    }
   },
   "source": [
    "# 6. Automated Experiments"
   ]
  },
  {
   "cell_type": "markdown",
   "metadata": {
    "colab_type": "text",
    "deletable": false,
    "editable": false,
    "id": "MrSA-Elpg25T",
    "run_control": {
     "frozen": true
    }
   },
   "source": [
    "## Def"
   ]
  },
  {
   "cell_type": "code",
   "execution_count": 108,
   "metadata": {
    "code_folding": [],
    "colab": {},
    "colab_type": "code",
    "id": "s0m6t5EMguuc"
   },
   "outputs": [],
   "source": [
    "import pickle\n",
    "\n",
    "debug = False\n",
    "\n",
    "def run_ag(mapa, specs):\n",
    "\n",
    "    ag = Genetic(Subject, mapa, \n",
    "        version = Version(specs['version']['major'], specs['version']['minor']),\n",
    "        # Parâmetros da classe Genetic:\n",
    "        taxa_cross=specs['taxa_cross'],\n",
    "        population_size=specs['population_size'],\n",
    "        C_d=specs['C_d'],\n",
    "        C_obs=specs['C_obs'],\n",
    "        C_con=specs['C_con'],\n",
    "        C_cur=specs['C_cur'],\n",
    "        C_t=specs['C_t'],\n",
    "        max_exec_time=specs['max_exec_time'], # segundos\n",
    "        # Parâmetros da classe Subject:\n",
    "        px0=specs['px0'],\n",
    "        py0=specs['py0'],\n",
    "        T=specs['T'],\n",
    "        T_min=specs['T_min'],\n",
    "        T_max=specs['T_max'],\n",
    "        mutation_prob=specs['mutation_prob']\n",
    "    )\n",
    "\n",
    "    \n",
    "    # Execução do AG, retorna o melhor indivíduo\n",
    "    best = ag.run(info=True)\n",
    "\n",
    "    # Print do DNA do melhor\n",
    "    print('-'*30)\n",
    "    for dna in best.dna:\n",
    "        print(dna)\n",
    "        \n",
    "    # Print do DNA DECODIFICADO do melhor\n",
    "    print('-'*30)\n",
    "    for dna_decoded in best.dna_decoded:\n",
    "        print(dna_decoded)\n",
    "        \n",
    "    best = ag.best\n",
    "\n",
    "    # Visualização do Mapa usado, com a rota do melhor de todos\n",
    "    areas = [ area for area in itertools.chain(mapa.areas_n, mapa.areas_n_inf) ]\n",
    "    tipos = [ 'n' for _ in range(len(areas))]\n",
    "    plot_map(\n",
    "        areas=areas,            # Mapa usado\n",
    "        labels=tipos,            # Tipo do mapa {'n','p','b'} <- Não afeta o genético, só muda a visualização\n",
    "        origem=mapa.origin,      # waypoint de origem\n",
    "        destino=mapa.destination, # waypoint de destino\n",
    "        waypoints=best.get_route(), # rota do melhor de todos\n",
    "    )\n",
    "\n",
    "\n",
    "    # Visualização de alguns gráficos de fitness e quantidade de Ts\n",
    "    #plot_stats(ag.trace, normalize=True)\n",
    "    #plot_stats(ag.trace, normalize=False)\n",
    "\n",
    "    return ag"
   ]
  },
  {
   "cell_type": "markdown",
   "metadata": {
    "colab_type": "text",
    "deletable": false,
    "editable": false,
    "id": "iyIZH6N3g5OY",
    "run_control": {
     "frozen": true
    }
   },
   "source": [
    "## Run"
   ]
  },
  {
   "cell_type": "code",
   "execution_count": 129,
   "metadata": {},
   "outputs": [],
   "source": [
    "mapa_n = '1'\n",
    "# mapa_n = '2'\n",
    "# mapa_n = '3'\n",
    "# mapa_n = '4'\n",
    "\n",
    "major = 'beta'\n",
    "minor = 'CC'\n",
    "exec_time = 1 #segundos\n",
    "\n",
    "PATH = '/home/gustavosouza/Documents/Per/path-planning/parallel/'\n",
    "\n",
    "EXECUTION_NUMBER = '1'"
   ]
  },
  {
   "cell_type": "code",
   "execution_count": 130,
   "metadata": {
    "colab": {},
    "colab_type": "code",
    "id": "7YN1sgarhh0H"
   },
   "outputs": [],
   "source": [
    "mapa = mapas_id['1']\n",
    "tests = {\n",
    "    'specs':{\n",
    "        'mapa': mapa_n,\n",
    "        'version': {'major': major, 'minor': minor},\n",
    "        'taxa_cross': 5,\n",
    "        'population_size': 10,\n",
    "        'C_d': 1000,\n",
    "        'C_obs': 10000,\n",
    "        'C_con': 500,\n",
    "        'C_cur': 100,\n",
    "        'C_t': 100,\n",
    "        'max_exec_time': exec_time,\n",
    "        'px0': mapa.origin.x,\n",
    "        'py0': mapa.origin.y,\n",
    "        'T': 10,\n",
    "        'T_min': 1,\n",
    "        'T_max': 25,\n",
    "        'mutation_prob': 0.7\n",
    "    },\n",
    "    'ags': [],\n",
    "    'res': []\n",
    "}"
   ]
  },
  {
   "cell_type": "code",
   "execution_count": 131,
   "metadata": {
    "colab": {},
    "colab_type": "code",
    "id": "yxX76nhxg7L7"
   },
   "outputs": [
    {
     "name": "stdout",
     "output_type": "stream",
     "text": [
      "Meteoro! Melhor de todos:24633.12665598228 - count:22\n",
      "------------------------------\n",
      "Gene(a=1.1855916212909694, e=-0.657399826012774)\n",
      "Gene(a=0.32710531498652057, e=0.7686060411790596)\n",
      "Gene(a=0.03931308768793189, e=0.3113555700603971)\n",
      "Gene(a=0.06059284462265461, e=-0.006834380614386039)\n",
      "Gene(a=-0.10586949713752217, e=-0.027014035581369167)\n",
      "Gene(a=-0.18579842832714483, e=-0.07070458554329785)\n",
      "------------------------------\n",
      "GeneDecoded(x=10.0, y=10.0, v=0, al=0)\n",
      "GeneDecoded(x=10.592795810645484, y=10.0, v=1.1855916212909694, al=-0.657399826012774)\n",
      "GeneDecoded(x=11.660756524662071, y=9.175591000598974, v=1.5117699410267325, al=0.1112062151662856)\n",
      "GeneDecoded(x=13.182723324821628, y=9.34554434059411, v=1.5495758016705863, al=0.4225617852266827)\n",
      "GeneDecoded(x=14.623632121706276, y=9.993447175261467, v=1.6085850921466591, al=0.4157274046122967)\n",
      "GeneDecoded(x=16.046776518933136, y=10.621705096911345, v=1.5010091380248145, al=0.3887133690309275)\n",
      "GeneDecoded(x=17.349837860742994, y=11.155376060293472, v=1.3137248632213674, al=0.3180087834876297)\n"
     ]
    },
    {
     "data": {
      "image/png": "[encoded data removed]",
      "text/plain": [
       "<Figure size 576x576 with 1 Axes>"
      ]
     },
     "metadata": {
      "needs_background": "light"
     },
     "output_type": "display_data"
    },
    {
     "name": "stdout",
     "output_type": "stream",
     "text": [
      "Meteoro! Melhor de todos:18382.12858508168 - count:27\n",
      "------------------------------\n",
      "Gene(a=1.5358708425780698, e=-0.09162816738250842)\n",
      "Gene(a=1.3030342152222594, e=-0.5895654284197419)\n",
      "Gene(a=0.6142031020102435, e=-0.0007717330655845678)\n",
      "Gene(a=0.4851891384332484, e=-0.06210901334154847)\n",
      "Gene(a=0.15290945304458015, e=-0.0867035192064581)\n",
      "Gene(a=-0.0350538645491317, e=1.526671528196109)\n",
      "Gene(a=2.0, e=0.19863865810111322)\n",
      "Gene(a=0.01579320636988801, e=-0.03361553626496091)\n",
      "Gene(a=0.0038440686525843776, e=0.8264101694748958)\n",
      "------------------------------\n",
      "GeneDecoded(x=10.0, y=10.0, v=0, al=0)\n",
      "GeneDecoded(x=10.767935421289035, y=10.0, v=1.5358708425780698, al=-0.09162816738250842)\n",
      "GeneDecoded(x=12.946147444513471, y=9.79985398701592, v=2.8373493907342597, al=-0.6811935958022504)\n",
      "GeneDecoded(x=15.38882498298947, y=7.819728191004333, v=3.4462432460864965, al=-0.6819653288678349)\n",
      "GeneDecoded(x=18.252600484754165, y=5.494579958503302, v=3.9235999076281076, al=-0.7440743422093834)\n",
      "GeneDecoded(x=21.19550130893747, y=2.785378634273354, v=4.0663567741919096, al=-0.8307778614158415)\n",
      "GeneDecoded(x=23.925633537372317, y=-0.20450449121195696, v=4.0203980965427, al=0.6958936667802674)\n",
      "GeneDecoded(x=27.778694210901218, y=3.013929987517504, v=6.00973838669237, al=0.8945323248813807)\n",
      "GeneDecoded(x=31.545033456495833, y=7.707182543953128, v=6.001712874107376, al=0.8609167886164197)\n",
      "GeneDecoded(x=35.457856956324555, y=12.260581754757238, v=5.981801797218398, al=1.6873269580913155)\n"
     ]
    },
    {
     "data": {
      "image/png": "[encoded data removed]",
      "text/plain": [
       "<Figure size 576x576 with 1 Axes>"
      ]
     },
     "metadata": {
      "needs_background": "light"
     },
     "output_type": "display_data"
    },
    {
     "name": "stdout",
     "output_type": "stream",
     "text": [
      "Meteoro! Melhor de todos:4309.925945967119 - count:70\n",
      "------------------------------\n",
      "Gene(a=-0.8775774323761185, e=-3.0)\n",
      "Gene(a=-1.0515419421504768, e=1.6306893163612635)\n",
      "Gene(a=-0.8855769849960748, e=-0.9250885309687857)\n",
      "Gene(a=-0.859023689892676, e=-0.17182665171424566)\n",
      "Gene(a=-1.0990057150127626, e=-0.10291383938780843)\n",
      "Gene(a=-0.33899776944809207, e=-0.3281089757890581)\n",
      "Gene(a=-1.0861402596164096, e=-0.3116167454720167)\n",
      "Gene(a=-0.37441153199324684, e=-0.7097661676286251)\n",
      "Gene(a=-0.10306141777898298, e=-0.4151927880880841)\n",
      "Gene(a=-0.10350151685117946, e=-0.43022753003686975)\n",
      "------------------------------\n",
      "GeneDecoded(x=10.0, y=10.0, v=0, al=0)\n",
      "GeneDecoded(x=9.561211283811941, y=10.0, v=-0.8775774323761185, al=-3.0)\n",
      "GeneDecoded(x=10.950515673345, y=10.198040538005857, v=-1.9296272744638898, al=-1.3693106836387365)\n",
      "GeneDecoded(x=10.475735635325476, y=12.522463151651605, v=-2.81765983966857, al=-2.2943992146075223)\n",
      "GeneDecoded(x=12.62565247762565, y=14.955975329668982, v=-3.681919345733951, al=-2.4662258663217678)\n",
      "GeneDecoded(x=15.928183122177618, y=17.601391214529137, v=-4.789865437238719, al=-2.5691397057095764)\n",
      "GeneDecoded(x=20.096899568900664, y=20.287856860089853, v=-5.143993728011654, al=-2.8972486814986347)\n",
      "GeneDecoded(x=25.615036246325282, y=21.663670412931253, v=-6.247584497752119, al=-3.208865426970651)\n",
      "GeneDecoded(x=32.03527127342839, y=21.231110665388844, v=-6.64773739301281, al=-3.918631594599276)\n",
      "GeneDecoded(x=36.81180166577466, y=16.533776260414243, v=-6.7799432012342775, al=-4.33382438268736)\n",
      "GeneDecoded(x=39.33670749048412, y=10.185792884979069, v=-6.913759844071812, al=-4.76405191272423)\n"
     ]
    },
    {
     "data": {
      "image/png": "[encoded data removed]",
      "text/plain": [
       "<Figure size 576x576 with 1 Axes>"
      ]
     },
     "metadata": {
      "needs_background": "light"
     },
     "output_type": "display_data"
    },
    {
     "name": "stdout",
     "output_type": "stream",
     "text": [
      "Meteoro! Melhor de todos:24635.003396188964 - count:43\n",
      "------------------------------\n",
      "Gene(a=1.2096160266082798, e=0.10426256123790202)\n",
      "Gene(a=0.009668500598167417, e=-0.22664918483510818)\n",
      "Gene(a=0.5766091792516334, e=0.0019479005060480843)\n",
      "Gene(a=0.3059037342636544, e=-0.1721424167183783)\n",
      "Gene(a=0.016236717091529917, e=0.15375046369623388)\n",
      "------------------------------\n",
      "GeneDecoded(x=10.0, y=10.0, v=0, al=0)\n",
      "GeneDecoded(x=10.60480801330414, y=10.0, v=1.2096160266082798, al=0.10426256123790202)\n",
      "GeneDecoded(x=11.812663316595994, y=10.126392410334292, v=1.2183195827157398, al=-0.12238662359720616)\n",
      "GeneDecoded(x=13.308018091758797, y=9.942461735672099, v=1.7939498813795427, al=-0.12043872309115808)\n",
      "GeneDecoded(x=15.240816522550727, y=9.708545844196381, v=2.097731212511728, al=-0.2925811398095364)\n",
      "GeneDecoded(x=17.257172965451, y=9.10116695824661, v=2.1110658658649353, al=-0.1388306761133025)\n"
     ]
    },
    {
     "data": {
      "image/png": "[encoded data removed]",
      "text/plain": [
       "<Figure size 576x576 with 1 Axes>"
      ]
     },
     "metadata": {
      "needs_background": "light"
     },
     "output_type": "display_data"
    },
    {
     "name": "stdout",
     "output_type": "stream",
     "text": [
      "Meteoro! Melhor de todos:16963.169560608723 - count:46\n",
      "------------------------------\n",
      "Gene(a=1.7166008702611502, e=0.7029737890163956)\n",
      "Gene(a=1.7920170093217003, e=0.18445896557234243)\n",
      "Gene(a=2.0, e=-0.5905276395832783)\n",
      "Gene(a=0.12288708420867667, e=-0.14043775819445248)\n",
      "Gene(a=0.004566057074968322, e=-0.3715437620410293)\n",
      "Gene(a=0.10127674061744889, e=-0.5806669687859884)\n",
      "Gene(a=0.011199612249405782, e=-0.03547326755700433)\n",
      "------------------------------\n",
      "GeneDecoded(x=10.0, y=10.0, v=0, al=0)\n",
      "GeneDecoded(x=10.858300435130575, y=10.0, v=1.7166008702611502, al=0.7029737890163956)\n",
      "GeneDecoded(x=12.851520323652819, y=11.689024044213017, v=3.506674552411366, al=0.887432754588738)\n",
      "GeneDecoded(x=15.697056647154035, y=15.183739848536364, v=5.498564975635997, al=0.2969051150054598)\n",
      "GeneDecoded(x=21.013795407086516, y=16.810387836263487, v=5.601512939753513, al=0.15646735681100732)\n",
      "GeneDecoded(x=26.54913504800991, y=17.68362566976391, v=5.585386259096354, al=-0.21507640523002197)\n",
      "GeneDecoded(x=32.05530617999043, y=16.480773605458015, v=5.666089238697627, al=-0.7957433740160105)\n",
      "GeneDecoded(x=36.02409273673655, y=12.42900980580867, v=5.656116256118185, al=-0.8312166415730148)\n"
     ]
    },
    {
     "data": {
      "image/png": "[encoded data removed]",
      "text/plain": [
       "<Figure size 576x576 with 1 Axes>"
      ]
     },
     "metadata": {
      "needs_background": "light"
     },
     "output_type": "display_data"
    }
   ],
   "source": [
    "for i in range(5):\n",
    "    ag = run_ag(mapa, tests['specs'])\n",
    "    tests['ags'].append(ag)\n",
    "\n",
    "    l = [[subject.fitness, subject.birth_time] for subject in ag.ancestry]   \n",
    "    tests['res'].append(l)\n",
    "    \n",
    "    pickle.dump(ag, open(PATH+f\"backups/bkp_{EXECUTION_NUMBER}_{major}_{minor}_{int(exec_time/60)}_{mapa_n}_{i}.p\", \"wb\" ))\n",
    "    \n",
    "pickle.dump(tests, open(PATH+f\"execution_{EXECUTION_NUMBER}_{major}_{minor}_{int(exec_time/60)}_{mapa_n}.p\", \"wb\" ))\n"
   ]
  },
  {
   "cell_type": "markdown",
   "metadata": {
    "colab_type": "text",
    "deletable": false,
    "editable": false,
    "id": "0OTxdrPliMC_",
    "run_control": {
     "frozen": true
    }
   },
   "source": [
    "## Visualization"
   ]
  },
  {
   "cell_type": "code",
   "execution_count": 138,
   "metadata": {
    "scrolled": false
   },
   "outputs": [
    {
     "name": "stdout",
     "output_type": "stream",
     "text": [
      "Resultados do Ray Casting\n",
      "\n",
      " eixo x: tempo em que foi encontrada a melhor solução (em segundos)\n",
      " eixo y: fitness do melhor de todos\n",
      "--------------------------------------------------------------------------------\n"
     ]
    },
    {
     "data": {
      "image/png": "[encoded data removed]",
      "text/plain": [
       "<Figure size 720x576 with 1 Axes>"
      ]
     },
     "metadata": {
      "needs_background": "light"
     },
     "output_type": "display_data"
    },
    {
     "data": {
      "image/png": "[encoded data removed]",
      "text/plain": [
       "<Figure size 576x576 with 1 Axes>"
      ]
     },
     "metadata": {
      "needs_background": "light"
     },
     "output_type": "display_data"
    },
    {
     "ename": "FileNotFoundError",
     "evalue": "[Errno 2] No such file or directory: '/home/gustavosouza/Documents/Per/path-planning/parallel/execution_1_beta_CC_0_2.p'",
     "output_type": "error",
     "traceback": [
      "\u001b[0;31m---------------------------------------------------------------------------\u001b[0m",
      "\u001b[0;31mFileNotFoundError\u001b[0m                         Traceback (most recent call last)",
      "\u001b[0;32m<ipython-input-138-7838179e5070>\u001b[0m in \u001b[0;36m<module>\u001b[0;34m\u001b[0m\n\u001b[1;32m      7\u001b[0m \u001b[0;34m\u001b[0m\u001b[0m\n\u001b[1;32m      8\u001b[0m \u001b[0;32mfor\u001b[0m \u001b[0mmapa_n\u001b[0m \u001b[0;32min\u001b[0m \u001b[0;34m[\u001b[0m\u001b[0;34m'1'\u001b[0m\u001b[0;34m,\u001b[0m \u001b[0;34m'2'\u001b[0m\u001b[0;34m,\u001b[0m \u001b[0;34m'3'\u001b[0m\u001b[0;34m,\u001b[0m \u001b[0;34m'4'\u001b[0m\u001b[0;34m]\u001b[0m\u001b[0;34m:\u001b[0m\u001b[0;34m\u001b[0m\u001b[0;34m\u001b[0m\u001b[0m\n\u001b[0;32m----> 9\u001b[0;31m     \u001b[0;32mwith\u001b[0m \u001b[0mopen\u001b[0m\u001b[0;34m(\u001b[0m\u001b[0mPATH\u001b[0m\u001b[0;34m+\u001b[0m\u001b[0;34mf\"execution_{EXECUTION_NUMBER}_{major}_{minor}_{int(exec_time/60)}_{mapa_n}.p\"\u001b[0m\u001b[0;34m,\u001b[0m \u001b[0;34m'rb'\u001b[0m\u001b[0;34m)\u001b[0m \u001b[0;32mas\u001b[0m \u001b[0mf\u001b[0m\u001b[0;34m:\u001b[0m\u001b[0;34m\u001b[0m\u001b[0;34m\u001b[0m\u001b[0m\n\u001b[0m\u001b[1;32m     10\u001b[0m         \u001b[0mvis_tests\u001b[0m \u001b[0;34m=\u001b[0m \u001b[0mpickle\u001b[0m\u001b[0;34m.\u001b[0m\u001b[0mload\u001b[0m\u001b[0;34m(\u001b[0m\u001b[0mf\u001b[0m\u001b[0;34m)\u001b[0m\u001b[0;34m\u001b[0m\u001b[0;34m\u001b[0m\u001b[0m\n\u001b[1;32m     11\u001b[0m         \u001b[0mprint\u001b[0m\u001b[0;34m(\u001b[0m\u001b[0;34m'-'\u001b[0m\u001b[0;34m*\u001b[0m\u001b[0;36m80\u001b[0m\u001b[0;34m)\u001b[0m\u001b[0;34m\u001b[0m\u001b[0;34m\u001b[0m\u001b[0m\n",
      "\u001b[0;31mFileNotFoundError\u001b[0m: [Errno 2] No such file or directory: '/home/gustavosouza/Documents/Per/path-planning/parallel/execution_1_beta_CC_0_2.p'"
     ]
    }
   ],
   "source": [
    "print('Resultados do Ray Casting\\n\\n eixo x: tempo em que foi encontrada a melhor solução (em segundos)\\n eixo y: fitness do melhor de todos')\n",
    "\n",
    "# EXECUTION_NUMBER=1\n",
    "# major\n",
    "# minor\n",
    "# exec_time\n",
    "\n",
    "for mapa_n in ['1', '2', '3', '4']: \n",
    "    with open(PATH+f\"execution_{EXECUTION_NUMBER}_{major}_{minor}_{int(exec_time/60)}_{mapa_n}.p\", 'rb') as f:\n",
    "        vis_tests = pickle.load(f)\n",
    "        print('-'*80)\n",
    "        \n",
    "        n = len(vis_tests['res'])\n",
    "        \n",
    "        colors = pl.cm.jet(np.linspace(0,1,n))\n",
    "        \n",
    "        plt.figure(figsize=(10,8))\n",
    "        plt.title(map_name)\n",
    "        plt.xlabel('Birth Time')\n",
    "        plt.ylabel('Fitness')\n",
    "        for i in range(n):\n",
    "            np_ar = np.array(vis_tests['res'][i])\n",
    "            plt.plot(np_ar[:,1], np_ar[:,0], color=colors[i])\n",
    "        \n",
    "            \n",
    "        routes = []\n",
    "        names = []\n",
    "        for i in range(n):\n",
    "            routes.append(vis_tests['ags'][i].best.get_route())\n",
    "            names.append('execução '+str(i))\n",
    "            \n",
    "        # Visualização do Mapa usado, com a rota do melhor de todos\n",
    "        areas = [ area for area in itertools.chain(mapa.areas_n, mapa.areas_n_inf) ]\n",
    "        tipos = [ 'n' for _ in range(len(areas))]\n",
    "        plot_map(\n",
    "            areas=areas,            # Mapa usado\n",
    "            labels=tipos,            # Tipo do mapa {'n','p','b'} <- Não afeta o genético, só muda a visualização\n",
    "            origem=mapa.origin,      # waypoint de origem\n",
    "            destino=mapa.destination, # waypoint de destino\n",
    "            multi_waypoints=routes, # rotas do melhores de todos\n",
    "            colors=colors,\n",
    "            title='Melhor de todos',\n",
    "            names=names\n",
    "        )\n",
    "\n",
    "\n"
   ]
  },
  {
   "cell_type": "code",
   "execution_count": null,
   "metadata": {},
   "outputs": [],
   "source": []
  },
  {
   "cell_type": "markdown",
   "metadata": {
    "colab_type": "text",
    "deletable": false,
    "editable": false,
    "heading_collapsed": true,
    "id": "CKT31OkshNvS",
    "run_control": {
     "frozen": true
    }
   },
   "source": [
    "# 7. Alocação de Risco"
   ]
  },
  {
   "cell_type": "code",
   "execution_count": null,
   "metadata": {
    "code_folding": [],
    "colab": {},
    "colab_type": "code",
    "hidden": true,
    "id": "zh5jb0c_iwSQ"
   },
   "outputs": [],
   "source": [
    "def print_rota_risks(rota):\n",
    "    areas = [ area for area in itertools.chain(mapa.areas_n, mapa.areas_n_inf) ]\n",
    "    tipos = [ 'n' for _ in range(len(areas))]\n",
    "    plot_map(\n",
    "        areas=areas,            # Mapa usado\n",
    "        labels=tipos,            # Tipo do mapa {'n','p','b'} <- Não afeta o genético, só muda a visualização\n",
    "        origem=mapa.origin,      # waypoint de origem\n",
    "        destino=mapa.destination, # waypoint de destino\n",
    "        waypoints=rota.get_route(), # rota do melhor de todos\n",
    "        texts=__fitness_obstacles_CC(rota,mapa)\n",
    "    )\n",
    "    for i, dna_decoded in enumerate(rota.dna_decoded):\n",
    "        print(i, dna_decoded)\n"
   ]
  },
  {
   "cell_type": "code",
   "execution_count": null,
   "metadata": {
    "code_folding": [],
    "colab": {},
    "colab_type": "code",
    "hidden": true,
    "id": "NHnmDExIlfrh"
   },
   "outputs": [],
   "source": [
    "\n"
   ]
  },
  {
   "cell_type": "markdown",
   "metadata": {
    "hidden": true
   },
   "source": [
    "### 7.1. Testes"
   ]
  },
  {
   "cell_type": "markdown",
   "metadata": {
    "heading_collapsed": true,
    "hidden": true
   },
   "source": [
    "#### 7.1.1. Função de Probabilidade ( 1 - CDF )"
   ]
  },
  {
   "cell_type": "code",
   "execution_count": null,
   "metadata": {
    "colab": {
     "base_uri": "https://localhost:8080/",
     "height": 282
    },
    "colab_type": "code",
    "hidden": true,
    "id": "-zaAqOPmM71T",
    "outputId": "209bfea6-4a7c-4bf4-902d-508939edf128"
   },
   "outputs": [],
   "source": [
    "x = np.arange(-20.0,20.0,0.2)\n",
    "y1=_prob_collision(x, 1)\n",
    "y2=_prob_collision(x, 5)\n",
    "y3=_prob_collision(x, 10)\n",
    "y4=_prob_collision(x, 100)\n",
    "# plt.plot(x, y1)\n",
    "# plt.plot(x, y2)\n",
    "# plt.plot(x, y3)\n",
    "# plt.plot(x, y4)"
   ]
  },
  {
   "cell_type": "code",
   "execution_count": null,
   "metadata": {
    "colab": {
     "base_uri": "https://localhost:8080/",
     "height": 542
    },
    "colab_type": "code",
    "hidden": true,
    "id": "mUq_mM8WPf6m",
    "outputId": "3a1e9854-4913-438f-b711-3bee80d4de1e"
   },
   "outputs": [],
   "source": [
    "import plotly.graph_objects as go\n",
    "fig = go.Figure()\n",
    "fig.add_trace(go.Scatter(x=x, y=y1,\n",
    "                    mode='lines',\n",
    "                    name='Uncert. = 1'))\n",
    "fig.add_trace(go.Scatter(x=x, y=y2,\n",
    "                    mode='lines',\n",
    "                    name='Uncert. = 5'))\n",
    "fig.add_trace(go.Scatter(x=x, y=y3,\n",
    "                    mode='lines',\n",
    "                    name='Uncert. = 10'))\n",
    "fig.add_trace(go.Scatter(x=x, y=y4,\n",
    "                    mode='lines',\n",
    "                    name='Uncert. = 100'))\n",
    "fig.show()"
   ]
  },
  {
   "cell_type": "markdown",
   "metadata": {
    "heading_collapsed": true,
    "hidden": true
   },
   "source": [
    "#### 7.1.2. Função de Distância: Ponto - Linha"
   ]
  },
  {
   "cell_type": "code",
   "execution_count": null,
   "metadata": {
    "code_folding": [],
    "hidden": true
   },
   "outputs": [],
   "source": [
    "A = CartesianPoint(0,0)\n",
    "B = CartesianPoint(0,5)\n",
    "C = CartesianPoint(5,5)\n",
    "D = CartesianPoint(5,0)\n",
    "\n",
    "segments = [[A,B], [B,C], [C,D], [D,A]]\n",
    "segment_texts = [['A','B'],['',''],['C','D'],['','']]\n",
    "\n",
    "\n",
    "points = [\n",
    "    CartesianPoint(0.5,7)\n",
    "]\n",
    "point_texts = [\n",
    "    'P'\n",
    "]\n",
    "\n",
    "distances = []\n",
    "normals = []\n",
    "\n",
    "for P in points:\n",
    "    for (A, B) in segments:\n",
    "        dist, normal = d_distance_wp_line(P, A, B)\n",
    "        distances.append(dist)\n",
    "        normals.append(normal)\n",
    "    \n",
    "\n",
    "plot_map(\n",
    "    margin=1.5,\n",
    "    stress=True,\n",
    "    chance=True,\n",
    "    segments=segments,\n",
    "    segment_texts=segment_texts,\n",
    "    normals=normals,\n",
    "    pointes=points,\n",
    "    point_texts=point_texts,\n",
    "    #distances=distances\n",
    "    distances=np.around(_prob_collision(distances, 1),2)\n",
    ")"
   ]
  },
  {
   "cell_type": "code",
   "execution_count": null,
   "metadata": {
    "hidden": true
   },
   "outputs": [],
   "source": [
    "distances"
   ]
  },
  {
   "cell_type": "markdown",
   "metadata": {
    "hidden": true
   },
   "source": [
    "#### 7.1.3. Fitness Obstáculos Rota"
   ]
  },
  {
   "cell_type": "code",
   "execution_count": null,
   "metadata": {
    "colab": {
     "base_uri": "https://localhost:8080/",
     "height": 624
    },
    "colab_type": "code",
    "hidden": true,
    "id": "uXyDE3MGmPji",
    "outputId": "85fe84b2-f8dc-42d5-8e09-606f80f1c4bf"
   },
   "outputs": [],
   "source": [
    "debug = True\n",
    "\n",
    "\n",
    "# print('Alocação de Risco: ', test__fitness_obstacles_CC(rota_boa, mapa))\n",
    "# print_rota_risks(rota_boa)\n",
    "# print('\\n\\n'+'='*120+'\\n\\n')\n",
    "\n",
    "print_rota_risks(rota_ruim)"
   ]
  },
  {
   "cell_type": "code",
   "execution_count": null,
   "metadata": {
    "hidden": true
   },
   "outputs": [],
   "source": [
    "rota_ruim.dna_decoded"
   ]
  }
 ],
 "metadata": {
  "colab": {
   "collapsed_sections": [
    "F0mG6fIhx4nn",
    "3pDpy3uAx4n4",
    "CZiFIkEwx4oN",
    "HQ8zGYH7k2x8",
    "4Rl8h07cx4od",
    "lhB2g9JRx4oo",
    "FWYswQ5hx4o7",
    "Tsgznc0xx4o-",
    "JMFNy7JYx4pT",
    "CNH2JKccx4p9",
    "KNSVyltux4qF",
    "l4qt3oyXx4qN",
    "K1GQksZvbXLi",
    "PMSgh8m_BXeM",
    "_Apn_M-3i_O5"
   ],
   "name": "Calculo Alocação de Risco - Gustavo.ipynb",
   "provenance": []
  },
  "kernelspec": {
   "display_name": "Python 3",
   "language": "python",
   "name": "python3"
  },
  "language_info": {
   "codemirror_mode": {
    "name": "ipython",
    "version": 3
   },
   "file_extension": ".py",
   "mimetype": "text/x-python",
   "name": "python",
   "nbconvert_exporter": "python",
   "pygments_lexer": "ipython3",
   "version": "3.6.9"
  }
 },
 "nbformat": 4,
 "nbformat_minor": 1
}
