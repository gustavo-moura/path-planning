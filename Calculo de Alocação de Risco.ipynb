{
 "cells": [
  {
   "cell_type": "code",
   "execution_count": 1,
   "metadata": {},
   "outputs": [],
   "source": [
    "import itertools\n",
    "from scipy.stats import norm\n",
    "from collections import namedtuple\n",
    "import math\n",
    "import numpy as np\n",
    "\n",
    "from src.naboo.visualization import plot_map"
   ]
  },
  {
   "cell_type": "code",
   "execution_count": 2,
   "metadata": {},
   "outputs": [],
   "source": [
    "CartesianPoint = namedtuple('CartesianPoint', 'x y')\n",
    "Vector = namedtuple('Vector', 'x y')"
   ]
  },
  {
   "cell_type": "code",
   "execution_count": 3,
   "metadata": {},
   "outputs": [],
   "source": [
    "def pairwise_circle(iterable):\n",
    "    \"s -> (s0,s1), (s1,s2), (s2, s3), ... (s<last>,s0)\"\n",
    "    a, b = itertools.tee(iterable)\n",
    "    first_value = next(b, None)\n",
    "    return itertools.zip_longest(a, b,fillvalue=first_value)"
   ]
  },
  {
   "cell_type": "code",
   "execution_count": 4,
   "metadata": {},
   "outputs": [],
   "source": [
    "def prob_collision(distance, uncertainty):\n",
    "    # Survival function (also defined as 1 - cdf, but sf is sometimes more accurate).\n",
    "    # https://docs.scipy.org/doc/scipy/reference/generated/scipy.stats.norm.html\n",
    "\n",
    "    # mi    : média         : location (loc)\n",
    "    # sigma : desvio padrão : scale\n",
    "\n",
    "    return norm.sf(distance, loc=0, scale=uncertainty)"
   ]
  },
  {
   "cell_type": "code",
   "execution_count": 5,
   "metadata": {},
   "outputs": [],
   "source": [
    "def distance_point_line(P, A, B, return_normal=False):\n",
    "    '''Calculates the distance between the point P and the line that crosses the points A and B'''\n",
    "    \n",
    "    # Director vector of line\n",
    "    D = Vector((A.x - B.x), (A.y - B.y))\n",
    " \n",
    "    # Normal vector of line\n",
    "    #N = Vector(-D.y, D.x)\n",
    "    \n",
    "    # Normalized normal vector of line AB\n",
    "    aux = (math.sqrt(D.y**2+D.x**2))\n",
    "    N = Vector( (D.y/aux), ((-D.x)/aux) )\n",
    "    \n",
    "    \n",
    "    b = N.x * A.x + N.y * A.y\n",
    "    \n",
    "    distance = P.x * N.x + P.y * N.y - b\n",
    "    \n",
    "    if return_normal:\n",
    "        return distance, N\n",
    "    \n",
    "    return distance\n",
    "    "
   ]
  },
  {
   "cell_type": "code",
   "execution_count": 6,
   "metadata": {},
   "outputs": [],
   "source": [
    "def chance_constraint(P, obs):\n",
    "    distances = []\n",
    "    \n",
    "    for A, B in pairwise_circle(obs):\n",
    "        aux_distance = distance_point_line(P, A, B)\n",
    "        distances.append(aux_distance)\n",
    "    \n",
    "    \n",
    "    distance = max(distances)\n",
    "    uncertainty = 1 # GPS imprecision\n",
    "    \n",
    "    chance = prob_collision(distance, uncertainty)\n",
    "    return chance"
   ]
  },
  {
   "cell_type": "markdown",
   "metadata": {},
   "source": [
    "EXECUTION"
   ]
  },
  {
   "cell_type": "code",
   "execution_count": 9,
   "metadata": {},
   "outputs": [
    {
     "name": "stdout",
     "output_type": "stream",
     "text": [
      "chance constraint = 0.8413447460685429\n"
     ]
    },
    {
     "data": {
      "image/png": "[encoded data removed]",
      "text/plain": [
       "<Figure size 576x576 with 1 Axes>"
      ]
     },
     "metadata": {
      "needs_background": "light"
     },
     "output_type": "display_data"
    }
   ],
   "source": [
    "A = CartesianPoint(0,0)\n",
    "B = CartesianPoint(0,5)\n",
    "C = CartesianPoint(5,5)\n",
    "D = CartesianPoint(5,0)\n",
    "\n",
    "segments = [[A,B], [B,C], [C,D], [D,A]]\n",
    "segment_texts = [['A','B'],['',''],['C','D'],['','']]\n",
    "\n",
    "\n",
    "points = [\n",
    "    CartesianPoint(4,4)\n",
    "]\n",
    "point_texts = [\n",
    "    'P'\n",
    "]\n",
    "\n",
    "distances = []\n",
    "normals = []\n",
    "\n",
    "for P in points:\n",
    "    for (a, b) in segments:\n",
    "        dist, normal = distance_point_line(P, a, b, return_normal=True)\n",
    "        distances.append(dist)\n",
    "        normals.append(normal)\n",
    "    \n",
    "\n",
    "obs = [A, B, C, D]\n",
    "chance = chance_constraint(points[0], obs)\n",
    "print(f'chance constraint = {chance}')\n",
    "\n",
    "plot_map(\n",
    "    margin=1.5,\n",
    "    stress=True,\n",
    "    chance=True,\n",
    "    segments=segments,\n",
    "    segment_texts=segment_texts,\n",
    "    normals=normals,\n",
    "    pointes=points,\n",
    "    point_texts=point_texts,\n",
    "    #distances=distances\n",
    "    distances=np.around(prob_collision(distances, 1),2)\n",
    ")"
   ]
  },
  {
   "cell_type": "code",
   "execution_count": null,
   "metadata": {},
   "outputs": [],
   "source": []
  }
 ],
 "metadata": {
  "kernelspec": {
   "display_name": "Python 3",
   "language": "python",
   "name": "python3"
  },
  "language_info": {
   "codemirror_mode": {
    "name": "ipython",
    "version": 3
   },
   "file_extension": ".py",
   "mimetype": "text/x-python",
   "name": "python",
   "nbconvert_exporter": "python",
   "pygments_lexer": "ipython3",
   "version": "3.7.4"
  },
  "toc": {
   "base_numbering": 1,
   "nav_menu": {},
   "number_sections": true,
   "sideBar": true,
   "skip_h1_title": false,
   "title_cell": "Table of Contents",
   "title_sidebar": "Contents",
   "toc_cell": false,
   "toc_position": {},
   "toc_section_display": true,
   "toc_window_display": false
  }
 },
 "nbformat": 4,
 "nbformat_minor": 2
}
