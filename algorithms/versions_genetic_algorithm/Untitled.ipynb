{
 "cells": [
  {
   "cell_type": "code",
   "execution_count": 18,
   "metadata": {},
   "outputs": [],
   "source": [
    "class B():\n",
    "    def __init__(self, c=3, d=4, **kwargs):\n",
    "        self.c = c\n",
    "        self.d = d\n",
    "\n",
    "class A():\n",
    "    def __init__(self, specie, a=1, b=2, **kwargs):\n",
    "        self.Specie = specie(**kwargs)\n",
    "        self.a=a\n",
    "        self.b=b\n",
    "        \n",
    "    def printa(self):\n",
    "        print(self.a, self.b, self.Specie.c, self.Specie.d)"
   ]
  },
  {
   "cell_type": "code",
   "execution_count": 20,
   "metadata": {},
   "outputs": [
    {
     "name": "stdout",
     "output_type": "stream",
     "text": [
      "9 2 0 15\n"
     ]
    }
   ],
   "source": [
    "a = A(B, a=9, d=15, c=0)\n",
    "a.printa()"
   ]
  },
  {
   "cell_type": "code",
   "execution_count": null,
   "metadata": {},
   "outputs": [],
   "source": []
  }
 ],
 "metadata": {
  "kernelspec": {
   "display_name": "Python 3",
   "language": "python",
   "name": "python3"
  },
  "language_info": {
   "codemirror_mode": {
    "name": "ipython",
    "version": 3
   },
   "file_extension": ".py",
   "mimetype": "text/x-python",
   "name": "python",
   "nbconvert_exporter": "python",
   "pygments_lexer": "ipython3",
   "version": "3.7.1"
  }
 },
 "nbformat": 4,
 "nbformat_minor": 2
}
