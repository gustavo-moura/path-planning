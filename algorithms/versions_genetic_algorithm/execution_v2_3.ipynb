{
 "cells": [
  {
   "cell_type": "code",
   "execution_count": 1,
   "metadata": {},
   "outputs": [],
   "source": [
    "from visualization import plot_map, plot_stats\n",
    "from genetic_v2_3 import Subject, Genetic, Mapa, Gene, GeneDecoded, CartesianPoint"
   ]
  },
  {
   "cell_type": "code",
   "execution_count": 2,
   "metadata": {},
   "outputs": [
    {
     "name": "stdout",
     "output_type": "stream",
     "text": [
      "Meteoro! Melhor de todos:1812.9887690033909 - count:647\n",
      "Meteoro! Melhor de todos:1812.9887690033909 - count:442\n",
      "------------------------------\n",
      "Gene(a=2.0, e=-0.39060946008531344)\n",
      "Gene(a=2.0, e=-0.4606500870198101)\n",
      "Gene(a=1.5101086328613889, e=0.001967876268595219)\n",
      "Gene(a=2.0, e=0.3896780745778916)\n",
      "Gene(a=1.4203854332138806, e=0.6824197629779893)\n",
      "Gene(a=2.0, e=1.325278838559809)\n",
      "Gene(a=0.8354486806280291, e=1.3414144756823747)\n",
      "------------------------------\n",
      "GeneDecoded(x=10.0, y=10.0, v=0, al=0)\n",
      "GeneDecoded(x=11.0, y=10.0, v=2.0, al=-0.39060946008531344)\n",
      "GeneDecoded(x=13.774031535298693, y=8.857743881098303, v=3.997362045760431, al=-0.8512595471051235)\n",
      "GeneDecoded(x=16.90604666621567, y=5.283398836292328, v=5.496932774679432, al=-0.8492916708365283)\n",
      "GeneDecoded(x=21.19736908908702, y=0.4054189940148565, v=7.47700549033841, al=-0.45961359625863674)\n",
      "GeneDecoded(x=28.534932400706115, y=-3.2264371605968005, v=8.86052181259637, al=0.2228061667193526)\n",
      "GeneDecoded(x=38.15171413450682, y=-1.0475843658615025, v=10.808746126287039, al=1.5480850052791617)\n",
      "GeneDecoded(x=38.40666019640332, y=10.175990895301455, v=11.56714742268487, al=2.889499480961536)\n"
     ]
    },
    {
     "data": {
      "image/png": "[encoded data removed]",
      "text/plain": [
       "<Figure size 576x576 with 1 Axes>"
      ]
     },
     "metadata": {
      "needs_background": "light"
     },
     "output_type": "display_data"
    }
   ],
   "source": [
    "wp_ori = CartesianPoint(10.0, 10.0)\n",
    "wp_des = CartesianPoint(40.0, 10.0)\n",
    "\n",
    "verts1 = [\n",
    "    (20.0, 5.0), # left, bottom\n",
    "    (20.0, 15.5), # left, top\n",
    "    (30.0, 15.5), # right, top\n",
    "    (30.0, 5.0), # right, bottom\n",
    "    (20.0, 5.0), # ignored\n",
    "]\n",
    "verts1 = [CartesianPoint(v[0], v[1]) for v in verts1]\n",
    "\n",
    "\n",
    "mapa1 = Mapa(wp_ori, wp_des, [verts1])\n",
    "\n",
    "ag = Genetic(Subject, mapa1,\n",
    "        taxa_cross=1.0,\n",
    "        population_size=80,\n",
    "        C_d=1000,\n",
    "        C_obs=10000,\n",
    "        C_con=10,\n",
    "        C_cur=0,\n",
    "        C_t=0\n",
    ")\n",
    "\n",
    "best = ag.run(max_exec_time=60, info=True)\n",
    "print('-'*30)\n",
    "for dna in best.dna:\n",
    "    print(dna)\n",
    "print('-'*30)\n",
    "for dna_decoded in best.dna_decoded:\n",
    "    print(dna_decoded)\n",
    "best = ag.best\n",
    "\n",
    "plot_map(\n",
    "    [verts1, mapa1.areas_n_inf[0]], \n",
    "    ['n', 'n'], \n",
    "    wp_ori, \n",
    "    wp_des, \n",
    "    best.get_route(),\n",
    "    None\n",
    ")\n",
    "#plot_stats(ag.trace, normalize=True)\n",
    "#plot_stats(ag.trace, normalize=False)"
   ]
  },
  {
   "cell_type": "code",
   "execution_count": null,
   "metadata": {},
   "outputs": [],
   "source": []
  }
 ],
 "metadata": {
  "kernelspec": {
   "display_name": "Python 3",
   "language": "python",
   "name": "python3"
  },
  "language_info": {
   "codemirror_mode": {
    "name": "ipython",
    "version": 3
   },
   "file_extension": ".py",
   "mimetype": "text/x-python",
   "name": "python",
   "nbconvert_exporter": "python",
   "pygments_lexer": "ipython3",
   "version": "3.7.1"
  }
 },
 "nbformat": 4,
 "nbformat_minor": 2
}
