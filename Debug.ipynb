{
 "cells": [
  {
   "cell_type": "code",
   "execution_count": 1,
   "metadata": {},
   "outputs": [],
   "source": [
    "PATH = './experiments'"
   ]
  },
  {
   "cell_type": "code",
   "execution_count": 2,
   "metadata": {},
   "outputs": [],
   "source": [
    "import pandas as pd"
   ]
  },
  {
   "cell_type": "code",
   "execution_count": 3,
   "metadata": {},
   "outputs": [],
   "source": [
    "import re\n",
    "import numpy as np\n",
    "import pandas as pd\n",
    "import matplotlib.pylab as pl\n",
    "import matplotlib.pyplot as plt\n",
    "import pickle\n",
    "import itertools\n",
    "\n",
    "from pathlib import Path as PPath\n",
    "from multiprocessing import Pool\n",
    "\n",
    "from genetic.data_definitions import CartesianPoint, Mapa, Version\n",
    "from genetic.visualization import plot_map, vis_mapa\n",
    "\n",
    "from genetic.genetic import Genetic, Subject\n",
    "\n",
    "import ast\n",
    "\n",
    "from math import sqrt"
   ]
  },
  {
   "cell_type": "code",
   "execution_count": 4,
   "metadata": {},
   "outputs": [],
   "source": [
    "    wp_ori = CartesianPoint(0, 0)\n",
    "    wp_des = CartesianPoint(0, -10)"
   ]
  },
  {
   "cell_type": "markdown",
   "metadata": {},
   "source": [
    "### Open maps"
   ]
  },
  {
   "cell_type": "markdown",
   "metadata": {},
   "source": [
    "#### read sgl"
   ]
  },
  {
   "cell_type": "code",
   "execution_count": 5,
   "metadata": {},
   "outputs": [],
   "source": [
    "def sgl_read_areas(lines):\n",
    "    \"\"\"From the map file definition reads each area\"\"\"\n",
    "\n",
    "    lines = iter(lines)\n",
    "    next(lines)  # <number of polygons>\n",
    "    next(lines)  # 20\n",
    "\n",
    "    areas = []\n",
    "\n",
    "    for line in lines:\n",
    "        Xs = [float(n) for n in re.sub(r\"\\n\", \"\", next(lines)).split(\",\")]\n",
    "        Ys = [float(n) for n in re.sub(r\"\\n\", \"\", next(lines)).split(\",\")]\n",
    "\n",
    "        areas.append([CartesianPoint(x, y) for x, y in zip(Xs, Ys)])\n",
    "\n",
    "    return areas\n",
    "\n",
    "\n",
    "def read_sgl(path, **kwargs):\n",
    "    with open(path, \"r\") as f:\n",
    "        lines = f.readlines()\n",
    "        map = Mapa(\n",
    "            wp_ori, wp_des, sgl_read_areas(lines), **kwargs\n",
    "        )  # inflation_rate=1, mode='scalar'\n",
    "    return map\n",
    "\n"
   ]
  },
  {
   "cell_type": "code",
   "execution_count": 18,
   "metadata": {},
   "outputs": [],
   "source": [
    "\n",
    "def vis_mapa_1(mapa, route=None, **qwargs):\n",
    "    areas = [area for area in itertools.chain(mapa.areas_n, mapa.areas_n_inf)]\n",
    "    tipos = [\"n\" for _ in range(len(areas))]\n",
    "\n",
    "    kwargs = {\n",
    "        \"areas\": areas,\n",
    "        \"labels\": tipos,\n",
    "        \"origem\": mapa.origin,\n",
    "        \"destino\": mapa.destination,\n",
    "    }\n",
    "\n",
    "    if route:\n",
    "        kwargs[\"waypoints\"] = route\n",
    "\n",
    "    kwargs.update(qwargs)\n",
    "\n",
    "    plot_map(**kwargs)"
   ]
  },
  {
   "cell_type": "markdown",
   "metadata": {},
   "source": [
    "#### open"
   ]
  },
  {
   "cell_type": "code",
   "execution_count": 16,
   "metadata": {},
   "outputs": [],
   "source": [
    "mapa = read_sgl('./maps/NonRegular/07.sgl')"
   ]
  },
  {
   "cell_type": "markdown",
   "metadata": {},
   "source": [
    "### Open AG Results"
   ]
  },
  {
   "cell_type": "code",
   "execution_count": 51,
   "metadata": {},
   "outputs": [],
   "source": [
    "with open(PATH+'/mode_C/map_07/mode_C_map_07_exec_1_history.csv') as f:\n",
    "    df = pd.read_csv(f)"
   ]
  },
  {
   "cell_type": "markdown",
   "metadata": {},
   "source": [
    "Get best individual of all times"
   ]
  },
  {
   "cell_type": "code",
   "execution_count": 52,
   "metadata": {},
   "outputs": [
    {
     "data": {
      "text/plain": [
       "id                                                               0\n",
       "generation                                                       0\n",
       "parents                                                    [0, 17]\n",
       "fitness                                                    59.8763\n",
       "fitness_trace    [0, 0, 10.055534974066706, 1.5536212479653853,...\n",
       "birth_time                                             0.000854731\n",
       "route            [[0, 0], [-0.006013470162848422, 0.0], [0.5852...\n",
       "dtype: object"
      ]
     },
     "execution_count": 52,
     "metadata": {},
     "output_type": "execute_result"
    }
   ],
   "source": [
    "df.min()"
   ]
  },
  {
   "cell_type": "markdown",
   "metadata": {},
   "source": [
    "Entre as feasible, quando uma distância de dois metros foi atingida pela primeira vez\n"
   ]
  },
  {
   "cell_type": "code",
   "execution_count": 63,
   "metadata": {
    "collapsed": true
   },
   "outputs": [
    {
     "ename": "ValueError",
     "evalue": "malformed node or string: 0       [11.17793287444541, 1, 28.20260842523725, 12.2...\n1       [15.659860998884467, 0, 7.243629704017147, 4.6...\n2       [8.863418475460408, 6, 7.628667684018014, 4.52...\n3       [22.02831975728349, 3, 30.270422067245732, 10....\n4       [13.118502821907454, 2, 9.536354347143888, 3.4...\n                              ...                        \n1433    [20.07064725706795, 0, 20.267225602823064, 5.3...\n1434    [8.713692829688267, 3, 23.317982141532205, 9.8...\n1435    [9.8576223279368, 0, 3.769035237350941, 2.0425...\n1436    [8.566904859457328, 1, 23.94809130144773, 7.62...\n1437    [7.141001720888597, 0, 16.788180785123963, 6.6...\nName: fitness_trace, Length: 1438, dtype: object",
     "output_type": "error",
     "traceback": [
      "\u001b[1;31m---------------------------------------------------------------------------\u001b[0m",
      "\u001b[1;31mValueError\u001b[0m                                Traceback (most recent call last)",
      "\u001b[1;32m<ipython-input-63-3301ab3deee7>\u001b[0m in \u001b[0;36m<module>\u001b[1;34m\u001b[0m\n\u001b[1;32m----> 1\u001b[1;33m \u001b[0mdf\u001b[0m\u001b[1;33m.\u001b[0m\u001b[0mloc\u001b[0m\u001b[1;33m[\u001b[0m\u001b[0mast\u001b[0m\u001b[1;33m.\u001b[0m\u001b[0mliteral_eval\u001b[0m\u001b[1;33m(\u001b[0m\u001b[0mdf\u001b[0m\u001b[1;33m[\u001b[0m\u001b[1;34m'fitness_trace'\u001b[0m\u001b[1;33m]\u001b[0m\u001b[1;33m)\u001b[0m\u001b[1;33m[\u001b[0m\u001b[1;36m0\u001b[0m\u001b[1;33m]\u001b[0m \u001b[1;33m<=\u001b[0m \u001b[1;36m2\u001b[0m\u001b[1;33m]\u001b[0m\u001b[1;33m\u001b[0m\u001b[1;33m\u001b[0m\u001b[0m\n\u001b[0m",
      "\u001b[1;32mD:\\Programas\\Anaconda3\\lib\\ast.py\u001b[0m in \u001b[0;36mliteral_eval\u001b[1;34m(node_or_string)\u001b[0m\n\u001b[0;32m     89\u001b[0m                     \u001b[1;32mreturn\u001b[0m \u001b[0mleft\u001b[0m \u001b[1;33m-\u001b[0m \u001b[0mright\u001b[0m\u001b[1;33m\u001b[0m\u001b[1;33m\u001b[0m\u001b[0m\n\u001b[0;32m     90\u001b[0m         \u001b[1;32mreturn\u001b[0m \u001b[0m_convert_signed_num\u001b[0m\u001b[1;33m(\u001b[0m\u001b[0mnode\u001b[0m\u001b[1;33m)\u001b[0m\u001b[1;33m\u001b[0m\u001b[1;33m\u001b[0m\u001b[0m\n\u001b[1;32m---> 91\u001b[1;33m     \u001b[1;32mreturn\u001b[0m \u001b[0m_convert\u001b[0m\u001b[1;33m(\u001b[0m\u001b[0mnode_or_string\u001b[0m\u001b[1;33m)\u001b[0m\u001b[1;33m\u001b[0m\u001b[1;33m\u001b[0m\u001b[0m\n\u001b[0m\u001b[0;32m     92\u001b[0m \u001b[1;33m\u001b[0m\u001b[0m\n\u001b[0;32m     93\u001b[0m \u001b[1;33m\u001b[0m\u001b[0m\n",
      "\u001b[1;32mD:\\Programas\\Anaconda3\\lib\\ast.py\u001b[0m in \u001b[0;36m_convert\u001b[1;34m(node)\u001b[0m\n\u001b[0;32m     88\u001b[0m                 \u001b[1;32melse\u001b[0m\u001b[1;33m:\u001b[0m\u001b[1;33m\u001b[0m\u001b[1;33m\u001b[0m\u001b[0m\n\u001b[0;32m     89\u001b[0m                     \u001b[1;32mreturn\u001b[0m \u001b[0mleft\u001b[0m \u001b[1;33m-\u001b[0m \u001b[0mright\u001b[0m\u001b[1;33m\u001b[0m\u001b[1;33m\u001b[0m\u001b[0m\n\u001b[1;32m---> 90\u001b[1;33m         \u001b[1;32mreturn\u001b[0m \u001b[0m_convert_signed_num\u001b[0m\u001b[1;33m(\u001b[0m\u001b[0mnode\u001b[0m\u001b[1;33m)\u001b[0m\u001b[1;33m\u001b[0m\u001b[1;33m\u001b[0m\u001b[0m\n\u001b[0m\u001b[0;32m     91\u001b[0m     \u001b[1;32mreturn\u001b[0m \u001b[0m_convert\u001b[0m\u001b[1;33m(\u001b[0m\u001b[0mnode_or_string\u001b[0m\u001b[1;33m)\u001b[0m\u001b[1;33m\u001b[0m\u001b[1;33m\u001b[0m\u001b[0m\n\u001b[0;32m     92\u001b[0m \u001b[1;33m\u001b[0m\u001b[0m\n",
      "\u001b[1;32mD:\\Programas\\Anaconda3\\lib\\ast.py\u001b[0m in \u001b[0;36m_convert_signed_num\u001b[1;34m(node)\u001b[0m\n\u001b[0;32m     61\u001b[0m             \u001b[1;32melse\u001b[0m\u001b[1;33m:\u001b[0m\u001b[1;33m\u001b[0m\u001b[1;33m\u001b[0m\u001b[0m\n\u001b[0;32m     62\u001b[0m                 \u001b[1;32mreturn\u001b[0m \u001b[1;33m-\u001b[0m \u001b[0moperand\u001b[0m\u001b[1;33m\u001b[0m\u001b[1;33m\u001b[0m\u001b[0m\n\u001b[1;32m---> 63\u001b[1;33m         \u001b[1;32mreturn\u001b[0m \u001b[0m_convert_num\u001b[0m\u001b[1;33m(\u001b[0m\u001b[0mnode\u001b[0m\u001b[1;33m)\u001b[0m\u001b[1;33m\u001b[0m\u001b[1;33m\u001b[0m\u001b[0m\n\u001b[0m\u001b[0;32m     64\u001b[0m     \u001b[1;32mdef\u001b[0m \u001b[0m_convert\u001b[0m\u001b[1;33m(\u001b[0m\u001b[0mnode\u001b[0m\u001b[1;33m)\u001b[0m\u001b[1;33m:\u001b[0m\u001b[1;33m\u001b[0m\u001b[1;33m\u001b[0m\u001b[0m\n\u001b[0;32m     65\u001b[0m         \u001b[1;32mif\u001b[0m \u001b[0misinstance\u001b[0m\u001b[1;33m(\u001b[0m\u001b[0mnode\u001b[0m\u001b[1;33m,\u001b[0m \u001b[0mConstant\u001b[0m\u001b[1;33m)\u001b[0m\u001b[1;33m:\u001b[0m\u001b[1;33m\u001b[0m\u001b[1;33m\u001b[0m\u001b[0m\n",
      "\u001b[1;32mD:\\Programas\\Anaconda3\\lib\\ast.py\u001b[0m in \u001b[0;36m_convert_num\u001b[1;34m(node)\u001b[0m\n\u001b[0;32m     53\u001b[0m         \u001b[1;32melif\u001b[0m \u001b[0misinstance\u001b[0m\u001b[1;33m(\u001b[0m\u001b[0mnode\u001b[0m\u001b[1;33m,\u001b[0m \u001b[0mNum\u001b[0m\u001b[1;33m)\u001b[0m\u001b[1;33m:\u001b[0m\u001b[1;33m\u001b[0m\u001b[1;33m\u001b[0m\u001b[0m\n\u001b[0;32m     54\u001b[0m             \u001b[1;32mreturn\u001b[0m \u001b[0mnode\u001b[0m\u001b[1;33m.\u001b[0m\u001b[0mn\u001b[0m\u001b[1;33m\u001b[0m\u001b[1;33m\u001b[0m\u001b[0m\n\u001b[1;32m---> 55\u001b[1;33m         \u001b[1;32mraise\u001b[0m \u001b[0mValueError\u001b[0m\u001b[1;33m(\u001b[0m\u001b[1;34m'malformed node or string: '\u001b[0m \u001b[1;33m+\u001b[0m \u001b[0mrepr\u001b[0m\u001b[1;33m(\u001b[0m\u001b[0mnode\u001b[0m\u001b[1;33m)\u001b[0m\u001b[1;33m)\u001b[0m\u001b[1;33m\u001b[0m\u001b[1;33m\u001b[0m\u001b[0m\n\u001b[0m\u001b[0;32m     56\u001b[0m     \u001b[1;32mdef\u001b[0m \u001b[0m_convert_signed_num\u001b[0m\u001b[1;33m(\u001b[0m\u001b[0mnode\u001b[0m\u001b[1;33m)\u001b[0m\u001b[1;33m:\u001b[0m\u001b[1;33m\u001b[0m\u001b[1;33m\u001b[0m\u001b[0m\n\u001b[0;32m     57\u001b[0m         \u001b[1;32mif\u001b[0m \u001b[0misinstance\u001b[0m\u001b[1;33m(\u001b[0m\u001b[0mnode\u001b[0m\u001b[1;33m,\u001b[0m \u001b[0mUnaryOp\u001b[0m\u001b[1;33m)\u001b[0m \u001b[1;32mand\u001b[0m \u001b[0misinstance\u001b[0m\u001b[1;33m(\u001b[0m\u001b[0mnode\u001b[0m\u001b[1;33m.\u001b[0m\u001b[0mop\u001b[0m\u001b[1;33m,\u001b[0m \u001b[1;33m(\u001b[0m\u001b[0mUAdd\u001b[0m\u001b[1;33m,\u001b[0m \u001b[0mUSub\u001b[0m\u001b[1;33m)\u001b[0m\u001b[1;33m)\u001b[0m\u001b[1;33m:\u001b[0m\u001b[1;33m\u001b[0m\u001b[1;33m\u001b[0m\u001b[0m\n",
      "\u001b[1;31mValueError\u001b[0m: malformed node or string: 0       [11.17793287444541, 1, 28.20260842523725, 12.2...\n1       [15.659860998884467, 0, 7.243629704017147, 4.6...\n2       [8.863418475460408, 6, 7.628667684018014, 4.52...\n3       [22.02831975728349, 3, 30.270422067245732, 10....\n4       [13.118502821907454, 2, 9.536354347143888, 3.4...\n                              ...                        \n1433    [20.07064725706795, 0, 20.267225602823064, 5.3...\n1434    [8.713692829688267, 3, 23.317982141532205, 9.8...\n1435    [9.8576223279368, 0, 3.769035237350941, 2.0425...\n1436    [8.566904859457328, 1, 23.94809130144773, 7.62...\n1437    [7.141001720888597, 0, 16.788180785123963, 6.6...\nName: fitness_trace, Length: 1438, dtype: object"
     ]
    }
   ],
   "source": [
    "df.loc[ast.literal_eval(df['fitness_trace'])[0] <= 2]"
   ]
  },
  {
   "cell_type": "code",
   "execution_count": 60,
   "metadata": {},
   "outputs": [
    {
     "data": {
      "text/html": [
       "<div>\n",
       "<style scoped>\n",
       "    .dataframe tbody tr th:only-of-type {\n",
       "        vertical-align: middle;\n",
       "    }\n",
       "\n",
       "    .dataframe tbody tr th {\n",
       "        vertical-align: top;\n",
       "    }\n",
       "\n",
       "    .dataframe thead th {\n",
       "        text-align: right;\n",
       "    }\n",
       "</style>\n",
       "<table border=\"1\" class=\"dataframe\">\n",
       "  <thead>\n",
       "    <tr style=\"text-align: right;\">\n",
       "      <th></th>\n",
       "      <th>id</th>\n",
       "      <th>generation</th>\n",
       "      <th>parents</th>\n",
       "      <th>fitness</th>\n",
       "      <th>fitness_trace</th>\n",
       "      <th>birth_time</th>\n",
       "      <th>route</th>\n",
       "    </tr>\n",
       "  </thead>\n",
       "  <tbody>\n",
       "    <tr>\n",
       "      <td>0</td>\n",
       "      <td>0</td>\n",
       "      <td>0</td>\n",
       "      <td>[]</td>\n",
       "      <td>2389.928359</td>\n",
       "      <td>[11.17793287444541, 1, 28.20260842523725, 12.2...</td>\n",
       "      <td>0.000855</td>\n",
       "      <td>[[0, 0], [-0.6604046781493458, 0.0], [-2.34315...</td>\n",
       "    </tr>\n",
       "    <tr>\n",
       "      <td>1</td>\n",
       "      <td>1</td>\n",
       "      <td>0</td>\n",
       "      <td>[]</td>\n",
       "      <td>1683.636270</td>\n",
       "      <td>[15.659860998884467, 0, 7.243629704017147, 4.6...</td>\n",
       "      <td>0.000905</td>\n",
       "      <td>[[0, 0], [-0.20265902511212164, 0.0], [-0.8118...</td>\n",
       "    </tr>\n",
       "    <tr>\n",
       "      <td>2</td>\n",
       "      <td>2</td>\n",
       "      <td>0</td>\n",
       "      <td>[]</td>\n",
       "      <td>6977.011567</td>\n",
       "      <td>[8.863418475460408, 6, 7.628667684018014, 4.52...</td>\n",
       "      <td>0.000943</td>\n",
       "      <td>[[0, 0], [-0.5906587275916362, 0.0], [-1.34717...</td>\n",
       "    </tr>\n",
       "    <tr>\n",
       "      <td>3</td>\n",
       "      <td>3</td>\n",
       "      <td>0</td>\n",
       "      <td>[]</td>\n",
       "      <td>5470.233984</td>\n",
       "      <td>[22.02831975728349, 3, 30.270422067245732, 10....</td>\n",
       "      <td>0.001142</td>\n",
       "      <td>[[0, 0], [0.11603403511987964, 0.0], [0.250727...</td>\n",
       "    </tr>\n",
       "    <tr>\n",
       "      <td>4</td>\n",
       "      <td>4</td>\n",
       "      <td>0</td>\n",
       "      <td>[]</td>\n",
       "      <td>3424.509914</td>\n",
       "      <td>[13.118502821907454, 2, 9.536354347143888, 3.4...</td>\n",
       "      <td>0.001181</td>\n",
       "      <td>[[0, 0], [-0.9538378368488016, 0.0], [-3.28012...</td>\n",
       "    </tr>\n",
       "    <tr>\n",
       "      <td>...</td>\n",
       "      <td>...</td>\n",
       "      <td>...</td>\n",
       "      <td>...</td>\n",
       "      <td>...</td>\n",
       "      <td>...</td>\n",
       "      <td>...</td>\n",
       "      <td>...</td>\n",
       "    </tr>\n",
       "    <tr>\n",
       "      <td>65</td>\n",
       "      <td>65</td>\n",
       "      <td>13</td>\n",
       "      <td>[63, 49]</td>\n",
       "      <td>852.926359</td>\n",
       "      <td>[8.087621734746023, 0, 1.6284437277915753, 1.5...</td>\n",
       "      <td>9.241632</td>\n",
       "      <td>[[0, 0], [0.6339470749421265, 0.0], [0.6478365...</td>\n",
       "    </tr>\n",
       "    <tr>\n",
       "      <td>66</td>\n",
       "      <td>66</td>\n",
       "      <td>14</td>\n",
       "      <td>[49, 58]</td>\n",
       "      <td>619.385798</td>\n",
       "      <td>[5.838729967193788, 0, 3.8854879111730103, 1.7...</td>\n",
       "      <td>9.740254</td>\n",
       "      <td>[[0, 0], [0.6307764278245998, 0.0], [-0.290370...</td>\n",
       "    </tr>\n",
       "    <tr>\n",
       "      <td>67</td>\n",
       "      <td>67</td>\n",
       "      <td>14</td>\n",
       "      <td>[52, 61]</td>\n",
       "      <td>558.140742</td>\n",
       "      <td>[5.12823711207398, 0, 5.482990610853428, 1.637...</td>\n",
       "      <td>9.795699</td>\n",
       "      <td>[[0, 0], [0.1651749026371918, 0.0], [-0.073874...</td>\n",
       "    </tr>\n",
       "    <tr>\n",
       "      <td>68</td>\n",
       "      <td>68</td>\n",
       "      <td>14</td>\n",
       "      <td>[61, 67]</td>\n",
       "      <td>602.122827</td>\n",
       "      <td>[5.569532970842318, 0, 5.25012942921268, 1.722...</td>\n",
       "      <td>9.966427</td>\n",
       "      <td>[[0, 0], [0.1651749026371918, 0.0], [-0.073874...</td>\n",
       "    </tr>\n",
       "    <tr>\n",
       "      <td>69</td>\n",
       "      <td>69</td>\n",
       "      <td>14</td>\n",
       "      <td>[60, 66]</td>\n",
       "      <td>708.503348</td>\n",
       "      <td>[6.48605289469631, 0, 4.329653500897308, 2.925...</td>\n",
       "      <td>9.981431</td>\n",
       "      <td>[[0, 0], [0.6377118469352604, 0.0], [-0.287552...</td>\n",
       "    </tr>\n",
       "  </tbody>\n",
       "</table>\n",
       "<p>70 rows × 7 columns</p>\n",
       "</div>"
      ],
      "text/plain": [
       "    id  generation   parents      fitness  \\\n",
       "0    0           0        []  2389.928359   \n",
       "1    1           0        []  1683.636270   \n",
       "2    2           0        []  6977.011567   \n",
       "3    3           0        []  5470.233984   \n",
       "4    4           0        []  3424.509914   \n",
       "..  ..         ...       ...          ...   \n",
       "65  65          13  [63, 49]   852.926359   \n",
       "66  66          14  [49, 58]   619.385798   \n",
       "67  67          14  [52, 61]   558.140742   \n",
       "68  68          14  [61, 67]   602.122827   \n",
       "69  69          14  [60, 66]   708.503348   \n",
       "\n",
       "                                        fitness_trace  birth_time  \\\n",
       "0   [11.17793287444541, 1, 28.20260842523725, 12.2...    0.000855   \n",
       "1   [15.659860998884467, 0, 7.243629704017147, 4.6...    0.000905   \n",
       "2   [8.863418475460408, 6, 7.628667684018014, 4.52...    0.000943   \n",
       "3   [22.02831975728349, 3, 30.270422067245732, 10....    0.001142   \n",
       "4   [13.118502821907454, 2, 9.536354347143888, 3.4...    0.001181   \n",
       "..                                                ...         ...   \n",
       "65  [8.087621734746023, 0, 1.6284437277915753, 1.5...    9.241632   \n",
       "66  [5.838729967193788, 0, 3.8854879111730103, 1.7...    9.740254   \n",
       "67  [5.12823711207398, 0, 5.482990610853428, 1.637...    9.795699   \n",
       "68  [5.569532970842318, 0, 5.25012942921268, 1.722...    9.966427   \n",
       "69  [6.48605289469631, 0, 4.329653500897308, 2.925...    9.981431   \n",
       "\n",
       "                                                route  \n",
       "0   [[0, 0], [-0.6604046781493458, 0.0], [-2.34315...  \n",
       "1   [[0, 0], [-0.20265902511212164, 0.0], [-0.8118...  \n",
       "2   [[0, 0], [-0.5906587275916362, 0.0], [-1.34717...  \n",
       "3   [[0, 0], [0.11603403511987964, 0.0], [0.250727...  \n",
       "4   [[0, 0], [-0.9538378368488016, 0.0], [-3.28012...  \n",
       "..                                                ...  \n",
       "65  [[0, 0], [0.6339470749421265, 0.0], [0.6478365...  \n",
       "66  [[0, 0], [0.6307764278245998, 0.0], [-0.290370...  \n",
       "67  [[0, 0], [0.1651749026371918, 0.0], [-0.073874...  \n",
       "68  [[0, 0], [0.1651749026371918, 0.0], [-0.073874...  \n",
       "69  [[0, 0], [0.6377118469352604, 0.0], [-0.287552...  \n",
       "\n",
       "[70 rows x 7 columns]"
      ]
     },
     "execution_count": 60,
     "metadata": {},
     "output_type": "execute_result"
    }
   ],
   "source": [
    "df.loc[df['birth_time'] <= 10]"
   ]
  },
  {
   "cell_type": "code",
   "execution_count": 59,
   "metadata": {},
   "outputs": [
    {
     "data": {
      "text/html": [
       "<div>\n",
       "<style scoped>\n",
       "    .dataframe tbody tr th:only-of-type {\n",
       "        vertical-align: middle;\n",
       "    }\n",
       "\n",
       "    .dataframe tbody tr th {\n",
       "        vertical-align: top;\n",
       "    }\n",
       "\n",
       "    .dataframe thead th {\n",
       "        text-align: right;\n",
       "    }\n",
       "</style>\n",
       "<table border=\"1\" class=\"dataframe\">\n",
       "  <thead>\n",
       "    <tr style=\"text-align: right;\">\n",
       "      <th></th>\n",
       "      <th>id</th>\n",
       "      <th>generation</th>\n",
       "      <th>parents</th>\n",
       "      <th>fitness</th>\n",
       "      <th>fitness_trace</th>\n",
       "      <th>birth_time</th>\n",
       "      <th>route</th>\n",
       "    </tr>\n",
       "  </thead>\n",
       "  <tbody>\n",
       "    <tr>\n",
       "      <td>10</td>\n",
       "      <td>10</td>\n",
       "      <td>1</td>\n",
       "      <td>[5, 5]</td>\n",
       "      <td>924.969805</td>\n",
       "      <td>[9.03236855352484, 0, 1.6931235276480812, 1.43...</td>\n",
       "      <td>0.409300</td>\n",
       "      <td>[[0, 0], [0.6307764278245998, 0.0], [0.1041727...</td>\n",
       "    </tr>\n",
       "    <tr>\n",
       "      <td>12</td>\n",
       "      <td>12</td>\n",
       "      <td>1</td>\n",
       "      <td>[6, 10]</td>\n",
       "      <td>960.263114</td>\n",
       "      <td>[9.288309259190198, 0, 3.943019661106546, 2.36...</td>\n",
       "      <td>0.934111</td>\n",
       "      <td>[[0, 0], [0.48618973401389004, 0.0], [-0.02294...</td>\n",
       "    </tr>\n",
       "    <tr>\n",
       "      <td>13</td>\n",
       "      <td>13</td>\n",
       "      <td>1</td>\n",
       "      <td>[10, 12]</td>\n",
       "      <td>918.429607</td>\n",
       "      <td>[8.966217425923471, 0, 1.620052856994258, 1.32...</td>\n",
       "      <td>0.936085</td>\n",
       "      <td>[[0, 0], [0.6307764278245998, 0.0], [0.0683792...</td>\n",
       "    </tr>\n",
       "    <tr>\n",
       "      <td>15</td>\n",
       "      <td>15</td>\n",
       "      <td>1</td>\n",
       "      <td>[14, 12]</td>\n",
       "      <td>856.158636</td>\n",
       "      <td>[7.935884160555303, 0, 7.305734219210633, 3.46...</td>\n",
       "      <td>1.073686</td>\n",
       "      <td>[[0, 0], [-0.5906587275916362, 0.0], [-1.62396...</td>\n",
       "    </tr>\n",
       "    <tr>\n",
       "      <td>16</td>\n",
       "      <td>16</td>\n",
       "      <td>1</td>\n",
       "      <td>[12, 12]</td>\n",
       "      <td>790.498880</td>\n",
       "      <td>[7.550584827938881, 0, 4.577814470001013, 1.69...</td>\n",
       "      <td>1.228892</td>\n",
       "      <td>[[0, 0], [-0.9347091074574787, 0.0], [-2.83709...</td>\n",
       "    </tr>\n",
       "    <tr>\n",
       "      <td>...</td>\n",
       "      <td>...</td>\n",
       "      <td>...</td>\n",
       "      <td>...</td>\n",
       "      <td>...</td>\n",
       "      <td>...</td>\n",
       "      <td>...</td>\n",
       "      <td>...</td>\n",
       "    </tr>\n",
       "    <tr>\n",
       "      <td>1426</td>\n",
       "      <td>1426</td>\n",
       "      <td>227</td>\n",
       "      <td>[1425, 1423]</td>\n",
       "      <td>69.909564</td>\n",
       "      <td>[0, 0, 14.296059113858675, 1.4744172930213435,...</td>\n",
       "      <td>181.602016</td>\n",
       "      <td>[[0, 0], [-0.3449256434002651, 0.0], [-0.56894...</td>\n",
       "    </tr>\n",
       "    <tr>\n",
       "      <td>1427</td>\n",
       "      <td>1427</td>\n",
       "      <td>228</td>\n",
       "      <td>[1422, 1416]</td>\n",
       "      <td>59.876298</td>\n",
       "      <td>[0, 0, 11.319755729620221, 1.18229888042266, 5...</td>\n",
       "      <td>182.042019</td>\n",
       "      <td>[[0, 0], [-0.3449256434002651, 0.0], [-0.56894...</td>\n",
       "    </tr>\n",
       "    <tr>\n",
       "      <td>1428</td>\n",
       "      <td>1428</td>\n",
       "      <td>229</td>\n",
       "      <td>[1426, 1339]</td>\n",
       "      <td>69.904783</td>\n",
       "      <td>[0, 0, 14.301531495612469, 1.4678644980063282,...</td>\n",
       "      <td>182.619516</td>\n",
       "      <td>[[0, 0], [-0.3449256434002651, 0.0], [-0.56894...</td>\n",
       "    </tr>\n",
       "    <tr>\n",
       "      <td>1431</td>\n",
       "      <td>1431</td>\n",
       "      <td>230</td>\n",
       "      <td>[]</td>\n",
       "      <td>912.999357</td>\n",
       "      <td>[8.583851463647179, 0, 4.218946106399424, 2.33...</td>\n",
       "      <td>184.345255</td>\n",
       "      <td>[[0, 0], [-0.049117097935836185, 0.0], [-0.624...</td>\n",
       "    </tr>\n",
       "    <tr>\n",
       "      <td>1437</td>\n",
       "      <td>1437</td>\n",
       "      <td>230</td>\n",
       "      <td>[]</td>\n",
       "      <td>858.190505</td>\n",
       "      <td>[7.141001720888597, 0, 16.788180785123963, 6.6...</td>\n",
       "      <td>184.345564</td>\n",
       "      <td>[[0, 0], [0.8621273258483135, 0.0], [-0.153452...</td>\n",
       "    </tr>\n",
       "  </tbody>\n",
       "</table>\n",
       "<p>1169 rows × 7 columns</p>\n",
       "</div>"
      ],
      "text/plain": [
       "        id  generation       parents     fitness  \\\n",
       "10      10           1        [5, 5]  924.969805   \n",
       "12      12           1       [6, 10]  960.263114   \n",
       "13      13           1      [10, 12]  918.429607   \n",
       "15      15           1      [14, 12]  856.158636   \n",
       "16      16           1      [12, 12]  790.498880   \n",
       "...    ...         ...           ...         ...   \n",
       "1426  1426         227  [1425, 1423]   69.909564   \n",
       "1427  1427         228  [1422, 1416]   59.876298   \n",
       "1428  1428         229  [1426, 1339]   69.904783   \n",
       "1431  1431         230            []  912.999357   \n",
       "1437  1437         230            []  858.190505   \n",
       "\n",
       "                                          fitness_trace  birth_time  \\\n",
       "10    [9.03236855352484, 0, 1.6931235276480812, 1.43...    0.409300   \n",
       "12    [9.288309259190198, 0, 3.943019661106546, 2.36...    0.934111   \n",
       "13    [8.966217425923471, 0, 1.620052856994258, 1.32...    0.936085   \n",
       "15    [7.935884160555303, 0, 7.305734219210633, 3.46...    1.073686   \n",
       "16    [7.550584827938881, 0, 4.577814470001013, 1.69...    1.228892   \n",
       "...                                                 ...         ...   \n",
       "1426  [0, 0, 14.296059113858675, 1.4744172930213435,...  181.602016   \n",
       "1427  [0, 0, 11.319755729620221, 1.18229888042266, 5...  182.042019   \n",
       "1428  [0, 0, 14.301531495612469, 1.4678644980063282,...  182.619516   \n",
       "1431  [8.583851463647179, 0, 4.218946106399424, 2.33...  184.345255   \n",
       "1437  [7.141001720888597, 0, 16.788180785123963, 6.6...  184.345564   \n",
       "\n",
       "                                                  route  \n",
       "10    [[0, 0], [0.6307764278245998, 0.0], [0.1041727...  \n",
       "12    [[0, 0], [0.48618973401389004, 0.0], [-0.02294...  \n",
       "13    [[0, 0], [0.6307764278245998, 0.0], [0.0683792...  \n",
       "15    [[0, 0], [-0.5906587275916362, 0.0], [-1.62396...  \n",
       "16    [[0, 0], [-0.9347091074574787, 0.0], [-2.83709...  \n",
       "...                                                 ...  \n",
       "1426  [[0, 0], [-0.3449256434002651, 0.0], [-0.56894...  \n",
       "1427  [[0, 0], [-0.3449256434002651, 0.0], [-0.56894...  \n",
       "1428  [[0, 0], [-0.3449256434002651, 0.0], [-0.56894...  \n",
       "1431  [[0, 0], [-0.049117097935836185, 0.0], [-0.624...  \n",
       "1437  [[0, 0], [0.8621273258483135, 0.0], [-0.153452...  \n",
       "\n",
       "[1169 rows x 7 columns]"
      ]
     },
     "execution_count": 59,
     "metadata": {},
     "output_type": "execute_result"
    }
   ],
   "source": [
    "df.loc[df['fitness'] <= 1000]"
   ]
  },
  {
   "cell_type": "code",
   "execution_count": 47,
   "metadata": {},
   "outputs": [
    {
     "data": {
      "text/html": [
       "<div>\n",
       "<style scoped>\n",
       "    .dataframe tbody tr th:only-of-type {\n",
       "        vertical-align: middle;\n",
       "    }\n",
       "\n",
       "    .dataframe tbody tr th {\n",
       "        vertical-align: top;\n",
       "    }\n",
       "\n",
       "    .dataframe thead th {\n",
       "        text-align: right;\n",
       "    }\n",
       "</style>\n",
       "<table border=\"1\" class=\"dataframe\">\n",
       "  <thead>\n",
       "    <tr style=\"text-align: right;\">\n",
       "      <th></th>\n",
       "      <th>id</th>\n",
       "      <th>generation</th>\n",
       "      <th>parents</th>\n",
       "      <th>fitness</th>\n",
       "      <th>fitness_trace</th>\n",
       "      <th>birth_time</th>\n",
       "      <th>route</th>\n",
       "    </tr>\n",
       "  </thead>\n",
       "  <tbody>\n",
       "    <tr>\n",
       "      <td>0</td>\n",
       "      <td>0</td>\n",
       "      <td>0</td>\n",
       "      <td>[]</td>\n",
       "      <td>30.200291</td>\n",
       "      <td>[0, 0, 1.0871677939078304, 0.8807276518905018,...</td>\n",
       "      <td>0.001303</td>\n",
       "      <td>[[0, 0], [-0.521336693967495, 0.0]]</td>\n",
       "    </tr>\n",
       "    <tr>\n",
       "      <td>1</td>\n",
       "      <td>1</td>\n",
       "      <td>0</td>\n",
       "      <td>[]</td>\n",
       "      <td>454.212692</td>\n",
       "      <td>[0, 0, 16.637050632718793, 9.582808790399174, ...</td>\n",
       "      <td>0.001390</td>\n",
       "      <td>[[0, 0], [-0.7926210202040045, 0.0], [-1.25974...</td>\n",
       "    </tr>\n",
       "    <tr>\n",
       "      <td>2</td>\n",
       "      <td>2</td>\n",
       "      <td>0</td>\n",
       "      <td>[]</td>\n",
       "      <td>30591.845078</td>\n",
       "      <td>[0, 3, 27.81006249365325, 10.27051473970385, 1...</td>\n",
       "      <td>0.001476</td>\n",
       "      <td>[[0, 0], [0.5359352173588243, 0.0], [0.6527103...</td>\n",
       "    </tr>\n",
       "    <tr>\n",
       "      <td>3</td>\n",
       "      <td>3</td>\n",
       "      <td>0</td>\n",
       "      <td>[]</td>\n",
       "      <td>316.403596</td>\n",
       "      <td>[0, 0, 12.08155772390332, 6.718621562377891, 1...</td>\n",
       "      <td>0.001527</td>\n",
       "      <td>[[0, 0], [0.42565201014661636, 0.0], [-0.39332...</td>\n",
       "    </tr>\n",
       "    <tr>\n",
       "      <td>4</td>\n",
       "      <td>4</td>\n",
       "      <td>0</td>\n",
       "      <td>[]</td>\n",
       "      <td>358.779953</td>\n",
       "      <td>[0, 0, 18.663138909246886, 5.351279303024729, ...</td>\n",
       "      <td>0.001565</td>\n",
       "      <td>[[0, 0], [0.3546587008110953, 0.0], [0.0619284...</td>\n",
       "    </tr>\n",
       "    <tr>\n",
       "      <td>...</td>\n",
       "      <td>...</td>\n",
       "      <td>...</td>\n",
       "      <td>...</td>\n",
       "      <td>...</td>\n",
       "      <td>...</td>\n",
       "      <td>...</td>\n",
       "      <td>...</td>\n",
       "    </tr>\n",
       "    <tr>\n",
       "      <td>6876</td>\n",
       "      <td>6876</td>\n",
       "      <td>273</td>\n",
       "      <td>[]</td>\n",
       "      <td>60640.857636</td>\n",
       "      <td>[0, 6, 33.43801192188862, 8.813664517179461, 1...</td>\n",
       "      <td>183.783801</td>\n",
       "      <td>[[0, 0], [-0.2317177282889451, 0.0], [-0.29184...</td>\n",
       "    </tr>\n",
       "    <tr>\n",
       "      <td>6877</td>\n",
       "      <td>6877</td>\n",
       "      <td>273</td>\n",
       "      <td>[]</td>\n",
       "      <td>30488.291458</td>\n",
       "      <td>[0, 3, 20.197063711824107, 7.457835679043094, ...</td>\n",
       "      <td>183.783877</td>\n",
       "      <td>[[0, 0], [0.4480615468416804, 0.0], [0.4969665...</td>\n",
       "    </tr>\n",
       "    <tr>\n",
       "      <td>6878</td>\n",
       "      <td>6878</td>\n",
       "      <td>273</td>\n",
       "      <td>[]</td>\n",
       "      <td>311.584495</td>\n",
       "      <td>[0, 0, 14.141606135230115, 5.23013777712718, 1...</td>\n",
       "      <td>183.783924</td>\n",
       "      <td>[[0, 0], [-0.3028343602800634, 0.0], [-1.81451...</td>\n",
       "    </tr>\n",
       "    <tr>\n",
       "      <td>6879</td>\n",
       "      <td>6879</td>\n",
       "      <td>273</td>\n",
       "      <td>[]</td>\n",
       "      <td>166.874087</td>\n",
       "      <td>[0, 0, 8.341576863804343, 1.9681732936034244, ...</td>\n",
       "      <td>183.783950</td>\n",
       "      <td>[[0, 0], [-0.030387623609418712, 0.0], [-0.335...</td>\n",
       "    </tr>\n",
       "    <tr>\n",
       "      <td>6880</td>\n",
       "      <td>6880</td>\n",
       "      <td>273</td>\n",
       "      <td>[]</td>\n",
       "      <td>70620.653853</td>\n",
       "      <td>[0, 7, 26.945197865541783, 10.169746871472718,...</td>\n",
       "      <td>183.784029</td>\n",
       "      <td>[[0, 0], [-0.5337370833175106, 0.0], [0.069481...</td>\n",
       "    </tr>\n",
       "  </tbody>\n",
       "</table>\n",
       "<p>6881 rows × 7 columns</p>\n",
       "</div>"
      ],
      "text/plain": [
       "        id  generation parents       fitness  \\\n",
       "0        0           0      []     30.200291   \n",
       "1        1           0      []    454.212692   \n",
       "2        2           0      []  30591.845078   \n",
       "3        3           0      []    316.403596   \n",
       "4        4           0      []    358.779953   \n",
       "...    ...         ...     ...           ...   \n",
       "6876  6876         273      []  60640.857636   \n",
       "6877  6877         273      []  30488.291458   \n",
       "6878  6878         273      []    311.584495   \n",
       "6879  6879         273      []    166.874087   \n",
       "6880  6880         273      []  70620.653853   \n",
       "\n",
       "                                          fitness_trace  birth_time  \\\n",
       "0     [0, 0, 1.0871677939078304, 0.8807276518905018,...    0.001303   \n",
       "1     [0, 0, 16.637050632718793, 9.582808790399174, ...    0.001390   \n",
       "2     [0, 3, 27.81006249365325, 10.27051473970385, 1...    0.001476   \n",
       "3     [0, 0, 12.08155772390332, 6.718621562377891, 1...    0.001527   \n",
       "4     [0, 0, 18.663138909246886, 5.351279303024729, ...    0.001565   \n",
       "...                                                 ...         ...   \n",
       "6876  [0, 6, 33.43801192188862, 8.813664517179461, 1...  183.783801   \n",
       "6877  [0, 3, 20.197063711824107, 7.457835679043094, ...  183.783877   \n",
       "6878  [0, 0, 14.141606135230115, 5.23013777712718, 1...  183.783924   \n",
       "6879  [0, 0, 8.341576863804343, 1.9681732936034244, ...  183.783950   \n",
       "6880  [0, 7, 26.945197865541783, 10.169746871472718,...  183.784029   \n",
       "\n",
       "                                                  route  \n",
       "0                   [[0, 0], [-0.521336693967495, 0.0]]  \n",
       "1     [[0, 0], [-0.7926210202040045, 0.0], [-1.25974...  \n",
       "2     [[0, 0], [0.5359352173588243, 0.0], [0.6527103...  \n",
       "3     [[0, 0], [0.42565201014661636, 0.0], [-0.39332...  \n",
       "4     [[0, 0], [0.3546587008110953, 0.0], [0.0619284...  \n",
       "...                                                 ...  \n",
       "6876  [[0, 0], [-0.2317177282889451, 0.0], [-0.29184...  \n",
       "6877  [[0, 0], [0.4480615468416804, 0.0], [0.4969665...  \n",
       "6878  [[0, 0], [-0.3028343602800634, 0.0], [-1.81451...  \n",
       "6879  [[0, 0], [-0.030387623609418712, 0.0], [-0.335...  \n",
       "6880  [[0, 0], [-0.5337370833175106, 0.0], [0.069481...  \n",
       "\n",
       "[6881 rows x 7 columns]"
      ]
     },
     "execution_count": 47,
     "metadata": {},
     "output_type": "execute_result"
    }
   ],
   "source": [
    "df"
   ]
  },
  {
   "cell_type": "code",
   "execution_count": 55,
   "metadata": {},
   "outputs": [],
   "source": [
    "bestindex = 608"
   ]
  },
  {
   "cell_type": "code",
   "execution_count": 56,
   "metadata": {},
   "outputs": [
    {
     "name": "stdout",
     "output_type": "stream",
     "text": [
      "608\n",
      "100\n",
      "[602, 551]\n",
      "59.9396352838589\n",
      "[0, 0, 11.118697198341355, 1.2211669038686344, 5, 9.939635283858896]\n",
      "82.92323637008667\n",
      "[[0, 0], [-0.3449256434002651, 0.0], [-0.5689492492853799, -1.3526426936712386], [0.10443486214919764, -4.329722121250567], [1.2510721983643975, -7.483438270637149], [0.43803871328432803, -9.106888876317708]]\n"
     ]
    }
   ],
   "source": [
    "for stat in df.loc[bestindex]:\n",
    "    print(stat)"
   ]
  },
  {
   "cell_type": "markdown",
   "metadata": {},
   "source": [
    "Get best's route"
   ]
  },
  {
   "cell_type": "code",
   "execution_count": 27,
   "metadata": {},
   "outputs": [],
   "source": [
    "route = df.loc[bestindex]['route']\n",
    "route = ast.literal_eval(route)"
   ]
  },
  {
   "cell_type": "markdown",
   "metadata": {},
   "source": [
    "### vis_mapa"
   ]
  },
  {
   "cell_type": "code",
   "execution_count": 28,
   "metadata": {},
   "outputs": [
    {
     "data": {
      "text/plain": [
       "[[0, 0], [3.13027704872601e-16, 0.0]]"
      ]
     },
     "execution_count": 28,
     "metadata": {},
     "output_type": "execute_result"
    }
   ],
   "source": [
    "route"
   ]
  },
  {
   "cell_type": "code",
   "execution_count": 29,
   "metadata": {},
   "outputs": [
    {
     "data": {
      "image/png": "[encoded data removed]",
      "text/plain": [
       "<Figure size 576x576 with 1 Axes>"
      ]
     },
     "metadata": {
      "needs_background": "light"
     },
     "output_type": "display_data"
    }
   ],
   "source": [
    "vis_mapa_1(mapa, route)"
   ]
  },
  {
   "cell_type": "markdown",
   "metadata": {},
   "source": [
    "# AG"
   ]
  },
  {
   "cell_type": "code",
   "execution_count": 56,
   "metadata": {},
   "outputs": [],
   "source": [
    "import pickle"
   ]
  },
  {
   "cell_type": "code",
   "execution_count": 30,
   "metadata": {},
   "outputs": [],
   "source": [
    "with open(PATH+'/mode_EMC_map_07_exec_1_ag.p', 'rb') as f:\n",
    "    ag = pickle.loads(f.read())"
   ]
  },
  {
   "cell_type": "code",
   "execution_count": 31,
   "metadata": {},
   "outputs": [
    {
     "data": {
      "image/png": "[encoded data removed]",
      "text/plain": [
       "<Figure size 576x576 with 1 Axes>"
      ]
     },
     "metadata": {
      "needs_background": "light"
     },
     "output_type": "display_data"
    }
   ],
   "source": [
    "vis_mapa_1(mapa, ag.best.get_route())"
   ]
  },
  {
   "cell_type": "code",
   "execution_count": 46,
   "metadata": {},
   "outputs": [
    {
     "name": "stdout",
     "output_type": "stream",
     "text": [
      "fit_d      : 000\n",
      "fit_obs    : 000\n",
      "fit_con    : 1.362776994765863e-31\n",
      "fit_cur    : 6.490990152041533e-17\n",
      "fit_t      : 001\n",
      "fit_dist   : 1.8457904775230198e-16\n",
      "fit_z_bonus: 000\n"
     ]
    }
   ],
   "source": [
    "names = ['fit_d', 'fit_obs', 'fit_con', 'fit_cur', 'fit_t', 'fit_dist', 'fit_z_bonus']\n",
    "for i, j in zip(ag.best.fitness_trace, names):\n",
    "    print(f'{j:11}: {i:}')"
   ]
  },
  {
   "cell_type": "code",
   "execution_count": 39,
   "metadata": {},
   "outputs": [
    {
     "data": {
      "text/plain": [
       "-10000"
      ]
     },
     "execution_count": 39,
     "metadata": {},
     "output_type": "execute_result"
    }
   ],
   "source": [
    "print(ag.C_z_bonus)\n",
    "print(ag.C_d)\n",
    "print(ag.C_obs)\n",
    "print(ag.C)\n",
    "print(ag.)\n",
    "print(ag.)"
   ]
  },
  {
   "cell_type": "code",
   "execution_count": 123,
   "metadata": {},
   "outputs": [
    {
     "data": {
      "text/plain": [
       "714.7468514527092"
      ]
     },
     "execution_count": 123,
     "metadata": {},
     "output_type": "execute_result"
    }
   ],
   "source": [
    "ag.best.fitness"
   ]
  },
  {
   "cell_type": "markdown",
   "metadata": {},
   "source": [
    "### Fitness debug"
   ]
  },
  {
   "cell_type": "code",
   "execution_count": 105,
   "metadata": {},
   "outputs": [
    {
     "data": {
      "text/plain": [
       "4933.075661705765"
      ]
     },
     "execution_count": 105,
     "metadata": {},
     "output_type": "execute_result"
    }
   ],
   "source": [
    "__fitness_destination(ag.best, mapa) * 700 # * C_dest"
   ]
  },
  {
   "cell_type": "code",
   "execution_count": 103,
   "metadata": {},
   "outputs": [],
   "source": [
    "min_precision = 1\n",
    "def __fitness_destination(subject, mapa):\n",
    "        # Prioriza rotas que acertem o destino\n",
    "\n",
    "        A = subject.dna_decoded[-1]  # Último waypoint da rota\n",
    "        B = mapa.destination  # Waypoint de destino\n",
    "\n",
    "        # Distância euclidiana entre o último ponto da rota e o ponto de destino\n",
    "        d = sqrt((B.x - A.x) ** 2 + (B.y - A.y) ** 2)\n",
    "\n",
    "        # Determina uma precisão mínima aceita\n",
    "        if d < min_precision:  # min_precision default = 1.0\n",
    "            return 0\n",
    "        return d"
   ]
  },
  {
   "cell_type": "code",
   "execution_count": null,
   "metadata": {},
   "outputs": [],
   "source": []
  }
 ],
 "metadata": {
  "kernelspec": {
   "display_name": "Python 3",
   "language": "python",
   "name": "python3"
  },
  "language_info": {
   "codemirror_mode": {
    "name": "ipython",
    "version": 3
   },
   "file_extension": ".py",
   "mimetype": "text/x-python",
   "name": "python",
   "nbconvert_exporter": "python",
   "pygments_lexer": "ipython3",
   "version": "3.7.4"
  }
 },
 "nbformat": 4,
 "nbformat_minor": 2
}
