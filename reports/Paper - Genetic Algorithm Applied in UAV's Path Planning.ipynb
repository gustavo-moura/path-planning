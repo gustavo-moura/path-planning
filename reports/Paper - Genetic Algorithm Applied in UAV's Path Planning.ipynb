{
 "cells": [
  {
   "cell_type": "code",
   "execution_count": 1,
   "metadata": {},
   "outputs": [],
   "source": [
    "# Setup environment for all following codes\n",
    "import os\n",
    "import sys\n",
    "nb_dir = os.path.abspath('../')\n",
    "if nb_dir not in sys.path:\n",
    "    sys.path.insert(0, nb_dir)\n",
    "\n",
    "# Setup the random seed for reproducibility\n",
    "import random\n",
    "random.seed(\"Genetic Algorithm Applied in UAV's Path-Planning\")"
   ]
  },
  {
   "cell_type": "code",
   "execution_count": null,
   "metadata": {},
   "outputs": [],
   "source": []
  },
  {
   "cell_type": "markdown",
   "metadata": {},
   "source": [
    "# Genetic Algorithm Applied in UAV's Path-Planning\n",
    "\n",
    "\n",
    "Gustavo de Moura Souza \\\n",
    "_School of Electrical Engineering_ \\\n",
    "_University of Campinas_ \\\n",
    "Campinas, Brazil \\\n",
    "g263234@g.unicamp.br\n",
    "\n"
   ]
  },
  {
   "cell_type": "markdown",
   "metadata": {},
   "source": [
    "<h3>Table of Contents<span class=\"tocSkip\"></span></h3>\n",
    "<div class=\"toc\"><ul class=\"toc-item\"><li><span><a href=\"#Abstract\" data-toc-modified-id=\"Abstract-1\">Abstract</a></span></li><li><span><a href=\"#Introduction\" data-toc-modified-id=\"Introduction-2\">Introduction</a></span></li><li><span><a href=\"#Literature-Review\" data-toc-modified-id=\"Literature-Review-3\">Literature Review</a></span></li><li><span><a href=\"#Problem\" data-toc-modified-id=\"Problem-4\">Problem</a></span></li><li><span><a href=\"#Methodology\" data-toc-modified-id=\"Methodology-5\">Methodology</a></span></li><li><span><a href=\"#Results\" data-toc-modified-id=\"Results-6\">Results</a></span></li><li><span><a href=\"#Conclusion\" data-toc-modified-id=\"Conclusion-7\">Conclusion</a></span></li></ul></div>"
   ]
  },
  {
   "cell_type": "markdown",
   "metadata": {
    "heading_collapsed": true
   },
   "source": [
    "## Abstract"
   ]
  },
  {
   "cell_type": "markdown",
   "metadata": {
    "hidden": true
   },
   "source": [
    "The present paper introduces a hybrid genetic algorithm for path planning problem with obstacle avoidance. The genetic algorithm is combined with Ray Casting (RC) algorithm, where RC is responsible to avoid obstacles and to find safe regions\n",
    "for emergency landing. Thus, the path planning system must deal with a non-convex environment when planning and replanning\n",
    "trajectories. It must also work embedded on the UAV. The system runs under a Raspberry Pi board and it is evaluated over 50\n",
    "benchmark maps from literature.\n",
    "\n",
    "**Keywords** — hybrid method, ray casting, genetic algorithm, path planning, UAV, emergency landing"
   ]
  },
  {
   "cell_type": "markdown",
   "metadata": {
    "heading_collapsed": true
   },
   "source": [
    "## Introduction"
   ]
  },
  {
   "cell_type": "markdown",
   "metadata": {
    "hidden": true
   },
   "source": [
    "Unmanned Aerial Vehicle (UAV) is an aircraft that does not carry a human operator, and it can be piloted remotely or even fly autonomously [1]. There is a broad interest in the development of better, faster and more useful UAV systems. These systems are being used in a series of applications such as field recognizance, agricultural surveying, disaster assistance, law enforcement and others [2].\n",
    "\n",
    "However, the development of UAV systems is still complex\n",
    "and requires more practical and theoretical experience to\n",
    "mature the UVA’s flights safe. Regulatory laws regarding the\n",
    "safe use of UAV are being defined in many countries, usually\n",
    "following standards from international organizations such as\n",
    "the Federal Aviation Administration (FAA), United States; the\n",
    "Civil Aviation Safety Authority (CASA), Australia and the\n",
    "European Aviation Safety Agency (EASA), Europe Union [3].\n",
    "These rules define patterns for a safe flight and how to achieve\n",
    "it regarding the safety of people and the environment.\n",
    "\n",
    "Autonomous control systems use techniques from the field\n",
    "of Artificial Intelligence (AI) to achieve autonomy [4], and it is\n",
    "a relevant tool to mitigate problems for complex systems such\n",
    "as those embedded in UAVs. An autonomous UAV system\n",
    "can sometimes fly safer, execute tasks quicker and preciser\n",
    "than operated by human pilots. For many UAV applications,\n",
    "its remote operation by human pilots can be either expensive\n",
    "or impracticable [5].\n",
    "\n",
    "The automation can be divided into three main categories:\n",
    "(i) not autonomous - the UAV system needs to be operated\n",
    "by a human and does not perform any movement actions by\n",
    "itself; (ii) semi-autonomous - the system has some elements\n",
    "that facilitate the flight, such as stabilizers, autopilots and\n",
    "previously coded actions (e.g., return to land); (iii) autonomous - the system can complete a given mission without human\n",
    "interference.\n",
    "\n",
    "The present paper introduces a solution to make the UAV\n",
    "system get to the third level of automation when planning a\n",
    "path. This research mainly investigates a couple of ways to\n",
    "address the path planning problem with risk allocation and\n",
    "obstacle avoidance, while taking care of optimizing the fuel\n",
    "consumption and other resources. Two main constraints are\n",
    "handled. First, the system must work within a non-convex\n",
    "environment, which means to deal with obstacle avoidance.\n",
    "Second, the system must work embedded in the UAV that\n",
    "leads to online path planning and replanning.\n",
    "\n",
    "In this scenario, we introduce a hybrid evolutionary algorithm integrating a Genetic Algorithm (GA) to Ray Casting\n",
    "(RC) algorithm [6] for obstacle avoidance. RC allows solving\n",
    "problems in 3D computer graphics and computational geometry using ray-surface intersection tests. The proposed method\n",
    "is evaluated by running under a Raspberry Pi board to planning\n",
    "paths for a set of benchmark maps introduced in [7].\n",
    "\n",
    "The present paper is organized as follows: Section II describes some related work, and Section III states the problem\n",
    "approached. The hybrid evolutionary algorithm is explained\n",
    "in Section IV, and the experimental results are reported in\n",
    "Section V. The conclusions follow in Section VI"
   ]
  },
  {
   "cell_type": "markdown",
   "metadata": {
    "heading_collapsed": true
   },
   "source": [
    "## Literature Review"
   ]
  },
  {
   "cell_type": "markdown",
   "metadata": {
    "hidden": true
   },
   "source": [
    "Mission and path planning approaches are described by\n",
    "[8]–[11]. A planning system is described in [8] for discrete\n",
    "actions and continuous controls being executed by aerial and\n",
    "underwater vehicles. The planner provides autonomy by giving\n",
    "the system a decision-making module that uses a compact\n",
    "representation for all the feasible plans. It also presents a\n",
    "mathematical formulation to define the set of actions that can\n",
    "be taken by autonomous vehicles.\n",
    "\n",
    "The problem approached by this paper is based on a similar\n",
    "one described in [9], named as Chance-Constrained Optimal\n",
    "Path Planning with Obstacles. The problem is formulated\n",
    "using stochastic models to describe the chance-constraints for\n",
    "risk allocation when planning the trajectories. Mathematical\n",
    "programming based heuristics are proposed that return paths\n",
    "based on upper and lower bound solutions from the stochastic\n",
    "model.\n",
    "\n",
    "The authors in [10] extend the chance-constrained approach\n",
    "to continuous time where the risk is bounded from the reflection principle since the trajectory follows a Brownian motion.\n",
    "A Mixed-Integer Linear Programming (MILP) formulation is\n",
    "proposed in [11] for the same problem, which was able to\n",
    "solve more complex maps within a reduced computational time\n",
    "using an exact method.\n",
    "\n",
    "The evolutionary algorithms have been applied to solve\n",
    "path planning problems, as described in [12]–[15]. A hybrid\n",
    "method combining genetic algorithms with Voronoi diagrams\n",
    "is introduced by [12], where the Voronoi approach helps to\n",
    "create the GA population aiming to improve the overall quality\n",
    "of solutions. GA is applied in [13] for path planning of mobile\n",
    "robots with obstacle avoidance.\n",
    "\n",
    "A hybrid algorithm is proposed in [14] that combines\n",
    "Ant Colony Optimization (ACO) and GA for path planning\n",
    "in mobile robots with obstacle avoidance. ACO returns an\n",
    "initial trajectory which is improved by GA. The aircraft in\n",
    "[15] must avoid no-fly zones, radars zones, missiles, and\n",
    "anti-aircraft guns. A three-dimensional scenario is assumed,\n",
    "and a Differential Evolution (DE) method is proposed for\n",
    "path planning. The robustness and convergence speed of DE\n",
    "outperforms 11 other algorithms from the literature.\n",
    "\n",
    "A hybrid method combines a multi-population genetic algorithm with the resolution of a linear programming model in\n",
    "[16]. A non-convex environment with uncertainties is assumed,\n",
    "and a visibility graph helps to encode all possible paths as\n",
    "individuals. A linear programming model is solved from such\n",
    "encoding, and the solution achieved will define the fitness of\n",
    "the individual as well as a possible path to be executed.\n",
    "The path replanning problem for UAVs, under an emergency\n",
    "landing, is approached by [17]. The authors proposed three\n",
    "path planning methods: a greedy heuristic, a simple genetic\n",
    "algorithm, and a multi-population genetic algorithm. The\n",
    "greedy heuristic stands for fast feasible paths, while the genetic\n",
    "algorithms return better quality trajectories.\n",
    "\n",
    "The Ray Casting technique used in this research was proposed by [18] for solids modelling systems. The complex\n",
    "solids are modelled by combining simpler solids, such as\n",
    "cylinders and pyramids, that receive a virtual light ray cast at\n",
    "their surface. RC is a reliable and extensible method presenting\n",
    "a high-grade performance in terms of execution time and is\n",
    "easily adapted to other scenarios. The authors in [19] apply RC\n",
    "as an acceleration technique for Graphical Processing Units\n",
    "(GPU), interpreting the solids as volume described by ray\n",
    "casting instead of object-order units. This work influenced the\n",
    "use of RC to render 3D meshes in movies, games and scientific\n",
    "visualization softwares.\n",
    "\n",
    "RC is applied for machine-tools in [20] to demonstrate the\n",
    "effectiveness of using graphics hardware on manufacturing\n",
    "problems. A NASA research presented in [6] a path planner for\n",
    "UAV systems using RC to detect and avoid obstacles, taking\n",
    "into account the safety of the mission. The planning algorithm\n",
    "also used a rapidly exploring random tree to find a suitable\n",
    "path.\n",
    "\n",
    "The present paper introduces a hybrid evolutionary algorithm to deal with the path planning with obstacles approached\n",
    "by [9]–[11], [16], but without handling the chance-constraint\n",
    "with risk allocation. Also, we apply the hybrid evolutionary\n",
    "algorithm for path planning as well as for path replanning\n",
    "under emergency landing. It is a different approach from\n",
    "[5], [16]. The path planning in [16] needs to solve a linear\n",
    "programming model, which can be difficult for a planning\n",
    "system embedded on the UAV as the one proposed here.\n",
    "The emergency path planners in [5] deal with risk allocation,\n",
    "and they are tailor-made for emergency landing, while our\n",
    "approach is less specific, but it can easily switch from path\n",
    "planning to emergency landing.\n"
   ]
  },
  {
   "cell_type": "markdown",
   "metadata": {
    "heading_collapsed": true
   },
   "source": [
    "## Problem"
   ]
  },
  {
   "cell_type": "markdown",
   "metadata": {
    "hidden": true
   },
   "source": [
    "The path planning problem with obstacles approached in this paper will optimize trajectories where the hard constraint is the obstacle avoidance. Thus, we must avoid the risk to hit a no-fly zone, which is represented by obstacles or regions where the UAV is not allowed to go through.  The optimization criterion is usually to reach the destination, where some soft constraints can also be satisfied, such as running a short trajectory, saving fuel or applying smooth manoeuvres. The problem is non-convex since the trajectory must avoid the no-fly zones through the path planning map. \n",
    "Figure 1 give us an example where the UAV must reach the goal point *End* from the start point *Begin*, avoiding collision with obstacles A and B.  \n",
    "\n",
    "<img src=\"images/problem.png\">\n",
    "Fig. 1. Path Planning problem illustration.\n",
    "\n",
    "We will also handle the emergency landing situation, where a path replanning must be executed over a stay-in region (landing area). Figure 2 gives us an example where the UAV must reach the goal point *End* from the start point *Begin*, avoiding collision with obstacles A and B, but when a situation happens, an emergency landing is executed over region C, recalculating the route to safely land.  \n",
    "\n",
    "<img src=\"images/problem_emergency.png\">\n",
    "Fig. 2. Path Replanning problem illustration.\n",
    "\n",
    "To sum up, the problem assumes the UAV must plan a trajectory to reach a destination, avoiding obstacles and optimizing some criterion. Also, if a situation happens, a path replanning is executed to reach a stay-in area. The stay-out (no-fly zones) and stay-in (landing areas) are previously known by the autonomous path planning system.\n"
   ]
  },
  {
   "cell_type": "markdown",
   "metadata": {
    "hidden": true
   },
   "source": [
    "### Problem Description"
   ]
  },
  {
   "cell_type": "markdown",
   "metadata": {
    "hidden": true
   },
   "source": [
    "A mathematical formulation for the path planning problem is presented next based on the formulation described in [9].\n",
    "\n",
    "Eq. 1.\n",
    "\\begin{equation}\n",
    "    \\text{Minimize}~~ \\Theta () = \\sum_t \\left\\Vert u_t\\right\\Vert\n",
    "    \\label{problem:obj}\n",
    "\\end{equation}\n",
    "\n",
    "Where:\n",
    "\n",
    "Eq. 2.\n",
    "\\begin{equation}\n",
    "    x_T = x_{goal}\n",
    "    \\label{problem:obj4.2}\n",
    "\\end{equation}\n",
    "\n",
    "Eq. 3.\n",
    "\\begin{equation}\n",
    "    x_{t+1} = Ax_t + B_{u_t} + \\mu_t \\text{,\\;~} \\forall(t)\n",
    "    \\label{problem:obj4.3}\n",
    "\\end{equation}\n",
    "\n",
    "Eq. 4.\n",
    "\\begin{equation}\n",
    "    x_t \\in \\mathbb{I}_j \\Leftrightarrow \\bigwedge\\limits_{i\\in H_j^\\mathbb{I}} h_i^T x_t \\leq g_i\n",
    "    \\label{problem:obj4.6}\n",
    "\\end{equation}\n",
    "\n",
    "Eq. 5.\n",
    "\\begin{equation}\n",
    "    x_t \\in \\mathbb{O}_j \\Leftrightarrow \\bigvee\\limits_{i\\in H_j^\\mathbb{O}} h_i^T x_t \\geq g_i\n",
    "    \\label{problem:obj4.7}\n",
    "\\end{equation}\n",
    "\n",
    "\n",
    "The objective function 1 will minimize some metric related to the mission planning such as distance, fuel consumption, collision risk, among others. The authors in [9] define the objective function as a cost proportional to the applied controllers magnitude. In the objective function 1,  $u_t$ can be the acceleration applied at each time step $t$ within the planning horizon $t=1,...,T$.\n",
    "\n",
    "The Constraint 2 defines that the last state of the UAV  must be the state defined by $x_{goal}$. The state variable $x_t$ can be represented, e.g., by the position and velocity of the UAV at time step $t$.  The state transitions are defined recursively by Constraints 3. \n",
    "\n",
    "\n",
    "The Constraints 4 and 5 describe stay-in and stay-out states in which $i \\in H_j$ is the hyperplane  that defines the convex regions for obstacles or landing regions. The obstacles are defined as the disjunction of linear constraints where the UAV must stay outside of one hyperplane at least, otherwise we have a collision. The landing regions are established as the junction of linear constraints where the UAV must stay-in during the path planning.\n"
   ]
  },
  {
   "cell_type": "markdown",
   "metadata": {},
   "source": [
    "## Methodology"
   ]
  },
  {
   "cell_type": "markdown",
   "metadata": {
    "heading_collapsed": true
   },
   "source": [
    "### Hybrid Genetic Algorithm"
   ]
  },
  {
   "cell_type": "markdown",
   "metadata": {
    "hidden": true
   },
   "source": [
    " The Genetic Algorithm receives as input an object that defines the mission the UAV must complete. The object contains one or more no-fly areas $({\\Phi_n}_i)$, an origin $(\\omega_o)$ and a destination $(\\omega_d)$ waypoint, all of them defined in the Cartesian system. The output is the Cartesian waypoints of the best route evolved. In this project, the best individual is abstracted as the best route. The hybridization aspect arises when the Ray Casting algorithm is applied to detect no-fly regions as well as landing areas. This happens during the fitness calculation.\n",
    "%The genetic algorithm performs an optimization on the fitness function \\eqref{eq:fitness} which is the problem's objective function \\eqref{problem:obj} that needs to be minimized. \n",
    "The pseudo-code (Algorithm 1) describes our algorithm.\n",
    "\n",
    "<img src=\"images/algorithm1.png\">\n",
    "Algorithm 1: Hybrid Genetic Algorithm\n",
    "\n",
    "[\\\\]: \"\\begin{algorithm}[!htb]\n",
    "     \\DontPrintSemicolon\n",
    "     \\label{alg:ga}\n",
    "      \\KwIn{Criteria: stop\\_criteria; Int: crossover\\_rate, population\\_size; Map: map}\n",
    "     \\KwOut{Route: best\\_route}\n",
    "     %population $\\leftarrow$ Genesis()\\\\\n",
    "     \\While{not stop\\_criteria}{\n",
    "        Initialize\\_Routes(population)\\\\\n",
    "        Evaluate\\_Fitness(population, map)\\\\\n",
    "         \\Repeat{not converge}{\n",
    "             \\For{i=1 to crossover\\_rate x population\\_size}{\n",
    "                 parents $\\leftarrow$ Tournament(population)\\\\\n",
    "                 offspring $\\leftarrow$ Crossover(parents)\\\\\n",
    "                 Mutation(offspring)\\\\\n",
    "                 Evaluate\\_Fitness(offspring)\\\\\n",
    "                 Insert(offspring)\\\\\n",
    "             }\n",
    "         }\n",
    "     }\n",
    "     \\Return best\\_route\n",
    "     \\newline\n",
    "  \\caption{Hybrid Genetic Algorithm}\n",
    " \\end{algorithm}\"\n",
    "\n",
    "The stop criterion in our computation experiments is the execution time. The selection for reproduction,  crossover and mutation operators are executed while there is no convergence. A new individual is inserted if it has better fitness value than one of its parents. The method converges when no new individuals are inserted in the population, after a total of $crossover\\_rate \\times population\\_size$ individuals has been created. In this case, all individuals are reinitialized, except by the best one. \n"
   ]
  },
  {
   "cell_type": "markdown",
   "metadata": {
    "heading_collapsed": true
   },
   "source": [
    "### Individual"
   ]
  },
  {
   "cell_type": "markdown",
   "metadata": {
    "hidden": true
   },
   "source": [
    "The solution encoding of the GA has the controllers that a UAV needs to perform a trajectory. Thus, the individual is described as a set of values applied to change the  UAV position from one time step to another. The decoding of such individual will return the set of states $\\left[x_t, y_t, v_t, \\alpha_t\\right]$ of the aircraft through the time steps $t$. \n",
    "\n",
    "Let $T$ be the planning horizon size that has the quantity of time steps or waypoints that is desired to compute. The individual is defined  for $t = 1, \\ldots T$ as follow:\n",
    "\n",
    "\\begin{equation*}\n",
    "    \\begin{aligned}\n",
    "        DNA &= [ gene_1,gene_2,\\ldots,gene_t,\\ldots,gene_T ] \\\\\n",
    "        gene_t &= (a_t, e_t)\n",
    "    \\end{aligned}\n",
    "\\end{equation*}\n",
    "\n",
    "where:\n",
    "- a := UAV's acceleration (meters/second$^2$)\n",
    "- e := UAV's angle (degrees)\n",
    "\n",
    "This representation of individual allows the route to move forward with increasing and decreasing velocity and changing angle freedom, constrained by the UAV design. The individual represents the movement in a vectored form. To imply the Cartesian position where this vector leads, it is needed to decode each of the individual's gene. Define $\\gamma DNA$ the set of UAV controllers, i.e. the decoded DNA, for $t = 1, \\ldots T$: \n",
    "\\begin{equation*}\n",
    "    \\begin{aligned}\n",
    "        \\gamma DNA &= [ \\gamma gene_1, \\ldots \\gamma gene_T]\\\\\n",
    "        \\gamma gene_t &= (x_t, y_t, v_t, \\alpha_t)\n",
    "    \\end{aligned}\n",
    "\\end{equation*}\n",
    "\n",
    "where:\n",
    "- $x_t$ := UAV's position on the X axis (meters)\n",
    "- $y_t$ := UAV's position on the Y axis (meters)\n",
    "- $v_t$ := Horizontal UAV's velocity (meters/second)\n",
    "- $\\alpha_t$ := Horizontal UAV's angle (direction) (degrees)\n",
    "\n",
    "Figure 3 illustrates the individual encode and decoding representation.\n",
    "\n",
    "<img src=\"images/individual_dna.png\">\n",
    "Fig. 3. Individual's encoding and decoding\n",
    "\n",
    "To decode each gene and generate the $\\gamma DNA$ with $\\gamma gene$s, it is applied the function 6. It transforms the vectors describing the acceleration and angle to a new interpretation, which represents the $x$ and $y$ coordinates, the velocity and the horizontal angle. Thus, $DNA$ represents transitions, and the decoded $\\gamma DNA$ represents states. Let $\\Gamma$ be the function that decodes a gene:\n",
    "\n",
    "Eq. 6.\n",
    "\\begin{equation}\n",
    "    \\Gamma(gene) = \n",
    "    \\begin{cases}\n",
    "        x_{t+1} & = x_t + v_t \\cdot \\cos(\\alpha_t) \\cdot \\Delta T \\\\\n",
    "        &+ a_t \\cdot \\cos{(\\alpha_t)} \\cdot \\frac{\\Delta T^2}{2}\\\\\n",
    "        y_{t+1} & = y_t + v_t \\cdot \\sin(\\alpha_t) \\cdot \\Delta T\\\\\n",
    "        &+ a_t \\cdot \\sin{(\\alpha_t)} \\cdot \\frac{\\Delta T^2}{2}\\\\\n",
    "        v_{t+1} & = v_t + a \\cdot \\Delta T - \\frac{F \\cdot \\Delta T}{m}\\\\\n",
    "        \\alpha_{t+1} & = \\alpha + e \\cdot \\Delta T\n",
    "    \\end{cases}\n",
    "    \\label{eq:decode}\n",
    "\\end{equation}\n",
    "\n",
    "\n",
    "Where $\\Delta T$ is time variation between two consecutive time steps.\n",
    "The $F$ term is the drag equation (This particular equation was obtained from [5]), defined by Equation 7, that is used to estimate better the position and the movement of the UAV on the air. \n",
    "\n",
    "Eq. 7.\n",
    "\\begin{equation}\n",
    "    F = 0.5 \\cdot Cd \\cdot \\rho \\cdot A \\cdot v_t^2\n",
    "    \\label{eq:F}\n",
    "\\end{equation}\n",
    "\n",
    "The drag equation allows to determine the strength that an object is subjected to when passing through a fluid (In this case, the fluid is the air.). The constants $Cd$ (The drag coefficient considered was the same for an *angled cube*, which is $0.8$.), $\\rho$ (The specific fluid mass, a.k.a. density, used was $1.225$ given in k/m$^3$.) and $A$ (Area of reference.) are defined according to the UAV's and environment's conditions.\n"
   ]
  },
  {
   "cell_type": "markdown",
   "metadata": {
    "heading_collapsed": true
   },
   "source": [
    "### Fitness"
   ]
  },
  {
   "cell_type": "markdown",
   "metadata": {
    "hidden": true
   },
   "source": [
    "\n",
    "The Equation 8 defines the fitness function\n",
    "\n",
    "Eq. 8.\n",
    "\\begin{equation}\n",
    "    \\begin{aligned}\n",
    "    fitness =\n",
    "    &~C_{dist} \\cdot f_{dist} + C_{obs} \\cdot f_{obs} \\\\\n",
    "    &+  C_{curv} \\cdot f_{curv} +  C_{cons} \\cdot f_{cons} \\\\\n",
    "    &+  C_{T} \\cdot f_{T}\n",
    "    \\end{aligned}\n",
    "    \\label{eq:fitness}\n",
    "\\end{equation}\n",
    "\n",
    "The first term penalizes the distance from the last waypoint to the destination one. This is done  by calculating the Euclidean distance between those two points in Equation  9. If the distance is less than a threshold $\\epsilon$, it is set zero.\n",
    "\n",
    "Eq. 9.\n",
    "\\begin{equation}\n",
    "    f_{dist} = \\sqrt{{(\\omega_d^x - \\gamma gene_T^x)}^2 + {(\\omega_d^y - \\gamma gene_T^y)}^2}\n",
    "    \\label{eq:fit:dist}\n",
    "\\end{equation}\n",
    "\n",
    "The second term penalizes the flight over no-fly zones. In this case, the Ray Casting algorithm is applied to detect such constraint violation. Let $\\omega_i$ be the waypoint described by $(\\gamma gene_i^x, \\gamma gene_i^y)$. Let $\\overline{\\omega_i,\\omega_j}$ be the segment that connects two waypoints: $\\omega_i$ and $\\omega_j$. The Equation 10 describes the obstacle fitness function (When t=T, set t+1=0):\n",
    "\n",
    "Eq. 10.\n",
    "\\begin{equation}\n",
    "    f_{obs} = \n",
    "    \\begin{cases}\n",
    "        &\\sum_{t=0}^{T} \\sum_{n=0}^{N} RC_P(\\omega_t, \\Phi_n) \\\\\n",
    "        &+ RC_S(\\omega_t, \\omega_{t+1}, \\Phi_n)\n",
    "    \\end{cases}\n",
    "    \\label{eq:fit:obs}\n",
    "\\end{equation}\n",
    "\n",
    "Eq. 11.\n",
    "\\begin{equation}\n",
    "    RC_P(\\omega, \\Phi) = \n",
    "    \\begin{cases}\n",
    "        1 & \\text{, if } \\omega \\in \\Phi\\\\\n",
    "        0 & \\text{, otherwise}\n",
    "    \\end{cases}\n",
    "    \\label{eq:fit:RC_P}\n",
    "\\end{equation}\n",
    "\n",
    "Eq. 12.\n",
    "\\begin{equation}\n",
    "    RC_S(\\omega_i, \\omega_j, \\Phi) = \\sum_{n=0}^{N} \\lvert \\overline{\\omega_i,\\omega_j} \\bigcap \\Phi_n \\rvert\n",
    "    \\label{eq:fit:RC_S}\n",
    "\\end{equation}\n",
    "\n",
    "The Equations 11 and 12 describes the results from the Ray Casting algorithm that are further explained in the next subsection. The Equation 11 evaluates those waypoints inside obstacles, while Equation 12 finds the segments that go through some obstacle or no-fly zones.\n",
    "Equation 13  indicates the third term of the fitness function, which penalizes routes with lots of curves by summing up the angle between each segment of the route. \n",
    "\n",
    "Eq. 13.\n",
    "\\begin{equation}\n",
    "    f_{curv} = \\dfrac{1}{e_{max}} \\cdot \\sum_{t=0}^{T} {gene_t^e} \n",
    "    \\label{eq:fit:curv}\n",
    "\\end{equation}\n",
    "\n",
    "Straighter routes can be simplified by transforming three or more collinear waypoints into two, that way, the information passed to the autopilot is reduced, decreasing the chance of future communication problems with the UAV. Due to that, smoother routes are rewarded. The fourth fitness term is given by Equation 14, and it takes into account the fuel consumption. \n",
    "\n",
    "Eq. 14.\n",
    "\\begin{equation}\n",
    "    f_{cons} = \\sum_{t=0}^{T} {gene_t^a}^2 \n",
    "    \\label{eq:fit:cons}\n",
    "\\end{equation}\n",
    "\n",
    "To simplify the introduction of fuel consumption on the fitness function, it is interpreted as the total route's sum of squared accelerations. Longer the route, more significant the fitness. This forces the algorithm to find the shortest route, saving fuel and completing the mission faster.\n",
    "\n",
    "We are not assuming a fixed number of time steps $T$ for the trajectory. The proposed GA will optimize the number of time steps. This is done by including on the fitness function the $T$ parameter. Thus, the Equation 15 counts the number of time steps on the individual's encoding.  \n",
    "\n",
    "Eq. 15.\n",
    "\\begin{equation}\n",
    "    f_{T} = \\overline{T} \n",
    "    \\label{eq:fit:T}\n",
    "\\end{equation}\n",
    "\n",
    "The total values of the fitness function must be minimized, which means that the better individuals will have a reduced fitness value. However, if an emergency landing becomes necessary, Equation 9 is replaced by Equation 16.\n",
    "\n",
    "Eq. 16.\n",
    "\\begin{equation}\n",
    "    f_{landing} = \n",
    "    \\begin{cases}\n",
    "        &\\sum_{n=0}^{N} RC_L(\\omega_{\\overline{T}}, \\Psi_n)\n",
    "    \\end{cases}\n",
    "    \\label{eq:fit:land}\n",
    "\\end{equation}\n",
    "\n",
    "Eq. 17.\n",
    "\\begin{equation}\n",
    "    RC_L(\\omega, \\Psi) = \n",
    "    \\begin{cases}\n",
    "        1 & \\text{, if } \\omega \\in \\Psi\\\\\n",
    "        0 & \\text{, otherwise}\n",
    "    \\end{cases}\n",
    "    \\label{eq:fit:RC_L}\n",
    "\\end{equation}\n",
    "\n",
    "Where $\\Psi$ represents a stay-in (landing) area and the last time step $\\overline{T}$ must be within some $\\Psi$.\n",
    "\n",
    "%Expansion to bonification and penalization areas, expanding the fitness function and redefining the problem to consider those areas as part of the minimization problem. "
   ]
  },
  {
   "cell_type": "markdown",
   "metadata": {
    "heading_collapsed": true
   },
   "source": [
    "### Operators"
   ]
  },
  {
   "cell_type": "markdown",
   "metadata": {
    "hidden": true
   },
   "source": [
    "The initialization operator generates individuals following two steps. First, the number of time steps $\\overline{T}$ is randomly selected from $\\{1,\\ldots,T\\}$. Moreover, individuals with different number of time steps can be created. Second, the pair of values $gene_t=\\left(a_t,e_t\\right)$ for each gene is randomly taken with $a_t\\in[a_{min},a_{max}]$ and $e_t\\in[e_{min},e_{max}]$. \n",
    "\n",
    "The selection operator for reproduction is the Tournament [21] with size two. Thus, it is randomly selected two individuals from the population, and the best one is chosen as the first parent. The second parent is selected following the same steps.\n",
    "\n",
    "The new individual is generated by randomly choosing between OX and BLX-$\\alpha$ crossover operators for the two parents.\n",
    "These operators are applied as follows:\n",
    "\n",
    "- OX: The offspring genes are randomly selected between $parent_1$'s or $parent_2$'s gene;\n",
    "- BLX-$\\alpha$: It is taken the medium for each of $parent_1$'s and $parent_2$'s gene's elements and modified by a small value.\n",
    "\n",
    "[\\\\]: \"\\begin{itemize}\n",
    "    \\item \\textbf{OX}: The offspring genes are randomly selected between $parent_1$'s or $parent_2$'s gene;\n",
    "    \\item \\textbf{BLX-$\\alpha$}: It is taken the medium for each of $parent_1$'s and $parent_2$'s gene's elements and modified by a small value.\n",
    "\\end{itemize}\"\n",
    "\n",
    "The mutation operator is performed over each of the new genes with a probability $Pr(\\text{mutation})$ of mutating or not the gene. There were defined four operators that perform mutation. Each operator is randomly selected with equal chance.\n",
    "\n",
    "- Creep: It is added or subtracted a small random value from each gene's element;\n",
    "- Change: Each gene has a probability of 50\\% of being replaced by a random generated new gene;\n",
    "- Insert: It is inserted a single randomly generated gene anywhere on the DNA, if after muting $T \\leq T_{max}$;\n",
    "- Remove: A random gene is removed from the DNA, if after muting $T \\geq T_{min}$.\n",
    "    \n",
    "[\\\\]: \"\\begin{itemize}\n",
    "    \\item \\textbf{Creep}: It is added or subtracted a small random value from each gene's element;\n",
    "    \\item \\textbf{Change}: Each gene has a probability of 50\\% of being replaced by a random generated new gene;\n",
    "    \\item \\textbf{Insert}: It is inserted a single randomly generated gene anywhere on the DNA, if after muting $T \\leq T_{max}$;\n",
    "    \\item \\textbf{Remove}: A random gene is removed from the DNA, if after muting $T \\geq T_{min}$.\n",
    "\\end{itemize}\""
   ]
  },
  {
   "cell_type": "markdown",
   "metadata": {
    "heading_collapsed": true
   },
   "source": [
    "### Ray Casting"
   ]
  },
  {
   "cell_type": "markdown",
   "metadata": {
    "hidden": true
   },
   "source": [
    "The Ray Casting algorithm is applied during the fitness calculation to identify obstacles in Equation 10 or landing areas in Equation 16. As previously mentioned, this algorithm is widely used in computer graphics field, especially for rendering 3D scenes for games and animation movies. \n",
    "\n",
    "RC simulates the path a light ray makes when inserted on an environment, by calculating the trajectory of the ray from the light source until it reaches an object. Further developments on the Ray Casting simulated the reflex of objects and the projection of new rays. Given a 2D polygon and a point, a ray is cast from the point to the infinite. If this ray crosses an even number of the polygon's edge, the point is outside the polygon, if it crossed an odd number, then it is inside the polygon.\n",
    "\n",
    "For the path planning problem, the Ray Casting algorithm is employed here to avoid collision with a no-fly area. This is done by casting horizontal rays from each waypoint of the route. Next, it is calculated how many times the ray cast intercepted the polygon formed by the area. If the ray intercepted the area an odd number, the waypoint is inside the area, if it intercepted an even number, then the waypoint is outside of the area.\n",
    "\n",
    "The Ray Casting algorithm implemented in this work consists of a two-fold algorithm. The first one, the *Point in Polygon* RC is used to check if a given polygon contains a point. This algorithm is employed by Equation 11 and it uses the logic of casting a horizontal ray in the direction of the positive axis (i.e. to the right on Cartesian) and counts the number of areas edges intersections, establishing if it is inside or not the area. The *Point in Polygon* RC is used to check for every waypoint of the route the relational position colliding with any obstacle.\n",
    "\n",
    "The second RC is the *Segment intersects Segment*. This algorithm is important because the notion of waypoints is only an abstraction for the UAV's controller to trace a motion vector that drives the airship along some path. Due to that, it is not only necessary to check if the waypoints are colliding with obstacles but to check if any part of the UAV's route is colliding.\n",
    "\n",
    "It works by checking the orientation of each segment of the route with each edge of the no-fly areas. For a pair of following waypoints belonging to the route, a ray is cast between them, i.e. a connection. It is then checked with the area's edges. If the orientation of the points indicates both segments intersect between themselves, the route is then penalized. Otherwise, the route does not receive a penalty when the segments are not intersecting. This is described by Equation 12.\n",
    "\n",
    "Equation 17 is also related to the *Point in Polygon* RC. The goal of this equation is to check if the route's last waypoint, the landing point, arrived at a safe zone  or not, allowing the UAV to safely land. To verify if the point is contained inside the polygon formed by the safe zone, the Ray Casting algorithm is applied as described for the *Point in Polygon* RC.\n",
    "\n",
    "As the Ray Casting algorithm is not widely used for path planning and geophysical methods, a previous evaluation of the proposed algorithms was necessary. It was made a stress test over the algorithms, executing many cases and inspecting the results. First, the evaluation of checking if a given waypoint is inside a polygon used the algorithm *Point in Polygon*. The process selected a thousand points $\\omega$ and assigned to them uniformly distributed values for its $x$ and $y$ coordinates, where the Equation 18 describes the process of selecting the coordinates.\n",
    "\n",
    "\\begin{equation}\n",
    "    \\omega_i = \\{x,y\\},~~ x \\in U[1,6] ~~\\text{and}~~  y \\in U[1,6] ~~~~ \\forall i \\in [1,1000]\n",
    "    \\label{eq:res:pip}\n",
    "\\end{equation}\n",
    "\n",
    "The generated points were inferred to see if they were inside a defined no-fly area. Figure 4 shows the results of the algorithm, where each cross represents a waypoint, and the square on the centre is the non-navigable area. The label \"T\" stands for *True* along with the colour green, i.e. the point is **inside** the polygon. The label \"F\" stands for *False* along with the colour purple, indicating that the point is **outside** the area. The result shows that for every point tested the classification is right.\n",
    "\n",
    "<img src=\"images/rc_pip.png\">\n",
    "Figure 3: Stress test for the Point in Polygon Ray Casting Algorithm.\n",
    "\n",
    "[\\\\]: \"\\begin{figure}[!htb]\n",
    "    \\centering\n",
    "    \\includegraphics[width=0.7\\columnwidth]{images/rc_pip}\\\\\n",
    "    \\caption{Stress test for the \\emph{Point in Polygon} Ray Casting Algorithm.}\n",
    "    \\label{fig:rc_pip}\n",
    "\\end{figure}\""
   ]
  },
  {
   "cell_type": "code",
   "execution_count": 2,
   "metadata": {
    "hidden": true
   },
   "outputs": [
    {
     "name": "stdout",
     "output_type": "stream",
     "text": [
      "CPU times: user 3 s, sys: 693 ms, total: 3.7 s\n",
      "Wall time: 2.6 s\n"
     ]
    }
   ],
   "source": [
    "%%time\n",
    "# Code to run the stress test for the Point in Polygon Ray Casting Algorithm\n",
    "\n",
    "from src.naboo.model import CartesianPoint\n",
    "from src.naboo.utils import point_in_polygon\n",
    "from src.naboo.visualization import plot_map\n",
    "\n",
    "# Defines the quantity of points\n",
    "qty_points = 1000\n",
    "\n",
    "# Define the vertex of the obstacle\n",
    "verts1 = [\n",
    "    (2.5, 2.5), # left, bottom\n",
    "    (2.5, 4.5), # left, top\n",
    "    (4.5, 4.5), # right, top\n",
    "    (4.5, 2.5), # right, bottom\n",
    "]\n",
    "verts1.append(verts1[0])\n",
    "verts1 = [CartesianPoint(v[0], v[1]) for v in verts1]\n",
    "\n",
    "texts = []\n",
    "wps = []\n",
    "for i in range(qty_points):\n",
    "    x = random.uniform(1,6)\n",
    "    y = random.uniform(1,6)\n",
    "    \n",
    "    wp = CartesianPoint(x,y)\n",
    "    wps.append(wp)\n",
    "    texts.append(str(point_in_polygon(wp, verts1))[0])\n",
    "    \n",
    "plot_map(\n",
    "    areas=[verts1], \n",
    "    labels=['n'], \n",
    "    texts=texts,\n",
    "    points=wps,\n",
    "    wp_style='x',\n",
    "    title='Ray Casting Algorithm - Point in Polygon Stress Test, wp={}'.format(qty_points),\n",
    "    stress=True\n",
    ")"
   ]
  },
  {
   "cell_type": "markdown",
   "metadata": {
    "hidden": true
   },
   "source": [
    "\n",
    "The second algorithm needed for the obstacle collision detection considers the intersections between the area's edges and the segment connecting two waypoints, it is called the *Segment Intersects Segment* Ray Casting algorithm. The stress test for this algorithm  followed the same steps as the *Point in Polygon*, although this time the process of selecting the coordinates is expressed on Equation 19.\n",
    "\n",
    "\\begin{equation}\n",
    "    \\begin{aligned}\n",
    "        \\overline{\\omega_a\\omega_b}_i &:= \\text{line segment connecting}~\\omega_a~\\text{with}~\\omega_b,~\\forall i \\in [1,15]\\\\\n",
    "        \\omega &= \\{x,y\\},~~ x,y \\in U[1,6]\n",
    "        \\label{eq:res:sis}\n",
    "        \\end{aligned}\n",
    "\\end{equation}\n",
    "\n",
    "The results are displayed by Figure 5, showing the algorithm performs as expected. The green lines represent the classification as *True*, i.e. the segment $\\overline{\\omega_a\\omega_b}_i$ intersects at least one edge of the polygon. The purple lines represent the *False* label. An interesting note about this execution is that the segment F4 (F stands for *False* and the number is an identifier) is **inside** the polygon and does not cross any edges. It occurs as expected since the algorithm is built to detect intersections only. There is no problem this segment not being penalized by this algorithm because, when running the **Point in Polygon** RC, the algorithm will find the two waypoints inside the area, penalizing them.\n",
    "\n",
    "<img src=\"images/rc_sis.png\">\n",
    "Figure 4: Stress test for the Segment intersects Segment Ray Casting Algorithm\n",
    "\n",
    "[\\\\]: \"\\begin{figure}[!htb]\n",
    "    \\centering\n",
    "    \\includegraphics[width=0.7\\columnwidth]{images/rc_sis}\\\\\n",
    "\\caption{Stress test for the \\emph{Segment intersects Segment} Ray Casting Algorithm}\n",
    "    \\label{fig:rc_sis}\n",
    "\\end{figure}\"\n"
   ]
  },
  {
   "cell_type": "code",
   "execution_count": 3,
   "metadata": {
    "hidden": true
   },
   "outputs": [
    {
     "name": "stdout",
     "output_type": "stream",
     "text": [
      "CPU times: user 38.4 ms, sys: 4.68 ms, total: 43.1 ms\n",
      "Wall time: 37.3 ms\n"
     ]
    },
    {
     "data": {
      "image/png": "[encoded data removed]",
      "text/plain": [
       "<Figure size 576x576 with 1 Axes>"
      ]
     },
     "metadata": {
      "needs_background": "light"
     },
     "output_type": "display_data"
    }
   ],
   "source": [
    "%%time\n",
    "# Code to run the stress test for the Segment intersects Segment Ray Casting Algorithm\n",
    "\n",
    "from src.naboo.model import CartesianPoint\n",
    "from src.naboo.utils import segment_in_polygon\n",
    "from src.naboo.visualization import plot_map\n",
    "\n",
    "# Define the quantity of segments\n",
    "qty_segments = 15\n",
    "\n",
    "# Define the vertex of the obstacle\n",
    "verts1 = [\n",
    "    (2.5, 2.5), # left, bottom\n",
    "    (2.5, 4.5), # left, top\n",
    "    (4.5, 4.5), # right, top\n",
    "    (4.5, 2.5), # right, bottom\n",
    "]\n",
    "verts1.append(verts1[0])\n",
    "verts1 = [CartesianPoint(v[0], v[1]) for v in verts1]\n",
    "\n",
    "texts = []\n",
    "segments = []\n",
    "for i in range(qty_segments):\n",
    "    x = random.uniform(1,6)\n",
    "    y = random.uniform(1,6)\n",
    "    wp1 = CartesianPoint(x,y)\n",
    "\n",
    "    x = random.uniform(1,6)\n",
    "    y = random.uniform(1,6)\n",
    "    wp2 = CartesianPoint(x,y)\n",
    "\n",
    "    segment = [wp1, wp2]\n",
    "    segments.append(segment)\n",
    "    texts.append(str(segment_in_polygon(wp1, wp2, verts1))[0])\n",
    "    \n",
    "plot_map(\n",
    "    areas=[verts1], \n",
    "    labels=['n'], \n",
    "    texts=texts,\n",
    "    segments=segments,\n",
    "    wp_style='-x',\n",
    "    title='RC Algorithm - Segment intersects Segment Stress Test, segments={}'.format(qty_segments),\n",
    "    stress=True\n",
    ")"
   ]
  },
  {
   "cell_type": "markdown",
   "metadata": {},
   "source": [
    "## Results"
   ]
  },
  {
   "cell_type": "markdown",
   "metadata": {},
   "source": [
    "### Genetic Algorithm for Mission"
   ]
  },
  {
   "cell_type": "markdown",
   "metadata": {},
   "source": [
    "The proposed path planning is expected to be resilient to a variety of environments, aiming to perform well in real-world scenarios. The testing of such resilience is made by simulating 50 different random generated maps proposed by [16]. Each map contained 20 quadrilateral no-fly areas, randomly assembled. Intersection of those areas were allowed. For all maps, the origin and destination waypoints were the same, being the points $(0,0)$ and $(-10,0)$, respectively. \n",
    "\n",
    "The algorithms were tested simulating the real environment, which is embedded on a UAV. The tests were executed on a Raspberry PI model B running Linux Ubuntu operating system, with 1.2GHz Quad-Core processor and 1GB of RAM, this device is well suited to fit a UAV. All algorithms and systems for those tests were written in Python. The use of a Raspberry PI is taken into consideration in this work due to its capability of being well suited for an embedded environment and to its computational power capable of running a vast suite of softwares for controlling the UAV and the proposed algorithms.\n",
    "\n",
    "The fitness function contains a set of parameters that influences the algorithm's performance. Three different sets of parameters were tested to verify the performance of the algorithms over the maps. The parameters for the tests execution are presented on Table I.\n",
    "\n",
    "<img src=\"images/table_1.png\">\n",
    "\n",
    "The stop criterion is the time limit of  180 sec to find the best trajectory for each map. To evaluate the solutions obtained,  two labels were created. The label \"Feasible\" represents routes that arrive to the destination within less than 2 meters of radius from destination point, and they do not hit any obstacles. Otherwise, the label \"Infeasible\" is applied. This one can be subdivided in two categories: one that represents routes that hit an obstacle (infeasibility by obstacle) and one where the last waypoint is too far from the destination (infeasibility by distance).\n",
    "\n",
    "<img src=\"images/table_2.png\">\n",
    "\n",
    "Table II shows the percentage of maps that its best individual completed the task successfully. *Mode C* parameters provided the best results, with 92\\% of best individuals being feasible and possible to be applied to the real-world.\n",
    "\n",
    "It is relevant to highlight that neither configuration modes got routes infeasible by obstacle, which means that none best solution hit any obstacle. Further analysis of the results provided by the best parameter set mode (C) were made. Figure 6 shows, for each time step of one second, the cumulative summation of feasible individuals generated.\n",
    "\n",
    "<img src=\"images/feasible_over_time_mode_C_alt.png\">\n",
    "Fig. 6. Cumulative summation of feasible individuals for Mode C, showing the average, min and max values over execution time. The blue line represents the average value for each time step, the upper bound of the region represents the maximum values encountered, and the lower represents the minimum values.\n",
    "\n",
    " Those values are obtained by averaging individuals spawning along the 50 maps. It can be seen that feasible routes appear early in the execution, indicating the applicability in real-time planning.\n",
    "\n",
    "An interesting point to notice is that when the execution took much time, i.e., the algorithm iterated over many generations, the last waypoint of the route $\\omega_T$ did not hit exactly the destination point $\\omega_d$. The $\\omega_T$ stays the furthest it can, respecting the delimited precision restriction and minimizing the fuel consumption. That happens due to the penalization on longer routes, as getting closer to $\\omega_d$ would increase the route's length, this solution would have a worse fitness than the solution in which the route is shorter. Hence, the algorithm bonuses shorter routes that consume less fuel and yet arrives at the correct destination inside the imposed threshold. This fact leads us to notice the algorithm's optimization ability and the importance of defining the value of each constraint correctly when planning the trajectory.\n"
   ]
  },
  {
   "cell_type": "markdown",
   "metadata": {},
   "source": [
    "### Emergency Landing"
   ]
  },
  {
   "cell_type": "markdown",
   "metadata": {},
   "source": [
    "The second evaluation is about the emergency landing. When conducting a route, UAVs are subjected to uncertainties that some times can lead to emergencies, requiring to land as soon as possible in a safe area.\n",
    "Using the same 50 previously mentioned maps, a total from one to four safe areas replaced the no-fly zones. \n",
    "\n",
    "The best parameters from the last test were used to run the algorithm over all the maps, in a time frame of 180 sec as well. The penalty applied over Equation 16 is -10000, which means a reward for the fitness function.\n",
    "\n",
    "\n",
    "The results reported that 84\\% of solutions were feasible, being able to land in one of the safe zones. The other 16\\% solutions did not find a feasible path, but none of the solutions were infeasible by obstacle. This means that the aircraft landed far from the safe region. Figure 7 shows the minimum, maximum and average time to find the first feasible solution when solving the 50 maps.\n",
    "\n",
    "<img src=\"images/barra.png\">\n",
    "Fig. 7. Minimum, average and maximum time spent to find a feasible solution.\n",
    "\n",
    "\n",
    "Figure 8 illustrate a solution where the UAV is submitted to an emergency and replan its route to land on a safe zone, avoiding the obstacles.\n",
    "\n",
    "\n",
    "<img src=\"images/mode_EMC_map_03_exec_1_best.png\">\n",
    "Fig. 8. Solution on an emergency landing. Grey squares represent the no-fly areas, blue squares the bonus zone for safety landing, route's waypoints are the x marker along the purple line and the origin and destination waypoints on $(0,0)$ and $(-10,0)$ respectively.\n"
   ]
  },
  {
   "cell_type": "code",
   "execution_count": 4,
   "metadata": {
    "code_folding": []
   },
   "outputs": [],
   "source": [
    "# Import everything necessary\n",
    "\n",
    "import re\n",
    "import numpy as np\n",
    "import pandas as pd\n",
    "import matplotlib.pylab as pl\n",
    "import matplotlib.pyplot as plt\n",
    "import pickle\n",
    "import itertools\n",
    "\n",
    "from pathlib import Path as PPath\n",
    "from multiprocessing import Pool\n",
    "\n",
    "from src.naboo.model import CartesianPoint, Mapa\n",
    "from src.naboo.visualization import plot_map, vis_mapa\n",
    "\n",
    "from src.naboo.genetic import Genetic, Subject\n",
    "\n",
    "from reports.helper import read_bonus, separate_areas, sgl_read_areas, read_sgl, run_ags_over_path, get_specific, plot_fitness, get_parameter, make_globals"
   ]
  },
  {
   "cell_type": "code",
   "execution_count": 5,
   "metadata": {},
   "outputs": [],
   "source": [
    "# Define Paths\n",
    "\n",
    "MAPS_PATH = nb_dir + \"/data/maps/SGL/NonRegular/\"\n",
    "EXPERIMENTS_PATH = nb_dir + \"/experiments/\"\n",
    "BONUS_PATH = nb_dir + \"/data/maps/b_n/bonus_regions.txt\""
   ]
  },
  {
   "cell_type": "code",
   "execution_count": 6,
   "metadata": {},
   "outputs": [],
   "source": [
    "# Set Origin and Destination waypoints and labels, respectively\n",
    "\n",
    "wp_ori = CartesianPoint(0, 0)\n",
    "wp_des = CartesianPoint(0, -10)\n",
    "\n",
    "labels = read_bonus(BONUS_PATH)\n"
   ]
  },
  {
   "cell_type": "markdown",
   "metadata": {},
   "source": [
    "______________"
   ]
  },
  {
   "cell_type": "code",
   "execution_count": 7,
   "metadata": {},
   "outputs": [
    {
     "ename": "SyntaxError",
     "evalue": "'break' outside loop (<ipython-input-7-e9c6cd1bd9cc>, line 5)",
     "output_type": "error",
     "traceback": [
      "\u001b[0;36m  File \u001b[0;32m\"<ipython-input-7-e9c6cd1bd9cc>\"\u001b[0;36m, line \u001b[0;32m5\u001b[0m\n\u001b[0;31mSyntaxError\u001b[0m\u001b[0;31m:\u001b[0m 'break' outside loop\n"
     ]
    }
   ],
   "source": [
    "# Purposely added this cell to prevent a long execution for the next cells\n",
    "break"
   ]
  },
  {
   "cell_type": "code",
   "execution_count": null,
   "metadata": {},
   "outputs": [],
   "source": [
    "# The next three cells will run the same experiment for the 50 maps, \n",
    "# changing the parameters to the one mentioned on line 2 of each cell. \n",
    "# That will be modes EMA, EMC and EMF reported on Table II\n",
    "\n",
    "# !!! The next cells will take a lot of RAM memory, since it paralilezes the execution over multiple cores\n",
    "# !!! We previously added the results to this repository, so feel free to jump to the next section to only\n",
    "# !!! see the execution, or, if you like, try the single map running."
   ]
  },
  {
   "cell_type": "code",
   "execution_count": null,
   "metadata": {},
   "outputs": [],
   "source": [
    "def run_multiple():\n",
    "    pathlist = PPath(MAPS_PATH).glob(\"**/*.sgl\")\n",
    "\n",
    "    # Iterate over different maps in parallel\n",
    "    par_RC = get_parameter(MODE)\n",
    "    make_globals(labels, wp_ori, wp_des, par_RC, EXPERIMENTS_PATH, MODE, EXEC)\n",
    "    p = Pool(processes=50)\n",
    "    p.map(run_ags_over_path, pathlist)"
   ]
  },
  {
   "cell_type": "code",
   "execution_count": null,
   "metadata": {},
   "outputs": [],
   "source": [
    "MODE = \"EMA\"\n",
    "EXEC = \"1\"\n",
    "\n",
    "run_multiple()"
   ]
  },
  {
   "cell_type": "code",
   "execution_count": null,
   "metadata": {},
   "outputs": [],
   "source": [
    "MODE = \"EMC\"\n",
    "EXEC = \"1\"\n",
    "\n",
    "run_multiple()"
   ]
  },
  {
   "cell_type": "code",
   "execution_count": null,
   "metadata": {},
   "outputs": [],
   "source": [
    "MODE = \"EMF\"\n",
    "EXEC = \"1\"\n",
    "\n",
    "run_multiple()"
   ]
  },
  {
   "cell_type": "markdown",
   "metadata": {},
   "source": [
    "____"
   ]
  },
  {
   "cell_type": "code",
   "execution_count": null,
   "metadata": {},
   "outputs": [],
   "source": [
    "# This generates the figure from the same problem as Figure 8\n",
    "# It takes 3 minutes to run.\n",
    "\n",
    "\n",
    "# Use this cell to run a single file and show the output result\n",
    "\n",
    "MODE = \"EMC\"\n",
    "EXEC = \"1\"\n",
    "\n",
    "mapa_name = \"27\"\n",
    "\n",
    "par_RC = get_parameter(MODE)\n",
    "make_globals(labels, wp_ori, wp_des, par_RC, EXPERIMENTS_PATH, MODE, EXEC)\n",
    "ag = run_ags_over_path(MAPS_PATH + mapa_name + \".sgl\", show=True)"
   ]
  },
  {
   "cell_type": "markdown",
   "metadata": {},
   "source": [
    "-----"
   ]
  },
  {
   "cell_type": "code",
   "execution_count": null,
   "metadata": {},
   "outputs": [],
   "source": [
    "from reports.helper import check_feasibility\n",
    "import ast"
   ]
  },
  {
   "cell_type": "code",
   "execution_count": null,
   "metadata": {},
   "outputs": [],
   "source": [
    "\n",
    "pathlist = PPath(EXPERIMENTS_PATH).glob(\"**/mode_EMC*_exec_1_*.csv\")\n",
    "dfs = []\n",
    "map_numbers = []\n",
    "for i, path in enumerate(pathlist):\n",
    "    #print(path)\n",
    "    m = re.search(r'(_map_\\d*_)',str(path))\n",
    "    if m:\n",
    "        found = m.group(1)\n",
    "    number = re.sub(r\"[A-Za-z/\\-_\\.]\", \"\", found) \n",
    "    map_numbers.append(number)\n",
    "    \n",
    "    df = pd.read_csv(path)\n",
    "    df = df[df['birth_time']<=180] #trim\n",
    "    df['label'] = df['fitness_trace'].apply(lambda x: check_feasibility(x))\n",
    "    \n",
    "    df_feasible = pd.DataFrame(df[df['label']=='feasible'])\n",
    "    df_feasible['label_count_cumulative'] = 1\n",
    "    df_feasible['label_count_cumulative'] = df_feasible['label_count_cumulative'].cumsum()\n",
    "    \n",
    "    dfs.append(df_feasible)\n",
    "    \n",
    "    #if i == 5:\n",
    "     #   break\n",
    "\n",
    "legends = [f'Map {i}' for i in map_numbers]\n",
    "\n",
    "dic={}\n",
    "for df, legend in zip(dfs, legends):\n",
    "    grouped = df.groupby(df['birth_time'].apply(lambda x: round(x, 2))).count()\n",
    "    dic[f\"{legend}\"] = grouped['label_count_cumulative'].cumsum()\n",
    "\n",
    "    \n",
    "    \n",
    "dic = pd.DataFrame(dic)\n",
    "dic = dic.fillna(method='ffill')\n",
    "\n",
    "\n",
    "\n",
    "dic['Average'] = dic.mean(axis=1)\n",
    "dic['Min'] = dic.min(axis=1)\n",
    "dic['Max'] = dic.max(axis=1)\n",
    "\n",
    "ax = dic.plot(y='Average', c='white', use_index=True)\n",
    "dic['birth_time'] = dic.index\n",
    "plt.fill_between(x='birth_time', y1='Min', y2='Max', data=dic)\n",
    "plt.title(f'Feasible Individuals Over Time')\n",
    "plt.xlabel('Birth Time')\n",
    "plt.ylabel('Quantity of Feasible Individuals')\n",
    "plt.legend([])\n"
   ]
  },
  {
   "cell_type": "code",
   "execution_count": null,
   "metadata": {},
   "outputs": [],
   "source": [
    "df['label'].value_counts(normalize=True) * 100"
   ]
  },
  {
   "cell_type": "markdown",
   "metadata": {},
   "source": [
    "## Conclusion"
   ]
  },
  {
   "cell_type": "markdown",
   "metadata": {},
   "source": [
    "A hybrid genetic algorithm for path planning problem with obstacle avoidance was introduced in this paper. The novelty is the combination of genetic algorithm with Ray Casting algorithm to avoid obstacles and to find safe regions for an emergency landing. The path planning and replanning system, based on the proposed hybrid method, was executed with a Raspberry PI that can be embedded on the UAV. The method returned trajectories without hit any obstacles for all simulations done. For path planning, more than 90\\% of the trajectories reach the destination within the desired threshold, while a total of 84\\% trajectories landed the aircraft in safety regions. A reasonable amount of feasible solutions is found for both scenarios in less than 40 sec. The method is not compared against related approaches such as those proposed by [9], [11], [16] since these works solve linear models with exact approaches that do not run under Raspberry PI. As a future work, we will compare our approach against other planners for non-convex scenarios, based on methods such as A* or RRT. Also, we will evolve our hybrid GA to deal with 3D environments."
   ]
  },
  {
   "cell_type": "markdown",
   "metadata": {
    "heading_collapsed": true
   },
   "source": [
    "## Acknowledgment"
   ]
  },
  {
   "cell_type": "markdown",
   "metadata": {
    "hidden": true
   },
   "source": [
    "Research developed using computational resources of Centro de Ciências Matemáticas Aplicadas à Indústria (CeMEAI) supported by Fundação de Amparo à Pesquisa do Estado de São Paulo (FAPESP) - CEPID-CeMEAI (FAPESP 2013/07375-0)."
   ]
  },
  {
   "cell_type": "markdown",
   "metadata": {},
   "source": [
    "# References"
   ]
  },
  {
   "cell_type": "markdown",
   "metadata": {},
   "source": [
    "[1] O. of the Secretary of Defense, “Unmanned aircraft systems roadmap\n",
    "2005-2030,” 2005.\n",
    "\n",
    "[2] K. Lu, J. Xie, Y. Wan, and S. Fu, “Toward uav-based airborne computing,” IEEE Wireless Communications, 2019.\n",
    "\n",
    "[3] A. N. de Aviac¸ao Civil, ˜ Regras da ANAC para uso de drones entram em vigor, https://www.anac.gov.br/noticias/2017/regras-da-anacpara-uso-de-drones-entram-em-vigor/release drones v2.pdf, 2017.\n",
    "\n",
    "[4] H. Chen, X.-m. Wang, and Y. Li, “A survey of autonomous control for\n",
    "uav,” in 2009 International Conference on Artificial Intelligence and\n",
    "Computational Intelligence, vol. 2. IEEE, 2009, pp. 267–271.\n",
    "\n",
    "[5] J. da Silva Arantes, “Route planning for uavs with risk of critical failure:\n",
    "A security-based approach,” Master’s thesis, University of Sao Paulo,\n",
    "2016.\n",
    "\n",
    "[6] S. Balachandran, A. Narkawicz, C. Munoz, and M. Consiglio, “A ˜\n",
    "path planning algorithm to enable well-clear low altitude uas operation beyond visual line of sight,” in Twelfth USA/Europe Air Traffic\n",
    "Management Research and Development Seminar (ATM2017), 2017.\n",
    "\n",
    "[7] M. da Silva Arantes, “Hybrid qualitative state plan problem e o planejamento de missao com vants,” Doctorade, Universidade de S ˜ ao Paulo, ˜\n",
    "Sao Carlos, 2017. ˜\n",
    "\n",
    "[8] H. X. Li, “Kongming: A generative planner for hybrid systems with\n",
    "temporally extended goals,” Master’s thesis, Massachusetts Institute of\n",
    "Technology, 2010.\n",
    "\n",
    "[9] L. Blackmore, M. Ono, and B. C. Williams, “Chance-constrained\n",
    "optimal path plan- ning with obstacles,” IEEE Press, 2011.\n",
    "\n",
    "[10] K. ARIU, C. FANG, M. ARANTES, C. TOLEDO, and B. WILLIAMS,\n",
    "“Chance-constrained path planning with continuous time safety guarantees. 2017.”\n",
    "\n",
    "[11] M. da Silva Arantes, C. F. M. Toledo, B. C. Williams, and M. Ono,\n",
    "“Collision-free encoding for chance-constrained nonconvex path planning,” IEEE Transactions on Robotics, vol. 35, no. 2, pp. 433–448,\n",
    "2019.\n",
    "\n",
    "[12] Y. V. Pehlivanoglu, “A new vibrational genetic algorithm\n",
    "enhanced with a voronoi diagram for path planning\n",
    "of autonomous uav,” Aerospace Science and Technology,\n",
    "vol. 16, no. 1, pp. 47 – 55, 2012. [Online]. Available:\n",
    "http://www.sciencedirect.com/science/article/pii/S1270963811000356\n",
    "\n",
    "[13] A. Tuncer and M. Yildirim, “Dynamic path planning of mobile\n",
    "robots with improved genetic algorithm,” Comput. Electr. Eng.,\n",
    "vol. 38, no. 6, pp. 1564–1572, Nov. 2012. [Online]. Available:\n",
    "http://dx.doi.org/10.1016/j.compeleceng.2012.06.016\n",
    "\n",
    "[14] I. Chaari, A. Koub ˆ aa, S. Trigui, H. Bennaceur, A. Ammar, and K. Al- ˆ\n",
    "Shalfan, “Smartpath: An efficient hybrid aco-ga algorithm for solving the\n",
    "global path planning problem of mobile robots,” International Journal\n",
    "of Advanced Robotic Systems, 2014.\n",
    "\n",
    "[15] X. Zhang and H. Duan, “An improved constrained differential evolution\n",
    "algorithm for unmanned aerial vehicle global route planning.” Appl. Soft\n",
    "Comput, pp. 270–284, 2015.\n",
    "\n",
    "[16] M. d. S. Arantes, J. d. S. Arantes, C. F. M. Toledo, and B. C.\n",
    "Williams, “A hybrid multi-population genetic algorithm for uav path\n",
    "planning,” in Proceedings of the Genetic and Evolutionary Computation\n",
    "Conference 2016, ser. GECCO ’16. New York, NY, USA: Association\n",
    "for Computing Machinery, 2016, p. 853–860. [Online]. Available:\n",
    "https://doi.org/10.1145/2908812.2908919\n",
    "\n",
    "[17] J. d. Silva Arantes, M. d. Silva Arantes, C. F. Motta Toledo, O. T. Junior, ´\n",
    "and B. C. Williams, “Heuristic and genetic algorithm approaches for uav\n",
    "path planning under critical situation,” International Journal on Artificial\n",
    "Intelligence Tools, vol. 26, no. 01, p. 1760008, 2017.\n",
    "\n",
    "[18] S. D. Roth, “Ray casting for modeling solids,” Computer graphics and\n",
    "image processing, vol. 18, no. 2, pp. 109–144, 1982.\n",
    "\n",
    "[19] J. Kruger and R. Westermann, “Acceleration techniques for gpu-based\n",
    "volume rendering,” in Proceedings of the 14th IEEE Visualization 2003\n",
    "(VIS’03). IEEE Computer Society, 2003, p. 38.\n",
    "\n",
    "[20] J. A. Tarbutton, T. R. Kurfess, and T. M. Tucker, “Graphics based path\n",
    "planning for multi-axis machine tools,” Computer-Aided Design and\n",
    "Applications, vol. 7, no. 6, pp. 835–845, 2010.\n",
    "\n",
    "[21] B. L. Miller, D. E. Goldberg et al., “Genetic algorithms, tournament\n",
    "selection, and the effects of noise,” Complex systems, vol. 9, no. 3, pp.\n",
    "193–212, 1995."
   ]
  }
 ],
 "metadata": {
  "kernelspec": {
   "display_name": "Python 3",
   "language": "python",
   "name": "python3"
  },
  "language_info": {
   "codemirror_mode": {
    "name": "ipython",
    "version": 3
   },
   "file_extension": ".py",
   "mimetype": "text/x-python",
   "name": "python",
   "nbconvert_exporter": "python",
   "pygments_lexer": "ipython3",
   "version": "3.7.4"
  },
  "latex_envs": {
   "LaTeX_envs_menu_present": true,
   "autoclose": false,
   "autocomplete": true,
   "bibliofile": "biblio.bib",
   "cite_by": "apalike",
   "current_citInitial": 1,
   "eqLabelWithNumbers": true,
   "eqNumInitial": 1,
   "hotkeys": {
    "equation": "Ctrl-E",
    "itemize": "Ctrl-I"
   },
   "labels_anchors": false,
   "latex_user_defs": false,
   "report_style_numbering": false,
   "user_envs_cfg": false
  },
  "toc": {
   "base_numbering": 1,
   "nav_menu": {
    "height": "324px",
    "width": "250px"
   },
   "number_sections": false,
   "sideBar": true,
   "skip_h1_title": true,
   "title_cell": "Table of Contents",
   "title_sidebar": "Contents",
   "toc_cell": false,
   "toc_position": {
    "height": "calc(100% - 180px)",
    "left": "10px",
    "top": "150px",
    "width": "165px"
   },
   "toc_section_display": true,
   "toc_window_display": false
  }
 },
 "nbformat": 4,
 "nbformat_minor": 2
}
